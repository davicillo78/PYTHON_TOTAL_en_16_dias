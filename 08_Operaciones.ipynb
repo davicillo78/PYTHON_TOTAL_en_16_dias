{
 "cells": [
  {
   "cell_type": "markdown",
   "metadata": {},
   "source": [
    "## Operaciones matemáticas básicas ##"
   ]
  },
  {
   "cell_type": "code",
   "execution_count": 7,
   "metadata": {},
   "outputs": [
    {
     "name": "stdout",
     "output_type": "stream",
     "text": [
      "6 mas 2 es igual a 8\n",
      "6 menos 2 es igual a 4\n",
      "6 multiplicado por 2 es igual a 12\n",
      "6 dividido por 2 es igual a 3.0\n",
      "7 dividido por 2 es igual a 3\n",
      "7 dividido por 2 nos da un resto de 1\n",
      "6 elevado a 2 es 36\n",
      "6 elevado al cubo 3 es 216\n",
      "La raiz cuadrada de 6 es 3.0\n"
     ]
    }
   ],
   "source": [
    "x = 6\n",
    "y = 2\n",
    "z = 7\n",
    "\n",
    "print(f\"{x} mas {y} es igual a {x + y}\")\n",
    "print(f\"{x} menos {y} es igual a {x - y}\")\n",
    "print(f\"{x} multiplicado por {y} es igual a {x * y}\")\n",
    "print(f\"{x} dividido por {y} es igual a {x / y}\")\n",
    "\n",
    "# división al piso, nos muestra el valor entero de una división SIN REDONDEO\n",
    "print(f\"{z} dividido por {y} es igual a {z // y}\")\n",
    "\n",
    "# módulo de la división\n",
    "print(f\"{z} dividido por {y} nos da un resto de {z % y}\")\n",
    "\n",
    "# exponentes y potencias\n",
    "\n",
    "print(f\"{x} elevado a {y} es {x ** y}\")\n",
    "print(f\"{x} elevado al cubo {3} es {x ** 3}\")\n",
    "\n",
    "# Raices cuadradas\n",
    "\n",
    "print(f\"La raiz cuadrada de {x} es {x ** 1/2}\")"
   ]
  },
  {
   "cell_type": "markdown",
   "metadata": {},
   "source": [
    "## Redondeos ##"
   ]
  },
  {
   "cell_type": "code",
   "execution_count": 15,
   "metadata": {},
   "outputs": [
    {
     "name": "stdout",
     "output_type": "stream",
     "text": [
      "23.54\n",
      "13\n",
      "<class 'int'>\n",
      "12.8571\n",
      "<class 'float'>\n"
     ]
    }
   ],
   "source": [
    "# el redondeo de una operación se realiza mediante la función round()\n",
    "# la sintaxis es round(numero, numero de decimales)\n",
    "\n",
    "print(round(23.54356457 , 2))\n",
    "\n",
    "resultado = 90/7\n",
    "# cuando redondeamos sin decimales declarando una nueva variable, python declara el resultado como un int\n",
    "resultado2 = round(resultado)\n",
    "print(resultado2)\n",
    "print(type(resultado2))\n",
    "#pero no cuando imprimimos, ya que no modificamos la variable original\n",
    "print(round(resultado, 4))\n",
    "print(type(resultado))"
   ]
  }
 ],
 "metadata": {
  "kernelspec": {
   "display_name": "Python 3",
   "language": "python",
   "name": "python3"
  },
  "language_info": {
   "codemirror_mode": {
    "name": "ipython",
    "version": 3
   },
   "file_extension": ".py",
   "mimetype": "text/x-python",
   "name": "python",
   "nbconvert_exporter": "python",
   "pygments_lexer": "ipython3",
   "version": "3.10.10"
  }
 },
 "nbformat": 4,
 "nbformat_minor": 2
}
