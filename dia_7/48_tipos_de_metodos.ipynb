{
 "cells": [
  {
   "cell_type": "markdown",
   "metadata": {},
   "source": [
    "# Tipos de métodos #\n",
    "\n",
    "Por medio de unos elementos llamados \"decoradores@ vamos a poder crear diferentes tipos de métodos.\n",
    "\n",
    "* Métodos de instancia o de objeto que son los que hemos visto anteriormente\n",
    "\n",
    "        def mi_metodo(self):\n",
    "            print(\"salida\")\n",
    "    \n",
    "    Los métodos de instancia pueden:\n",
    "    * Acceder y modificar los atributos del objeto\n",
    "    * Acceder a otros métodos\n",
    "    * Modificar el estado de la clase\n",
    "\n",
    "* Métodos de clase \"@classmethod\"\n",
    "\n",
    "        @classmethod\n",
    "        def mi_metodo(cls):\n",
    "            print('salida')\n",
    "        \n",
    "    * Pueden ser llamados tanto desde la instancia de la clase como directamente desde la clase\n",
    "    * No pueden modificar los atributos de la instancia\n",
    "    * Si pueden modificar los atributos de la clase\n",
    "\n",
    "* Métodos estáticos \"@staticmethod\"\n",
    "\n",
    "        @staticmethod\n",
    "        def mi_metodo():\n",
    "            print('salida')\n",
    "    \n",
    "    * No pueden modificar el estado de la clase ni de su instancia\n",
    "    * Pueden aceptar parámetros de entrada\n",
    "    * Se suelen utilizar cuando no queremos que un método modifique clases o instancias     "
   ]
  },
  {
   "cell_type": "code",
   "execution_count": 71,
   "metadata": {},
   "outputs": [
    {
     "name": "stdout",
     "output_type": "stream",
     "text": [
      "Ha puesto 6 huevos\n",
      "False\n",
      "El pájaro mira abajo\n",
      "El pájaro ha volado 50 metros a una velocidad de 30 kilometros por hora.\n",
      "pio\n",
      "False\n"
     ]
    }
   ],
   "source": [
    "class Pajaro:\n",
    "    \n",
    "    alas = True\n",
    "    \n",
    "    def __init__(self, color, especie):\n",
    "        self.color = color\n",
    "        self.especie = especie\n",
    "    \n",
    "    def piar(self):\n",
    "        print('pio')\n",
    "    \n",
    "    def volar(self, metros, velocidad):\n",
    "        print(f\"El pájaro ha volado {metros} metros a una velocidad de {velocidad} kilometros por hora.\")\n",
    "        self.piar() #metodo de instancia\n",
    "    \n",
    "    def pintar_negro(self):\n",
    "        self.color = \"negro\"\n",
    "        print(f\"Ahora el pájaro es {self.color}\")\n",
    "\n",
    "    #método de clase\n",
    "    @classmethod\n",
    "    def poner_huevos(cls, cantidad):\n",
    "        print(f\"Ha puesto {cantidad} huevos\")\n",
    "        #modificar atributos de la clase\n",
    "        Pajaro.alas = False\n",
    "        print(Pajaro.alas)\n",
    "    \n",
    "    #métodos estáticos\n",
    "    @staticmethod\n",
    "    def mirar():\n",
    "        print(\"El pájaro mira abajo\")\n",
    "\n",
    "#llamada a @classmethod\n",
    "Pajaro.poner_huevos(6)  \n",
    "\n",
    "#llamada al @stacicmethod\n",
    "Pajaro.mirar()      \n",
    "        \n",
    "piolin = Pajaro(\"amarillo\", \"canario\")\n",
    "\n",
    "piolin.volar(50, 30)\n",
    "\n",
    "#los métodos de instancia pueden modificar atributos de clase\n",
    "piolin.alas = False\n",
    "print(piolin.alas)"
   ]
  },
  {
   "cell_type": "markdown",
   "metadata": {},
   "source": [
    "##### Práctica Tipos de Métodos 1 #####\n",
    "\n",
    "Crea un método estático respirar() para la clase Mascota. Cuando se llame, debe imprimir en pantalla \"Inhalar... Exhalar\""
   ]
  },
  {
   "cell_type": "code",
   "execution_count": 72,
   "metadata": {},
   "outputs": [],
   "source": [
    "class Mascota:\n",
    "    \n",
    "    @staticmethod\n",
    "    def respirar():\n",
    "        print(\"Inhalar... Exhalar\")"
   ]
  },
  {
   "cell_type": "markdown",
   "metadata": {},
   "source": [
    "##### Práctica Tipos de Métodos 2 #####\n",
    "\n",
    "Crea un método de clase revivir() que actúa sobre el atributo de clase vivo de la clase Jugador, estableciéndolo en True cada vez que es invocado. El valor predeterminado del atributo vivo, debe ser False."
   ]
  },
  {
   "cell_type": "code",
   "execution_count": 73,
   "metadata": {},
   "outputs": [],
   "source": [
    "class Jugador:\n",
    "    \n",
    "    vivo = False\n",
    "    \n",
    "    def __init__(self):\n",
    "        pass\n",
    "    \n",
    "    @classmethod\n",
    "    def revivir(cls):\n",
    "        Jugador.vivo = True"
   ]
  },
  {
   "cell_type": "markdown",
   "metadata": {},
   "source": [
    "##### Práctica Tipos de Métodos 3 #####\n",
    "\n",
    "Crea un método de instancia lanzar_flecha() que reste en -1 la cantidad de flechas que tiene una instancia de Personaje, que cuenta con un atributo de instancia de tipo número, llamado cantidad_flechas."
   ]
  },
  {
   "cell_type": "code",
   "execution_count": 74,
   "metadata": {},
   "outputs": [],
   "source": [
    "class Personaje:\n",
    "    \n",
    "    def __init__(self, cantidad_flechas):\n",
    "        self.cantidad_flechas = cantidad_flechas\n",
    "    \n",
    "    def lanzar_flecha(self):\n",
    "        self.cantidad_flechas = self.cantidad_flechas-1"
   ]
  }
 ],
 "metadata": {
  "kernelspec": {
   "display_name": "Python 3",
   "language": "python",
   "name": "python3"
  },
  "language_info": {
   "codemirror_mode": {
    "name": "ipython",
    "version": 3
   },
   "file_extension": ".py",
   "mimetype": "text/x-python",
   "name": "python",
   "nbconvert_exporter": "python",
   "pygments_lexer": "ipython3",
   "version": "3.12.7"
  }
 },
 "nbformat": 4,
 "nbformat_minor": 2
}
