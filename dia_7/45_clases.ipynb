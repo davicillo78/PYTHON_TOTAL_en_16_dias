{
 "cells": [
  {
   "cell_type": "markdown",
   "metadata": {},
   "source": [
    "# Clases #\n",
    "\n",
    "Definición de la clase (su nombre comienza en mayúscula):\n",
    "\n",
    "    class Pajaro:\n",
    "        pass\n",
    "\n",
    "La clase se puede declarar vacía con la palabra pass. Ahora podríamos crear los objetos de la clase pájaro.\n",
    "\n",
    "    mi_pajaro = Pajaro()\n",
    "\n",
    "Pero, una clase suele tener unos atributos y unos métodos."
   ]
  },
  {
   "cell_type": "code",
   "execution_count": 4,
   "metadata": {},
   "outputs": [
    {
     "name": "stdout",
     "output_type": "stream",
     "text": [
      "<__main__.Pajaro object at 0x000001959E906D50>\n",
      "<__main__.Pajaro object at 0x000001959E8DC8C0>\n"
     ]
    }
   ],
   "source": [
    "class Pajaro:\n",
    "    pass\n",
    "\n",
    "mi_pajaro = Pajaro()\n",
    "print(mi_pajaro)\n",
    "\n",
    "mi_otro_pajaro = Pajaro()\n",
    "print(mi_otro_pajaro)\n"
   ]
  },
  {
   "cell_type": "markdown",
   "metadata": {},
   "source": [
    "##### Práctica Clases 1 #####\n",
    "\n",
    "Crea una clase llamada Personaje y a continuación, crea un objeto a partir de ella, por ejemplo: harry_potter"
   ]
  },
  {
   "cell_type": "code",
   "execution_count": 6,
   "metadata": {},
   "outputs": [],
   "source": [
    "class Personaje():\n",
    "    pass\n",
    "\n",
    "harry_potter = Personaje()"
   ]
  },
  {
   "cell_type": "markdown",
   "metadata": {},
   "source": [
    "##### Práctica Clases 2 #####\n",
    "\n",
    "Crea una clase llamada Dinosaurio, y tres instancias a partir de ella: velociraptor, tiranosaurio_rex y braquiosaurio."
   ]
  },
  {
   "cell_type": "code",
   "execution_count": 5,
   "metadata": {},
   "outputs": [],
   "source": [
    "class Dinosaurio():\n",
    "    pass\n",
    "\n",
    "velociraptor = Dinosaurio()\n",
    "tiranosaurio_rex = Dinosaurio()\n",
    "braquiosaurio = Dinosaurio()"
   ]
  },
  {
   "cell_type": "markdown",
   "metadata": {},
   "source": [
    "##### Práctica Clases 3 #####\n",
    "\n",
    "Crea una clase llamada PlataformaStreaming y crea los siguientes objetos a partir de ella: netflix, hbo_max, amazon_prime_video"
   ]
  },
  {
   "cell_type": "code",
   "execution_count": 7,
   "metadata": {},
   "outputs": [],
   "source": [
    "class PlataformaStreaming():\n",
    "    pass\n",
    "\n",
    "netflix = PlataformaStreaming()\n",
    "hbo_max = PlataformaStreaming()\n",
    "amazon_prime_video = PlataformaStreaming()"
   ]
  }
 ],
 "metadata": {
  "kernelspec": {
   "display_name": "Python 3",
   "language": "python",
   "name": "python3"
  },
  "language_info": {
   "codemirror_mode": {
    "name": "ipython",
    "version": 3
   },
   "file_extension": ".py",
   "mimetype": "text/x-python",
   "name": "python",
   "nbconvert_exporter": "python",
   "pygments_lexer": "ipython3",
   "version": "3.12.7"
  }
 },
 "nbformat": 4,
 "nbformat_minor": 2
}
