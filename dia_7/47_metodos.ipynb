{
 "cells": [
  {
   "cell_type": "markdown",
   "metadata": {},
   "source": [
    "# Métodos #\n",
    "\n",
    "Como hemos indicado al principio de este bloque temático, los métodos son  funciones que son propias de la clase y definen las acciones que puede hacer esta.\n",
    "\n",
    "Se declaran d ela siguiente forma:\n",
    "\n",
    "    class Pajaro():\n",
    "        def __init__(self, color, especie):\n",
    "            self.color = color\n",
    "            self.especie = especie\n",
    "        \n",
    "        #método 1 (piar)\n",
    "        def piar(self):\n",
    "            print(\"¡pío!\")\n",
    "        \n",
    "        #método 2 (volar)\n",
    "        def volar(self, distancia, velocidad):\n",
    "        print(f\"Voló {distancia} metros, a una velocidad de {velocidad} metros por segundo\")\n"
   ]
  },
  {
   "cell_type": "code",
   "execution_count": 3,
   "metadata": {},
   "outputs": [
    {
     "name": "stdout",
     "output_type": "stream",
     "text": [
      "¡Pío!, mi color es amarillo\n",
      "El pájaro ha volado una distancia de 50 metros, a una velocidad de 4 metros por segundo\n"
     ]
    }
   ],
   "source": [
    "class Pajaro():\n",
    "    def __init__(self, color, especie):\n",
    "        self.color = color\n",
    "        self.especie = especie\n",
    "    \n",
    "    def piar(self):\n",
    "        print(f\"¡Pío!, mi color es {self.color}\")\n",
    "    \n",
    "    def volar(self, distancia, velocidad):\n",
    "        print(f\"El pájaro ha volado una distancia de {distancia} metros, a una velocidad de {velocidad} metros por segundo\")\n",
    "\n",
    "piolin = Pajaro('amarillo', 'canario')\n",
    "\n",
    "piolin.piar()\n",
    "piolin.volar(50, 4)\n",
    "\n"
   ]
  },
  {
   "cell_type": "markdown",
   "metadata": {},
   "source": [
    "##### Práctica Métodos 1 #####\n",
    "\n",
    "Crea una clase Perro. Dicho perro debe poder ladrar.\n",
    "\n",
    "Crea el método ladrar() y ejecútalo en una instancia de Perro. Cada vez que ladre, debe mostrarse en pantalla \"Guau!\"."
   ]
  },
  {
   "cell_type": "code",
   "execution_count": 4,
   "metadata": {},
   "outputs": [
    {
     "name": "stdout",
     "output_type": "stream",
     "text": [
      "Guau!\n"
     ]
    }
   ],
   "source": [
    "class Perro():\n",
    "    def __init__(self):\n",
    "        pass\n",
    "    \n",
    "    def ladrar(self):\n",
    "        print('Guau!')\n",
    "\n",
    "toby = Perro()\n",
    "toby.ladrar()"
   ]
  },
  {
   "cell_type": "markdown",
   "metadata": {},
   "source": [
    "##### Práctica Métodos 2 #####\n",
    "\n",
    "Crea una clase llamada Mago, y crea un método llamado lanzar_hechizo() (deberá imprimir \"¡Abracadabra!\").\n",
    "\n",
    "Crea una instancia de Mago en el objeto merlin, y haz que lance un hechizo."
   ]
  },
  {
   "cell_type": "code",
   "execution_count": 8,
   "metadata": {},
   "outputs": [
    {
     "name": "stdout",
     "output_type": "stream",
     "text": [
      "¡Abracadabra!\n"
     ]
    }
   ],
   "source": [
    "class Mago():\n",
    "    def __init__(self):\n",
    "        pass\n",
    "    \n",
    "    def lanzar_hechizo(self):\n",
    "        print(\"¡Abracadabra!\")\n",
    "\n",
    "merlin = Mago()\n",
    "merlin.lanzar_hechizo()"
   ]
  },
  {
   "cell_type": "markdown",
   "metadata": {},
   "source": [
    "##### Práctica Métodos 3 #####\n",
    "\n",
    "Crea una instancia de la clase Alarma, que tenga un método llamado postergar(cantidad_minutos). El método debe imprimir en pantalla el mensaje\n",
    "\n",
    "\"La alarma ha sido pospuesta {cantidad_minutos} minutos\""
   ]
  },
  {
   "cell_type": "code",
   "execution_count": 10,
   "metadata": {},
   "outputs": [
    {
     "name": "stdout",
     "output_type": "stream",
     "text": [
      "La alarma ha sido pospuesta 5 minutos\n"
     ]
    }
   ],
   "source": [
    "class Alarma():\n",
    "    def __init__(self):\n",
    "        pass\n",
    "    \n",
    "    def postergar(self, cantidad_minutos):\n",
    "        print(f\"La alarma ha sido pospuesta {cantidad_minutos} minutos\")\n",
    "\n",
    "alarma1 = Alarma()\n",
    "alarma1.postergar(5)"
   ]
  }
 ],
 "metadata": {
  "kernelspec": {
   "display_name": "Python 3",
   "language": "python",
   "name": "python3"
  },
  "language_info": {
   "codemirror_mode": {
    "name": "ipython",
    "version": 3
   },
   "file_extension": ".py",
   "mimetype": "text/x-python",
   "name": "python",
   "nbconvert_exporter": "python",
   "pygments_lexer": "ipython3",
   "version": "3.12.7"
  }
 },
 "nbformat": 4,
 "nbformat_minor": 2
}
