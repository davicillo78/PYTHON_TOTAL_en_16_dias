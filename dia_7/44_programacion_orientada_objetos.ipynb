{
 "cells": [
  {
   "cell_type": "markdown",
   "metadata": {},
   "source": [
    "# Programación orientada a objetos #\n",
    "\n",
    "Se trata de un paradigma de programación basado en la idea de tratar las diferentes variables y operaciones de programación con objetos y clases. Cada clase con unos atributos específicos de esa clase, y sus métodos, que simbolizan las acciones que puede realizar esa clase u objeto.\n",
    "\n",
    "Por ejemplo, la clase \"PAJARO\" puede tener atributos como:\n",
    "* Color\n",
    "* Tamaño\n",
    "* Edad\n",
    "* Especie\n",
    "* Hábitat\n",
    "...\n",
    "\n",
    "Y tambien puede tener sus funcionalidades o acciones que puede realizar, a las que llamamos métodos, como pueden ser:\n",
    "* Volar\n",
    "* Piar\n",
    "* Comer\n",
    "\n",
    "Puede haber multitud de pájaros distintos, que serán objetos de la clase pájaro. \n",
    "\n",
    "Así podemos tener objetos como: \"Abubilla\", \"Mirlo\", \"Pájaro_Carpintero\", etc.\n",
    "\n",
    "#### Pilares de la POO ####\n",
    "\n",
    "La programación orientada a objetos está basada en 6 pilares, que son: \n",
    "- Herencia\n",
    "- Polimorfismo\n",
    "- Cohesión\n",
    "- Abstracción\n",
    "- Acoplamiento\n",
    "- Encapsulamiento"
   ]
  }
 ],
 "metadata": {
  "language_info": {
   "name": "python"
  }
 },
 "nbformat": 4,
 "nbformat_minor": 2
}
