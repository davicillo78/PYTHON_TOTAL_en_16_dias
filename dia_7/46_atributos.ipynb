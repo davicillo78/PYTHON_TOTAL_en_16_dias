{
 "cells": [
  {
   "cell_type": "markdown",
   "metadata": {},
   "source": [
    "# Atributos #\n",
    "\n",
    "Como hemos indicado, los atributos con las características que definen la clase. Pero tambien tenemos atributos de instancia.\n",
    "\n",
    "Los atributos de instancia son aquellos que definen al objeto. Y pueden ser diferentes en cada objeto de una misma clase."
   ]
  },
  {
   "cell_type": "code",
   "execution_count": 6,
   "metadata": {},
   "outputs": [
    {
     "name": "stdout",
     "output_type": "stream",
     "text": [
      "azul\n"
     ]
    }
   ],
   "source": [
    "class Pajaro():\n",
    "       \n",
    "    def __init__(self, color): #__init__ es el método constructor de la clase, por la cual,\n",
    "                               #podemos luego establecer los diferentes atributos y métodos propios de la clase\n",
    "        self.color = color\n",
    "       #self.atributo = parámetro\n",
    "       \n",
    "loro = Pajaro('azul') #azul es el atributo que se ha establecido en la clase pájaro, y que en el objeto loro es 'azul'\n",
    "\n",
    "print(loro.color)\n",
    "#lo que pasamos al objeto es el parámetro relativo al atributo de la clase"
   ]
  },
  {
   "cell_type": "code",
   "execution_count": 10,
   "metadata": {},
   "outputs": [
    {
     "name": "stdout",
     "output_type": "stream",
     "text": [
      "Mi pájaro es de color azul\n",
      "Mi pájaro es de la especie loro\n",
      "True\n",
      "True\n"
     ]
    }
   ],
   "source": [
    "class Pajaro():\n",
    "    \n",
    "    alas= True #Este atributo será el mismo para todos los objetos de la clase Pajaro\n",
    "\n",
    "    def __init__(self, color, especie):\n",
    "        self.color = color\n",
    "        self.especie = especie\n",
    "\n",
    "mi_pajaro = Pajaro('azul', 'loro')\n",
    "\n",
    "print(f\"Mi pájaro es de color {mi_pajaro.color}\")\n",
    "print(f\"Mi pájaro es de la especie {mi_pajaro.especie}\")\n",
    "\n",
    "print(mi_pajaro.alas) #Todos los objetos comparten los mismos atributos de clase\n",
    "print(Pajaro.alas)\n",
    "        "
   ]
  },
  {
   "cell_type": "markdown",
   "metadata": {},
   "source": [
    "##### Práctica Atributos 1 #####\n",
    "\n",
    "Crea una clase llamada Casa, y asígnale atributos: color, cantidad_pisos.\n",
    "\n",
    "Crea una instancia de Casa, llamada casa_blanca, de color \"blanco\" y cantidad de pisos igual a 4."
   ]
  },
  {
   "cell_type": "code",
   "execution_count": 11,
   "metadata": {},
   "outputs": [],
   "source": [
    "class Casa():\n",
    "    def __init__(self, color, cantidad_pisos):\n",
    "        self.color = color\n",
    "        self.cantidad_pisos = cantidad_pisos\n",
    "\n",
    "casa_blanca = Casa('blanco', 4)"
   ]
  },
  {
   "cell_type": "markdown",
   "metadata": {},
   "source": [
    "##### Práctica Atributos 2 #####\n",
    "\n",
    "Crea una clase llamada Cubo, y asígnale el atributo de clase:\n",
    "\n",
    "caras = 6\n",
    "\n",
    "y el atributo de instancia:\n",
    "\n",
    "color\n",
    "\n",
    "Crea una instancia cubo_rojo, de dicho color."
   ]
  },
  {
   "cell_type": "code",
   "execution_count": 12,
   "metadata": {},
   "outputs": [],
   "source": [
    "class Cubo():\n",
    "    \n",
    "    caras = 6\n",
    "    \n",
    "    def __init__(self, color):\n",
    "        self.color = color\n",
    "\n",
    "cubo_rojo = Cubo('rojo')"
   ]
  },
  {
   "cell_type": "markdown",
   "metadata": {},
   "source": [
    "##### Práctica Atributos 3 #####\n",
    "\n",
    "Crea una clase llamada Personaje, y asígnale el siguiente atributo de clase:\n",
    "\n",
    "real = False\n",
    "\n",
    "Crea una instancia llamada harry_potter con los siguientes atributos de instancia:\n",
    "\n",
    "especie = \"Humano\"\n",
    "\n",
    "magico = True\n",
    "\n",
    "edad = 17"
   ]
  },
  {
   "cell_type": "code",
   "execution_count": 13,
   "metadata": {},
   "outputs": [],
   "source": [
    "class Personaje():\n",
    "    \n",
    "    real = False\n",
    "    \n",
    "    def __init__(self, especie, magico, edad):\n",
    "        self.especie = especie\n",
    "        self.magico = magico\n",
    "        self.edad = edad\n",
    "\n",
    "harry_potter = Personaje('Humano', True, 17)"
   ]
  }
 ],
 "metadata": {
  "kernelspec": {
   "display_name": "Python 3",
   "language": "python",
   "name": "python3"
  },
  "language_info": {
   "codemirror_mode": {
    "name": "ipython",
    "version": 3
   },
   "file_extension": ".py",
   "mimetype": "text/x-python",
   "name": "python",
   "nbconvert_exporter": "python",
   "pygments_lexer": "ipython3",
   "version": "3.12.7"
  }
 },
 "nbformat": 4,
 "nbformat_minor": 2
}
