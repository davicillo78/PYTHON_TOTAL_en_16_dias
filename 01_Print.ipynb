{
 "cells": [
  {
   "cell_type": "markdown",
   "metadata": {},
   "source": [
    "Utilizamos el comando print() cuando queremos mostrar algo en pantalla."
   ]
  },
  {
   "cell_type": "code",
   "execution_count": 1,
   "metadata": {},
   "outputs": [
    {
     "name": "stdout",
     "output_type": "stream",
     "text": [
      "Hola mundo\n"
     ]
    }
   ],
   "source": [
    "# De esta forma con la siguiente linea de código, pedimos a python que nos muestre en la pantalla el mensaje que está entre las comillas\n",
    "print(\"Hola mundo\")"
   ]
  },
  {
   "cell_type": "code",
   "execution_count": 3,
   "metadata": {},
   "outputs": [
    {
     "name": "stdout",
     "output_type": "stream",
     "text": [
      "Hola, me llamo David\n",
      "5\n",
      "True\n",
      "8\n"
     ]
    }
   ],
   "source": [
    "# Vemos que debemos encerrar entre paréntesis el mensaje que queremos mostrar, ya sea una cadena, un número, una lógica booleana o una operación\n",
    "print(\"Hola, me llamo David\")\n",
    "print(5)\n",
    "print(True)\n",
    "print(3+5)"
   ]
  }
 ],
 "metadata": {
  "kernelspec": {
   "display_name": "Python 3",
   "language": "python",
   "name": "python3"
  },
  "language_info": {
   "codemirror_mode": {
    "name": "ipython",
    "version": 3
   },
   "file_extension": ".py",
   "mimetype": "text/x-python",
   "name": "python",
   "nbconvert_exporter": "python",
   "pygments_lexer": "ipython3",
   "version": "3.10.10"
  }
 },
 "nbformat": 4,
 "nbformat_minor": 2
}
