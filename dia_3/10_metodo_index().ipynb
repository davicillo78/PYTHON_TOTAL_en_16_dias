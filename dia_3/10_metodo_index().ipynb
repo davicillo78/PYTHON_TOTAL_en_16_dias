{
 "cells": [
  {
   "cell_type": "markdown",
   "metadata": {},
   "source": [
    "# Método index() #\n",
    "\n",
    "El método index() nos permite, entre otras muchas utilidades, buscar elementos dentro de strings y otras muchas estructuras de datos."
   ]
  },
  {
   "cell_type": "code",
   "execution_count": 6,
   "metadata": {},
   "outputs": [
    {
     "name": "stdout",
     "output_type": "stream",
     "text": [
      "0\n",
      "h\n",
      "11\n"
     ]
    }
   ],
   "source": [
    "# Obtenemos el indice de la posición de algún caracter\n",
    "\n",
    "saludo = \"hola personas\"\n",
    "\n",
    "print(saludo.index('h'))\n",
    "#el índice comienza desde 0, por tanto \"h\" ocupa el índice 0\n",
    "\n",
    "#obtenemos el caracter de un indice\n",
    "print((saludo[0]))\n",
    "\n",
    "# existe un método index de búsqueda inversa\n",
    "\n",
    "print(saludo.rindex(\"a\")) \n",
    "#en este caso nos encuentra la \"a\" de \"personas\" y nos da su indice ya que comienza a buscaar desde el final del string"
   ]
  }
 ],
 "metadata": {
  "kernelspec": {
   "display_name": "Python 3",
   "language": "python",
   "name": "python3"
  },
  "language_info": {
   "codemirror_mode": {
    "name": "ipython",
    "version": 3
   },
   "file_extension": ".py",
   "mimetype": "text/x-python",
   "name": "python",
   "nbconvert_exporter": "python",
   "pygments_lexer": "ipython3",
   "version": "3.10.10"
  }
 },
 "nbformat": 4,
 "nbformat_minor": 2
}
