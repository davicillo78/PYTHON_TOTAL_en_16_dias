{
 "cells": [
  {
   "cell_type": "markdown",
   "metadata": {},
   "source": [
    "# sets #\n",
    "\n",
    "Los sets son también conjuntos de elementos al igual que las listas, los diccionarios o las tuplas.\n",
    "Guardan más similitud con las listas salvo algunas diferencias.\n",
    "\n",
    "* Se declaran mediante el comando **set()**: set(1, 2, 3, 4, 4, 5)\n",
    "* Tambien pueden declararse sin la palabra **set** entre llaves: {1, 2, 3, 4, 4, 5}\n",
    "* La particularidad más importante de los sets es que son un conjunto de elementos UNICOS. No existen elementos duplicados.<br>\n",
    "    Si creamos un set con elementos duplicados, al mostrar el set, nos mostrará los elementos únicos, sin duplicidades.\n",
    "* Por esta característica de no duplicidad, no existe un método de indexación.\n",
    "* Además, sus elementos no se pueden modificar, por lo que no podrás incluir listas ni diccionarios.\n",
    "##### IMPORTANTE #####\n",
    "Si has definido tu set con la palabra reservada, al declararlo solo te va a admitir un elemento, por lo que si tienes un conjunto de elementos deberemos encerrarlos, dentro de los paréntesis, entre corchetes, paréntesis, llaves...\n",
    "```\n",
    "mi_set = set([1, 2, 3, 4, 4, 5])\n",
    "```\n",
    "En cambio, si definimos el set con las llaves, puedes incluir todos los elementos sin necesidad de encerrarlos entre corchetes\n",
    "```\n",
    "mi_set = {1, 2, 3, 4, 4, 5}\n",
    "```"
   ]
  },
  {
   "cell_type": "code",
   "execution_count": 41,
   "metadata": {},
   "outputs": [
    {
     "name": "stdout",
     "output_type": "stream",
     "text": [
      "<class 'set'>\n",
      "{1, 2, 3, 4, 5}\n",
      "<class 'set'>\n",
      "{1, 2, 3, 4, 5}\n",
      "<class 'set'>\n",
      "{1, 2, 3, 4, 5}\n",
      "<class 'set'>\n",
      "{1, 2, 3, 4, 5}\n"
     ]
    },
    {
     "ename": "TypeError",
     "evalue": "set expected at most 1 argument, got 3",
     "output_type": "error",
     "traceback": [
      "\u001b[1;31m---------------------------------------------------------------------------\u001b[0m",
      "\u001b[1;31mTypeError\u001b[0m                                 Traceback (most recent call last)",
      "Cell \u001b[1;32mIn [41], line 19\u001b[0m\n\u001b[0;32m     16\u001b[0m \u001b[38;5;28mprint\u001b[39m(mi_set4)\n\u001b[0;32m     18\u001b[0m \u001b[38;5;66;03m#si utilizamos la palabra reservada set y no encerramos los elementos, arroja un TypeError\u001b[39;00m\n\u001b[1;32m---> 19\u001b[0m mi_set \u001b[38;5;241m=\u001b[39m \u001b[38;5;28;43mset\u001b[39;49m\u001b[43m(\u001b[49m\u001b[38;5;241;43m1\u001b[39;49m\u001b[43m,\u001b[49m\u001b[43m \u001b[49m\u001b[38;5;241;43m2\u001b[39;49m\u001b[43m,\u001b[49m\u001b[43m \u001b[49m\u001b[38;5;241;43m3\u001b[39;49m\u001b[43m)\u001b[49m\n",
      "\u001b[1;31mTypeError\u001b[0m: set expected at most 1 argument, got 3"
     ]
    }
   ],
   "source": [
    "#formas de crear un set\n",
    "mi_set = set((1, 2, 3, 4, 4, 5))\n",
    "print(type(mi_set))\n",
    "print(mi_set)\n",
    "\n",
    "mi_set2 = set([1, 2, 3, 4, 4, 5])\n",
    "print(type(mi_set2))\n",
    "print(mi_set2)\n",
    "\n",
    "mi_set3 = set({1, 2, 3, 4, 4, 5})\n",
    "print(type(mi_set3))\n",
    "print(mi_set3) #como vemos, nos ha eliminado la duplicidad del número 4\n",
    "\n",
    "mi_set4 = {1, 2, 3, 4, 4, 5}\n",
    "print(type(mi_set4))\n",
    "print(mi_set4)\n",
    "\n",
    "#si utilizamos la palabra reservada set y no encerramos los elementos, arroja un TypeError\n",
    "mi_set = set(1, 2, 3)"
   ]
  },
  {
   "cell_type": "code",
   "execution_count": 8,
   "metadata": {},
   "outputs": [
    {
     "ename": "TypeError",
     "evalue": "'set' object is not subscriptable",
     "output_type": "error",
     "traceback": [
      "\u001b[1;31m---------------------------------------------------------------------------\u001b[0m",
      "\u001b[1;31mTypeError\u001b[0m                                 Traceback (most recent call last)",
      "Cell \u001b[1;32mIn [8], line 3\u001b[0m\n\u001b[0;32m      1\u001b[0m \u001b[38;5;66;03m#no podemos indexarlos\u001b[39;00m\n\u001b[0;32m      2\u001b[0m mi_set \u001b[38;5;241m=\u001b[39m {\u001b[38;5;241m1\u001b[39m, \u001b[38;5;241m2\u001b[39m, \u001b[38;5;241m3\u001b[39m, \u001b[38;5;241m4\u001b[39m, \u001b[38;5;241m4\u001b[39m, \u001b[38;5;241m5\u001b[39m}\n\u001b[1;32m----> 3\u001b[0m \u001b[38;5;28mprint\u001b[39m(\u001b[43mmi_set\u001b[49m\u001b[43m[\u001b[49m\u001b[38;5;241;43m0\u001b[39;49m\u001b[43m]\u001b[49m)\n",
      "\u001b[1;31mTypeError\u001b[0m: 'set' object is not subscriptable"
     ]
    }
   ],
   "source": [
    "#no podemos indexarlos\n",
    "mi_set = {1, 2, 3, 4, 4, 5}\n",
    "print(mi_set[0])"
   ]
  },
  {
   "cell_type": "code",
   "execution_count": 9,
   "metadata": {},
   "outputs": [
    {
     "ename": "TypeError",
     "evalue": "'set' object does not support item assignment",
     "output_type": "error",
     "traceback": [
      "\u001b[1;31m---------------------------------------------------------------------------\u001b[0m",
      "\u001b[1;31mTypeError\u001b[0m                                 Traceback (most recent call last)",
      "Cell \u001b[1;32mIn [9], line 2\u001b[0m\n\u001b[0;32m      1\u001b[0m \u001b[38;5;66;03m#no podemos modificar sus elementos\u001b[39;00m\n\u001b[1;32m----> 2\u001b[0m \u001b[43mmi_set\u001b[49m\u001b[43m[\u001b[49m\u001b[38;5;241;43m0\u001b[39;49m\u001b[43m]\u001b[49m \u001b[38;5;241m=\u001b[39m \u001b[38;5;124m'\u001b[39m\u001b[38;5;124ma\u001b[39m\u001b[38;5;124m'\u001b[39m\n",
      "\u001b[1;31mTypeError\u001b[0m: 'set' object does not support item assignment"
     ]
    }
   ],
   "source": [
    "#no podemos modificar sus elementos\n",
    "mi_set[0] = 'a'\n"
   ]
  },
  {
   "cell_type": "code",
   "execution_count": 11,
   "metadata": {},
   "outputs": [
    {
     "name": "stdout",
     "output_type": "stream",
     "text": [
      "{1, 2, 3, 4, 5}\n"
     ]
    }
   ],
   "source": [
    "#Los sets solo muestran los elementos únicos, en los repetidos, elimina las duplicidades\n",
    "mi_set = {1, 1, 1, 2, 3, 3,3, 3, 3, 4, 5, 5, 5, 5}\n",
    "print(mi_set)"
   ]
  },
  {
   "cell_type": "code",
   "execution_count": 12,
   "metadata": {},
   "outputs": [
    {
     "ename": "TypeError",
     "evalue": "unhashable type: 'list'",
     "output_type": "error",
     "traceback": [
      "\u001b[1;31m---------------------------------------------------------------------------\u001b[0m",
      "\u001b[1;31mTypeError\u001b[0m                                 Traceback (most recent call last)",
      "Cell \u001b[1;32mIn [12], line 2\u001b[0m\n\u001b[0;32m      1\u001b[0m \u001b[38;5;66;03m#no admiten elementos como listas o diciconarios\u001b[39;00m\n\u001b[1;32m----> 2\u001b[0m mi_set \u001b[38;5;241m=\u001b[39m {[\u001b[38;5;241m1\u001b[39m, \u001b[38;5;241m2\u001b[39m, \u001b[38;5;241m3\u001b[39m]}\n",
      "\u001b[1;31mTypeError\u001b[0m: unhashable type: 'list'"
     ]
    }
   ],
   "source": [
    "#no admiten elementos como listas o diciconarios\n",
    "mi_set = {[1, 2, 3]}"
   ]
  },
  {
   "cell_type": "code",
   "execution_count": 16,
   "metadata": {},
   "outputs": [
    {
     "name": "stdout",
     "output_type": "stream",
     "text": [
      "{1, 2, 3, 4, (10, 20)}\n",
      "5\n",
      "6\n"
     ]
    }
   ],
   "source": [
    "#si podemos incluir tuplas\n",
    "mi_set = {1, 2, 3, (10, 20), 4}\n",
    "print(mi_set)\n",
    "\n",
    "#calcular el número de elementos\n",
    "print(len(mi_set)) #el anterior set contiene 5 elementos\n",
    "mi_set = {1, 2, 2, 2, 3, 1, 3, 3, 3, 4, 4, 5, 5, 6, 6} #solo contará los elementos únicos, eliminando las duplicidades, contiene 6 elementos\n",
    "print(len(mi_set))"
   ]
  },
  {
   "cell_type": "code",
   "execution_count": 21,
   "metadata": {},
   "outputs": [
    {
     "name": "stdout",
     "output_type": "stream",
     "text": [
      "{1, 2, 3, 4, 5}\n"
     ]
    },
    {
     "ename": "TypeError",
     "evalue": "unsupported operand type(s) for +: 'set' and 'set'",
     "output_type": "error",
     "traceback": [
      "\u001b[1;31m---------------------------------------------------------------------------\u001b[0m",
      "\u001b[1;31mTypeError\u001b[0m                                 Traceback (most recent call last)",
      "Cell \u001b[1;32mIn [21], line 8\u001b[0m\n\u001b[0;32m      5\u001b[0m \u001b[38;5;28mprint\u001b[39m(set3)\n\u001b[0;32m      7\u001b[0m \u001b[38;5;66;03m#no se pueden sumar\u001b[39;00m\n\u001b[1;32m----> 8\u001b[0m set4 \u001b[38;5;241m=\u001b[39m {\u001b[43mset1\u001b[49m\u001b[43m \u001b[49m\u001b[38;5;241;43m+\u001b[39;49m\u001b[43m \u001b[49m\u001b[43mset2\u001b[49m}\n\u001b[0;32m      9\u001b[0m \u001b[38;5;28mprint\u001b[39m(set4)\n",
      "\u001b[1;31mTypeError\u001b[0m: unsupported operand type(s) for +: 'set' and 'set'"
     ]
    }
   ],
   "source": [
    "#union de sets\n",
    "set1 = {1, 2, 3}\n",
    "set2 = {3, 4, 5}\n",
    "set3 = set1.union(set2)\n",
    "print(set3)\n",
    "\n",
    "#no se pueden sumar\n",
    "set4 = {set1 + set2}\n",
    "print(set4)"
   ]
  },
  {
   "cell_type": "code",
   "execution_count": 30,
   "metadata": {},
   "outputs": [
    {
     "name": "stdout",
     "output_type": "stream",
     "text": [
      "2298087479712\n",
      "{1, 2, 3, 4}\n",
      "2298087479712\n"
     ]
    }
   ],
   "source": [
    "#podemos añadir elementos sin modificar la posición en memoria\n",
    "set1 = {1, 2, 3}\n",
    "print(id(set1))\n",
    "set1.add(4)\n",
    "print(set1)\n",
    "print(id(set1))\n",
    "#si el elemento que queremos añadir ya está en el set, no arrojará error, pero no lo mostrará por ser una duplicidad"
   ]
  },
  {
   "cell_type": "code",
   "execution_count": 34,
   "metadata": {},
   "outputs": [
    {
     "name": "stdout",
     "output_type": "stream",
     "text": [
      "{1, 3}\n",
      "{1, 3}\n"
     ]
    },
    {
     "ename": "KeyError",
     "evalue": "9",
     "output_type": "error",
     "traceback": [
      "\u001b[1;31m---------------------------------------------------------------------------\u001b[0m",
      "\u001b[1;31mKeyError\u001b[0m                                  Traceback (most recent call last)",
      "Cell \u001b[1;32mIn [34], line 8\u001b[0m\n\u001b[0;32m      6\u001b[0m set1\u001b[38;5;241m.\u001b[39mdiscard(\u001b[38;5;241m9\u001b[39m)\n\u001b[0;32m      7\u001b[0m \u001b[38;5;28mprint\u001b[39m(set1)\n\u001b[1;32m----> 8\u001b[0m \u001b[43mset1\u001b[49m\u001b[38;5;241;43m.\u001b[39;49m\u001b[43mremove\u001b[49m\u001b[43m(\u001b[49m\u001b[38;5;241;43m9\u001b[39;49m\u001b[43m)\u001b[49m\n",
      "\u001b[1;31mKeyError\u001b[0m: 9"
     ]
    }
   ],
   "source": [
    "#eliminar elementos del set\n",
    "set1 = {1, 2, 3}\n",
    "set1.remove(2)\n",
    "print(set1)\n",
    "#si el elemento que queremos eliminar no está en el set, arroja un KeyError, por eso podemos utilizar el método discard() en su lugar\n",
    "set1.discard(9)\n",
    "print(set1)\n",
    "set1.remove(9)"
   ]
  },
  {
   "cell_type": "code",
   "execution_count": 38,
   "metadata": {},
   "outputs": [
    {
     "name": "stdout",
     "output_type": "stream",
     "text": [
      "1\n",
      "{2, 3, 4, 5}\n",
      "2\n",
      "{3, 4, 5}\n"
     ]
    }
   ],
   "source": [
    "#el método pop elimina un elemento aleatorio\n",
    "set1 = {1, 4, 2, 5, 3}\n",
    "eliminado = set1.pop()\n",
    "print(eliminado)\n",
    "print(set1)\n",
    "eliminado = set1.pop()\n",
    "print(eliminado)\n",
    "print(set1)\n",
    "#parece que elimina por ordenadamente, pero es aleatorio"
   ]
  },
  {
   "cell_type": "code",
   "execution_count": 40,
   "metadata": {},
   "outputs": [
    {
     "name": "stdout",
     "output_type": "stream",
     "text": [
      "{1, 2, 3, 4, 5}\n",
      "set()\n"
     ]
    }
   ],
   "source": [
    "#vaciaar el set\n",
    "set1 = {1, 2, 3, 4, 5}\n",
    "print(set1)\n",
    "set1.clear()\n",
    "print(set1)"
   ]
  }
 ],
 "metadata": {
  "kernelspec": {
   "display_name": "Python 3",
   "language": "python",
   "name": "python3"
  },
  "language_info": {
   "codemirror_mode": {
    "name": "ipython",
    "version": 3
   },
   "file_extension": ".py",
   "mimetype": "text/x-python",
   "name": "python",
   "nbconvert_exporter": "python",
   "pygments_lexer": "ipython3",
   "version": "3.10.10"
  }
 },
 "nbformat": 4,
 "nbformat_minor": 2
}
