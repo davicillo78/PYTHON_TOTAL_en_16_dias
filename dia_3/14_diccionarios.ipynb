{
 "cells": [
  {
   "cell_type": "markdown",
   "metadata": {},
   "source": [
    "# Diccionarios #\n",
    "\n",
    "Los diccionarios en Python son una colección de pares de datos que están compuestos por un dato llamado \"clave\" y otro dato llamado \"valor\" asociado a esa clave.\n",
    "Guardan cierta similitud a los diccionarios de lengua donde la clave sería la palabra y el valor correspondería a la definición.\n",
    "\n",
    "* Clave y valor se separan mediante dos puntos.\n",
    "* Los pares clave:valor se separan por comas (clave1:valor1, clave2:valor2...)\n",
    "* La forma de definir un diccionario es entre llaves {}\n",
    "* Las claves de un diccionario no pueden repetirse, deben ser únicas\n",
    "* Los diccionarios no tienen un índice determinado, por tanto...\n",
    "* Para buscar un valor, no podemos hacerlo mediante índices, sino que debemos llamar a su clave correspondiente."
   ]
  },
  {
   "cell_type": "code",
   "execution_count": 30,
   "metadata": {},
   "outputs": [
    {
     "name": "stdout",
     "output_type": "stream",
     "text": [
      "<class 'dict'>\n",
      "{'c1': 'uno', 'c2': 'dos', 'c3': 'tres'}\n",
      "uno\n"
     ]
    }
   ],
   "source": [
    "diccionario = {'c1':'uno', 'c2':'dos', 'c3':'tres'}\n",
    "print(type(diccionario))\n",
    "print(diccionario)\n",
    "\n",
    "#buscar un valor\n",
    "print(diccionario['c1'])"
   ]
  },
  {
   "cell_type": "code",
   "execution_count": 31,
   "metadata": {},
   "outputs": [
    {
     "name": "stdout",
     "output_type": "stream",
     "text": [
      "Juán\n"
     ]
    }
   ],
   "source": [
    "cliente = {'nombre':'Juán', 'apellido':'Fuentes', 'peso':80, 'altura': 1.76}\n",
    "\n",
    "print(cliente['nombre'])"
   ]
  },
  {
   "cell_type": "code",
   "execution_count": 32,
   "metadata": {},
   "outputs": [
    {
     "name": "stdout",
     "output_type": "stream",
     "text": [
      "[10, 20, 30]\n",
      "20\n",
      "200\n"
     ]
    }
   ],
   "source": [
    "dicc = {'c1':55, 'c2':[10, 20, 30], 'c3':{'s1':100, 's2':200}}\n",
    "print(dicc['c2']) #imprime el valor de clave 'c2'\n",
    "print(dicc['c2'][1]) #imprime el valor de clave 'c2' en el index 1 (20)\n",
    "print(dicc['c3']['s2']) #imprime el valor de clave'c3' en la clave 's2'"
   ]
  },
  {
   "cell_type": "code",
   "execution_count": 33,
   "metadata": {},
   "outputs": [
    {
     "name": "stdout",
     "output_type": "stream",
     "text": [
      "E\n"
     ]
    }
   ],
   "source": [
    "#Ejercicio: dado el siguiente diccionario, crea un código que permita imprimir el valor de clave 'c2' index 1 (e) pero que lo muestre en mayúscula\n",
    "\n",
    "diccio = {'c1':['a', 'b', 'c'], 'c2':['d', 'e', 'f']}\n",
    "print(diccio['c2'][1].upper())"
   ]
  },
  {
   "cell_type": "code",
   "execution_count": 34,
   "metadata": {},
   "outputs": [
    {
     "name": "stdout",
     "output_type": "stream",
     "text": [
      "{1: 'a', 2: 'b', 3: 'c', 4: 'd'}\n",
      "{1: 'a', 2: 'b', 3: 'C', 4: 'd'}\n",
      "dict_keys([1, 2, 3, 4])\n",
      "dict_values(['a', 'b', 'C', 'd'])\n",
      "dict_items([(1, 'a'), (2, 'b'), (3, 'C'), (4, 'd')])\n"
     ]
    }
   ],
   "source": [
    "# Agregar elementos a un diccionario\n",
    "\n",
    "dic = {1:'a', 2:'b', 3:'c'}\n",
    "dic[4] = 'd' #se argega sin tener que almacenar en una variable, es decir, SI modifica el diccionario\n",
    "print(dic)\n",
    "\n",
    "#modificar un valor\n",
    "dic[3] = 'C'\n",
    "print(dic)\n",
    "\n",
    "#obtener las claves del diccionario\n",
    "print(dic.keys())\n",
    "\n",
    "#obtener los va lores del diccionario\n",
    "print(dic.values())\n",
    "\n",
    "#obtener todos los elementos del diccionario\n",
    "print(dic.items())\n"
   ]
  }
 ],
 "metadata": {
  "kernelspec": {
   "display_name": "Python 3",
   "language": "python",
   "name": "python3"
  },
  "language_info": {
   "codemirror_mode": {
    "name": "ipython",
    "version": 3
   },
   "file_extension": ".py",
   "mimetype": "text/x-python",
   "name": "python",
   "nbconvert_exporter": "python",
   "pygments_lexer": "ipython3",
   "version": "3.10.10"
  }
 },
 "nbformat": 4,
 "nbformat_minor": 2
}
