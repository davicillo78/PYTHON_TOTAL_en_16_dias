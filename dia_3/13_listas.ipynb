{
 "cells": [
  {
   "cell_type": "markdown",
   "metadata": {},
   "source": [
    "# Listas #\n",
    "\n",
    "Una lista es una colección ordenada de objetos.\n",
    "\n",
    "También pueden ser asignadas a una variable.\n",
    "\n",
    "Los elementos de una lista pueden ser cualquier tipo de dato (strings, integers, float, listas, diciconarios...)\n",
    "\n",
    "Podemos indexarlas, concatenarlas, manipularlas y analizarlas con sus métodos.\n",
    "\n",
    "Las listas No son inmutables."
   ]
  },
  {
   "cell_type": "code",
   "execution_count": 9,
   "metadata": {},
   "outputs": [
    {
     "name": "stdout",
     "output_type": "stream",
     "text": [
      "<class 'list'>\n",
      "3\n",
      "['a', 'b']\n",
      "['a', 'b', 'c']\n",
      "['d', 'e', 'f']\n",
      "['a', 'b', 'c', 'd', 'e', 'f']\n",
      "['a', 'b', 'c', 'd', 'e', 'f']\n"
     ]
    }
   ],
   "source": [
    "mi_lista = ['a', 'b', 'c']\n",
    "print(type(mi_lista))\n",
    "print(len(mi_lista)) #consultamos cuántos elementos tiene mi_lista\n",
    "\n",
    "#obtener un elemento concreto de la lista usando el index\n",
    "print(mi_lista[0:2]) #index 0 = a hasta index 2 (no incluido)\n",
    "\n",
    "#concatenación de listas\n",
    "mi_lista2 = ['d', 'e', 'f']\n",
    "print(mi_lista)\n",
    "print(mi_lista2)\n",
    "print(mi_lista + mi_lista2)\n",
    "\n",
    "#union en otra variable\n",
    "union = mi_lista + mi_lista2\n",
    "print(union)"
   ]
  },
  {
   "cell_type": "code",
   "execution_count": 11,
   "metadata": {},
   "outputs": [
    {
     "name": "stdout",
     "output_type": "stream",
     "text": [
      "['hola', 55, 6.1]\n",
      "['adios', 55, 6.1]\n"
     ]
    }
   ],
   "source": [
    "#las listas si se pueden modificar\n",
    "otra_lista = ['hola', 55, 6.1]\n",
    "print(otra_lista)\n",
    "otra_lista[0] = 'adios'\n",
    "print(otra_lista)\n"
   ]
  },
  {
   "cell_type": "markdown",
   "metadata": {},
   "source": [
    "## Metodos de listas ##"
   ]
  },
  {
   "cell_type": "code",
   "execution_count": 16,
   "metadata": {},
   "outputs": [
    {
     "name": "stdout",
     "output_type": "stream",
     "text": [
      "['a', 'b', 'c', 'd', 'e', 'f']\n",
      "['a', 'b', 'c', 'd', 'e', 'f', 'g']\n",
      "['a', 'b', 'c', 'd', 'e', 'f']\n",
      "['b', 'c', 'd', 'e', 'f']\n"
     ]
    }
   ],
   "source": [
    "lista = ['a', 'b', 'c', 'd', 'e', 'f']\n",
    "print(lista)\n",
    "#append() inserta un elemento nuevo al final de la lista\n",
    "lista.append('g')\n",
    "print(lista)\n",
    "\n",
    "#pop() elimina el último elemento de una lista (por defecto)\n",
    "lista.pop()\n",
    "print(lista)\n",
    "#o podemos eliminar el que indiquemos como index\n",
    "lista.pop(0) #eliminamos el primer elemento, index 0 = 'a'\n",
    "print(lista)"
   ]
  },
  {
   "cell_type": "code",
   "execution_count": 20,
   "metadata": {},
   "outputs": [
    {
     "name": "stdout",
     "output_type": "stream",
     "text": [
      "['a', 'b', 'c', 'd', 'e', 'f']\n",
      "['b', 'c', 'd', 'e', 'f']\n",
      "a\n",
      "<class 'str'>\n",
      "['f']\n",
      "<class 'list'>\n"
     ]
    }
   ],
   "source": [
    "lista = ['a', 'b', 'c', 'd', 'e', 'f']\n",
    "print(lista)\n",
    "\n",
    "#el resultado del método pop() podemos almacenarlo en una nueva variable como un string\n",
    "eliminado = lista.pop(0)\n",
    "print(lista)\n",
    "print(eliminado)\n",
    "print(type(eliminado))\n",
    "#o tambien como otra lista\n",
    "eliminado2 = [lista.pop()] \n",
    "print(eliminado2)\n",
    "print(type(eliminado2))"
   ]
  },
  {
   "cell_type": "code",
   "execution_count": 27,
   "metadata": {},
   "outputs": [
    {
     "name": "stdout",
     "output_type": "stream",
     "text": [
      "[7, 5, 2, 8, 1]\n",
      "[1, 2, 5, 7, 8]\n",
      "[4, 3, 5, 2, 0, 1]\n",
      "[0, 1, 2, 3, 4, 5]\n",
      "[0, 1, 2, 3, 4, 5]\n",
      "[4, 3, 5, 2, 0, 1]\n"
     ]
    }
   ],
   "source": [
    "# sort() este método MODIFICA la variable original\n",
    "#este método no puede almacenarse en una variable nueva, nos genera un objeto NonType\n",
    "lista = [7, 5, 2, 8, 1]\n",
    "print(lista)\n",
    "lista.sort()\n",
    "print(lista)\n",
    "\n",
    "\n",
    "#sorted() este método NO MODIFICA la variable original\n",
    "#este método SI puede almacenarse en una nueva variable\n",
    "lista = [4, 3, 5, 2, 0, 1]\n",
    "print(lista) \n",
    "print(sorted(lista))\n",
    "lista_ordenada = sorted(lista)\n",
    "print(lista_ordenada)\n",
    "print(lista) #la lista continua como la original\n"
   ]
  },
  {
   "cell_type": "code",
   "execution_count": 34,
   "metadata": {},
   "outputs": [
    {
     "name": "stdout",
     "output_type": "stream",
     "text": [
      "['e', 'd', 'c', 'b', 'a']\n",
      "['a', 'b', 'c', 'd', 'e']\n"
     ]
    }
   ],
   "source": [
    "#reverse() invierte el orden de los elementos de una lista\n",
    "#este método utilizado de esta forma SI modifica la lista original\n",
    "#este método no puede ser almacenado en una variable\n",
    "lista = ['e', 'd', 'c', 'b', 'a']\n",
    "print(lista)\n",
    "lista.reverse()\n",
    "print(lista)\n"
   ]
  }
 ],
 "metadata": {
  "kernelspec": {
   "display_name": "Python 3",
   "language": "python",
   "name": "python3"
  },
  "language_info": {
   "codemirror_mode": {
    "name": "ipython",
    "version": 3
   },
   "file_extension": ".py",
   "mimetype": "text/x-python",
   "name": "python",
   "nbconvert_exporter": "python",
   "pygments_lexer": "ipython3",
   "version": "3.10.10"
  }
 },
 "nbformat": 4,
 "nbformat_minor": 2
}
