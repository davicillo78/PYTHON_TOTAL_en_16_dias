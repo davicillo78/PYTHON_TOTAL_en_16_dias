{
 "cells": [
  {
   "cell_type": "markdown",
   "metadata": {},
   "source": [
    "# Tuplas #\n",
    "\n",
    "Las tuplas, al igual que las listas son una colección ordenada de elementos.\n",
    "* La diferencia que tienen con las listas es que son INMUTABLES.\n",
    "    Una vez el elemento ha sido asignado a una tupla, no puede modificarse o reasignarse.\n",
    "\n",
    "* Las tuplas se escriben entre paréntesis **animales = ('perro', 'gato', 'ratón')** o sin paréntesis **animales = 'perro', 'gato', 'ratón'**\n",
    "\n",
    "* Ocupan menos espacio en memoria\n",
    "\n",
    "* Se utilizan cuando necesitamos que un conjunto de elementos no se pueda modificar accidentalmente"
   ]
  },
  {
   "cell_type": "code",
   "execution_count": 20,
   "metadata": {},
   "outputs": [
    {
     "name": "stdout",
     "output_type": "stream",
     "text": [
      "(1, 2, 3, 4)\n",
      "<class 'tuple'>\n",
      "(1, 2, 'perro', ['uno', 'dos', 'tres'], {'nombre': 'Pedro', 'edad': 34}, (32, True))\n",
      "['uno', 'dos', 'tres']\n",
      "{'nombre': 'Pedro', 'edad': 34}\n"
     ]
    }
   ],
   "source": [
    "tupla = 1, 2, 3, 4\n",
    "print(tupla)\n",
    "print(type(tupla))\n",
    "\n",
    "\n",
    "# pueden estar formadas por todo tipo de objetos\n",
    "mi_tupla = 1, 2, 'perro', ['uno', 'dos', 'tres'], {'nombre':'Pedro', 'edad':34}, (32, True)\n",
    "print(mi_tupla)\n",
    "\n",
    "#no se pueden modificar, pero si se pueden realizar consultas\n",
    "#por ejemplo, podemos consultas la posición de un elemento con index\n",
    "print(mi_tupla[3])\n",
    "print(mi_tupla[-2])\n"
   ]
  },
  {
   "cell_type": "code",
   "execution_count": 21,
   "metadata": {},
   "outputs": [
    {
     "name": "stdout",
     "output_type": "stream",
     "text": [
      "2776670954176\n",
      "<class 'tuple'>\n",
      "2776671021248\n",
      "<class 'list'>\n"
     ]
    }
   ],
   "source": [
    "print(id(mi_tupla))\n",
    "print(type(mi_tupla))\n",
    "#podemos castear una tupla en una lista (eso si, modificando la variable)\n",
    "mi_tupla = list(mi_tupla)\n",
    "print(id(mi_tupla)) #Como podemos ver, NO HA MODIFICADO la tupla sino que la modificado la variable asignada a la tupla.\n",
    "                    #Por eso tienen direcciones de memoria diferentes.\n",
    "print(type(mi_tupla))"
   ]
  },
  {
   "cell_type": "code",
   "execution_count": 22,
   "metadata": {},
   "outputs": [
    {
     "name": "stdout",
     "output_type": "stream",
     "text": [
      "1 2 3 1\n"
     ]
    }
   ],
   "source": [
    "#Asignar valores de tuplas a variables \n",
    "#(ESTE MÉTODO DE ASIGNACION MULTIPLE TAMBIEN SE PUEDE HACER EN LISTAS Y DICCIONARIOS PERO DEBEN COINCIDIR EL NUMERO DE ELEMENTOS Y EL DE VARIABLES)\n",
    "\n",
    "tupla = 1, 2, 3, 1\n",
    "x, y, z, a = tupla\n",
    "print(x, y, z, a)"
   ]
  },
  {
   "cell_type": "code",
   "execution_count": 23,
   "metadata": {},
   "outputs": [
    {
     "name": "stdout",
     "output_type": "stream",
     "text": [
      "4\n",
      "1\n",
      "2\n",
      "1\n",
      "0\n"
     ]
    }
   ],
   "source": [
    "#consultar la lingitud de elementos de la tupla\n",
    "print(len(tupla))\n",
    "\n",
    "#consultar el número de veces que aparece un elemento en una tupla\n",
    "print(tupla.count(2)) #el número 2 solo aparece 1 vez\n",
    "print(tupla.count(1)) #el número 1 aparece 2 veces\n",
    "\n",
    "#consultar la posición en indice de un valor\n",
    "print(tupla.index(2))\n",
    "#si consultamos un elemento duplicado, nos arroja la primera posición encontrada\n",
    "print(tupla.index(1))\n"
   ]
  }
 ],
 "metadata": {
  "kernelspec": {
   "display_name": "Python 3",
   "language": "python",
   "name": "python3"
  },
  "language_info": {
   "codemirror_mode": {
    "name": "ipython",
    "version": 3
   },
   "file_extension": ".py",
   "mimetype": "text/x-python",
   "name": "python",
   "nbconvert_exporter": "python",
   "pygments_lexer": "ipython3",
   "version": "3.10.10"
  }
 },
 "nbformat": 4,
 "nbformat_minor": 2
}
