{
 "cells": [
  {
   "cell_type": "markdown",
   "metadata": {},
   "source": [
    "# Métodos de strings #\n",
    "\n",
    "Los métodos que podemos utilizar para trabajar con strings son:\n",
    "\n",
    "#### Métodos para análisis ####\n",
    "\n",
    "* **count()**\n",
    "* **find()** e **index()**\n",
    "* **rfind()** e **rindex()**\n",
    "* **startswith()** y **endswith()**\n",
    "* **isdigit()**\n",
    "* **isnumeric()**\n",
    "* **isdecimal**\n",
    "* **isalnum()**\n",
    "* **isalpha()**\n",
    "* **islower()**\n",
    "* **isupper()**\n",
    "* **isprintable()**\n",
    "* **isspace()**\n",
    "\n",
    "#### Métodos de transformación ####\n",
    "\n",
    "* **capitalize()**\n",
    "* **encode()**\n",
    "* **replace()**\n",
    "* **lower()**\n",
    "* **upper()**\n",
    "* **swapcase()**\n",
    "* **strip()**, **lstrip()** y **rstrip()**\n",
    "* **center()**\n",
    "* **ljust()** y **rjust()**\n",
    "\n",
    "#### Métodos de separación y unión ####\n",
    "\n",
    "* **split()** transforma en lista\n",
    "* **splitlines()** transforma en lista\n",
    "* **partition()** y **rpartition()** transforma en tuplas\n",
    "* **join()** transforma una lista en un string"
   ]
  },
  {
   "cell_type": "code",
   "execution_count": 25,
   "metadata": {},
   "outputs": [
    {
     "name": "stdout",
     "output_type": "stream",
     "text": [
      "Este es un texto de David\n",
      "ESTE ES UN TEXTO DE DAVID\n",
      "este es un texto de david\n",
      "['Este', 'es', 'un', 'texto', 'de', 'David']\n",
      "['Es', 'e es un ', 'ex', 'o de David']\n",
      "Este-es-un-texto-de-David\n",
      "0\n",
      "-1\n",
      "Este es un texto de María\n",
      "Estx xs un txxto dx David\n",
      "Este es un comunicado de María\n",
      "Este es un texto de David\n"
     ]
    }
   ],
   "source": [
    "texto = \"Este es un texto de David\"\n",
    "\n",
    "resultado = texto\n",
    "print(resultado)\n",
    "\n",
    "#upper()\n",
    "print(resultado.upper())\n",
    "\n",
    "#lower()\n",
    "print(resultado.lower())\n",
    "\n",
    "#split() toma los elementos del string separados por el caracter que incluyamos como separador.\n",
    "# si no introducimos ningún elemento separador, split() usa el espacio como separador predeterminado \n",
    "# el objeto de salida es una lista con los elementos separados\n",
    "print(resultado.split())\n",
    "print(resultado.split(\"t\"))\n",
    "\n",
    "#join()\n",
    "#toma una lista y une los elementos de esa lista formando un string, cuyo elemento de union lo indicamos entre comillas\n",
    "print(\"-\".join(resultado.split())) #Con el método split separamos en una lista las palabras del string\n",
    "                                   #Con el método join volvemos a unir la lista en un string con el separador -\n",
    "\n",
    "\n",
    "#find() es similar al método index(), la diferencia con index, es que si no se encuentra el elemento indicado,\n",
    "#con el método index() nos arroja un ValueError, mientras que find() retorna -1\n",
    "\n",
    "print(resultado.find(\"E\")) #index 0\n",
    "print(resultado.find(\"7\")) #no encontrado = -1\n",
    "#print(resultado.index(\"7\")) # ValueError: substring not found\n",
    "\n",
    "#replace() toma un parámetro de entrada y otro de salida\n",
    "#el parámetro de entrada es lo que queremos sustituir, y el de salida es por el cual se sustituye\n",
    "\n",
    "print(resultado.replace(\"David\", \"María\"))\n",
    "print(resultado.replace(\"e\", \"x\")) #sustituye TODOS los elementos coincidentes\n",
    "print(resultado.replace(\"texto\", \"comunicado\").replace(\"David\", \"María\")) #podemos hacer varios replaces diferentes a la vez\n",
    "#si no encuentra el primer parámetro, no sustituye nada\n",
    "print(resultado.replace(\"Pepe\", \"María\"))"
   ]
  },
  {
   "cell_type": "markdown",
   "metadata": {},
   "source": [
    "## Propiedades de los strings ##\n",
    "\n",
    "* Los strings son elementos inmutables. Una vez que  han sido creados no podemos cambiar su orden interno o alterar su contenido.\n",
    "    #### NOTA ####\n",
    "    **no debemos confundir los strings con las variables declaradas que contengan un string**\n",
    "    En estos casos, modifcamos o reescribimos las variables.\n",
    "\n",
    "* Los strings se pueden concatenar tanto con el signo + (une varios strings) como con el signo * (repite el string las veces que indiquemos)\n",
    "\n",
    "* Podemos crear un string en varias lineas sin necesidad de utilizar \"\\n\" sino encerrando el string en tres comillas dobles o simples\n",
    "\n",
    "* Podemos verificaar si un substring se encuentra contenido en un string **print(\"hola\" in resultado)** nos indica **True** o **False**\n",
    "\n",
    "* Podemos calcular el largo de caracteres de un string con el método **len()**"
   ]
  },
  {
   "cell_type": "code",
   "execution_count": 30,
   "metadata": {},
   "outputs": [
    {
     "ename": "TypeError",
     "evalue": "'str' object does not support item assignment",
     "output_type": "error",
     "traceback": [
      "\u001b[1;31m---------------------------------------------------------------------------\u001b[0m",
      "\u001b[1;31mTypeError\u001b[0m                                 Traceback (most recent call last)",
      "Cell \u001b[1;32mIn [30], line 3\u001b[0m\n\u001b[0;32m      1\u001b[0m nombre \u001b[38;5;241m=\u001b[39m \u001b[38;5;124m\"\u001b[39m\u001b[38;5;124mDavid\u001b[39m\u001b[38;5;124m\"\u001b[39m\n\u001b[0;32m      2\u001b[0m \u001b[38;5;66;03m#LOS STRINGS SON INALTERABLES\u001b[39;00m\n\u001b[1;32m----> 3\u001b[0m \u001b[43mnombre\u001b[49m\u001b[43m[\u001b[49m\u001b[38;5;241;43m0\u001b[39;49m\u001b[43m]\u001b[49m \u001b[38;5;241m=\u001b[39m \u001b[38;5;124m\"\u001b[39m\u001b[38;5;124md\u001b[39m\u001b[38;5;124m\"\u001b[39m\n\u001b[0;32m      4\u001b[0m \u001b[38;5;28mprint\u001b[39m(nombre)\n",
      "\u001b[1;31mTypeError\u001b[0m: 'str' object does not support item assignment"
     ]
    }
   ],
   "source": [
    "nombre = \"David\"\n",
    "#LOS STRINGS SON INALTERABLES\n",
    "nombre[0] = \"d\"\n",
    "print(nombre)\n",
    "#Nos arroja TypeError: 'str' object does not support iten assignment"
   ]
  },
  {
   "cell_type": "code",
   "execution_count": 31,
   "metadata": {},
   "outputs": [
    {
     "name": "stdout",
     "output_type": "stream",
     "text": [
      "Carina\n",
      "David\n"
     ]
    }
   ],
   "source": [
    "#si podemos modificar la variable\n",
    "nombre = \"Carina\"\n",
    "print(nombre)\n",
    "nombre = \"David\"\n",
    "print(nombre)\n"
   ]
  },
  {
   "cell_type": "code",
   "execution_count": 34,
   "metadata": {},
   "outputs": [
    {
     "name": "stdout",
     "output_type": "stream",
     "text": [
      "David San José Calvo\n",
      "DavidDavidDavidDavidDavid\n"
     ]
    }
   ],
   "source": [
    "#concatenación de strings\n",
    "nombre = 'David'\n",
    "apellido = ' San José Calvo'\n",
    "print(nombre + apellido)\n",
    "\n",
    "#multiplicación de strings\n",
    "\n",
    "print(nombre * 5)"
   ]
  },
  {
   "cell_type": "code",
   "execution_count": 37,
   "metadata": {},
   "outputs": [
    {
     "name": "stdout",
     "output_type": "stream",
     "text": [
      "Esta es una frase\n",
      "creada en varias\n",
      "lineas de código\n",
      "usando tres comillas\n"
     ]
    }
   ],
   "source": [
    "#strings con varias lineas de código\n",
    "\n",
    "oracion = '''Esta es una frase\n",
    "creada en varias\n",
    "lineas de código\n",
    "usando tres comillas'''\n",
    "print(oracion)"
   ]
  },
  {
   "cell_type": "code",
   "execution_count": 42,
   "metadata": {},
   "outputs": [
    {
     "name": "stdout",
     "output_type": "stream",
     "text": [
      "True\n",
      "False\n",
      "True\n"
     ]
    }
   ],
   "source": [
    "#encontrar un substring en un string mayor\n",
    "print('frase' in oracion) #La palabra frase está contenida en la variable oracion\n",
    "print(\"perro\" in oracion) #perro no está contenida en oracion\n",
    "\n",
    "#tambien podemos consultar una negacion\n",
    "print(\"perro\" not in oracion) #Es cierto que perro no está incluido en oracion"
   ]
  },
  {
   "cell_type": "code",
   "execution_count": 45,
   "metadata": {},
   "outputs": [
    {
     "name": "stdout",
     "output_type": "stream",
     "text": [
      "72\n",
      "4\n"
     ]
    }
   ],
   "source": [
    "#longitud de un string\n",
    "\n",
    "print(len(oracion)) #oracion contiene 72 caracteres\n",
    "print(len(\"hola\"))"
   ]
  }
 ],
 "metadata": {
  "kernelspec": {
   "display_name": "Python 3",
   "language": "python",
   "name": "python3"
  },
  "language_info": {
   "codemirror_mode": {
    "name": "ipython",
    "version": 3
   },
   "file_extension": ".py",
   "mimetype": "text/x-python",
   "name": "python",
   "nbconvert_exporter": "python",
   "pygments_lexer": "ipython3",
   "version": "3.10.10"
  }
 },
 "nbformat": 4,
 "nbformat_minor": 2
}
