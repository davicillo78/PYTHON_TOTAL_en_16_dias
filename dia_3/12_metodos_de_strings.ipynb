{
 "cells": [
  {
   "cell_type": "markdown",
   "metadata": {},
   "source": [
    "# Métodos de strings #\n",
    "\n",
    "Los métodos que podemos utilizar para trabajar con strings son:\n",
    "\n",
    "#### Métodos para análisis ####\n",
    "\n",
    "* **count()**\n",
    "* **find()** e **index()**\n",
    "* **rfind()** e **rindex()**\n",
    "* **startswith()** y **endswith()**\n",
    "* **isdigit()**\n",
    "* **isnumeric()**\n",
    "* **isdecimal**\n",
    "* **isalnum()**\n",
    "* **isalpha()**\n",
    "* **islower()**\n",
    "* **isupper()**\n",
    "* **isprintable()**\n",
    "* **isspace()**\n",
    "\n",
    "#### Métodos de transformación ####\n",
    "\n",
    "* **capitalize()**\n",
    "* **encode()**\n",
    "* **replace()**\n",
    "* **lower()**\n",
    "* **upper()**\n",
    "* **swapcase()**\n",
    "* **strip()**, **lstrip()** y **rstrip()**\n",
    "* **center()**\n",
    "* **ljust()** y **rjust()**\n",
    "\n",
    "#### Métodos de separación y unión ####\n",
    "\n",
    "* **split()** transforma en lista\n",
    "* **splitlines()** transforma en lista\n",
    "* **partition()** y **rpartition()** transforma en tuplas\n",
    "* **join()** transforma una lista en un string"
   ]
  },
  {
   "cell_type": "code",
   "execution_count": null,
   "metadata": {},
   "outputs": [],
   "source": []
  }
 ],
 "metadata": {
  "language_info": {
   "name": "python"
  }
 },
 "nbformat": 4,
 "nbformat_minor": 2
}
