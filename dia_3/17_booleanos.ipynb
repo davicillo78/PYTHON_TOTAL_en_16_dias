{
 "cells": [
  {
   "cell_type": "markdown",
   "metadata": {},
   "source": [
    "# Datos booleanos #\n",
    "\n",
    "Solo pueden tener 2 valores: True o False\n",
    "\n",
    "se puedes declarar de manera directa:\n",
    "\n",
    "    mi_variable = True\n",
    "    mi_variable = False\n",
    "\n",
    "o tambien de manera indirecta:\n",
    "\n",
    "    mi_variable = 4 < 5\n",
    "\n",
    "o por medio de una consulta:\n",
    "\n",
    "    mi_variable = 5 in mi_lista\n",
    "\n",
    "Los valores booleanos son muy importantes ya que forman la base de lo que se denomina \"inteligncia artificial\", ya que los booleanos son los que permiten que las computadoras tomen decisiones lógicas basadas en si ua condicion es verdadera o falsa (se cumple o no se cumple)."
   ]
  },
  {
   "cell_type": "code",
   "execution_count": 1,
   "metadata": {},
   "outputs": [
    {
     "name": "stdout",
     "output_type": "stream",
     "text": [
      "<class 'bool'>\n",
      "True\n",
      "<class 'bool'>\n",
      "False\n"
     ]
    }
   ],
   "source": [
    "var1 = True\n",
    "var2 = False\n",
    "print(type(var1))\n",
    "print(var1)\n",
    "print(type(var2))\n",
    "print(var2)"
   ]
  },
  {
   "cell_type": "code",
   "execution_count": 9,
   "metadata": {},
   "outputs": [
    {
     "name": "stdout",
     "output_type": "stream",
     "text": [
      "False\n",
      "<class 'bool'>\n",
      "True\n",
      "False\n",
      "<class 'bool'>\n"
     ]
    }
   ],
   "source": [
    "#declaraciones indirectas\n",
    "numero = 5 > 2+3\n",
    "print(numero)\n",
    "print(type(numero))\n",
    "\n",
    "numero = 1\n",
    "print(bool(numero))\n",
    "\n",
    "# mediante una iteracion\n",
    "lista = [1, 2, 3, 4]\n",
    "control = 5 in lista\n",
    "print(control)\n",
    "print(type(control))\n",
    "\n"
   ]
  },
  {
   "cell_type": "code",
   "execution_count": 11,
   "metadata": {},
   "outputs": [
    {
     "name": "stdout",
     "output_type": "stream",
     "text": [
      "False\n"
     ]
    }
   ],
   "source": [
    "print(5**0.5 == 5)"
   ]
  }
 ],
 "metadata": {
  "kernelspec": {
   "display_name": "Python 3",
   "language": "python",
   "name": "python3"
  },
  "language_info": {
   "codemirror_mode": {
    "name": "ipython",
    "version": 3
   },
   "file_extension": ".py",
   "mimetype": "text/x-python",
   "name": "python",
   "nbconvert_exporter": "python",
   "pygments_lexer": "ipython3",
   "version": "3.10.10"
  }
 },
 "nbformat": 4,
 "nbformat_minor": 2
}
