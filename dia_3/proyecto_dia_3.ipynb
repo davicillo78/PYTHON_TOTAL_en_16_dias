{
 "cells": [
  {
   "cell_type": "markdown",
   "metadata": {},
   "source": [
    "# Proyecto del Día 3 #\n",
    "\n",
    "Bueno, el tercer día no ha dejado nada que desear. Hemos visto muchas cosas y de las buenas, \n",
    "y ha llegado la hora de juntar todo lo aprendido y ponerlo en práctica, creando un programa \n",
    "perfectamente funcional desde cero.\n",
    "\n",
    "Ahora que ya sabes usar los métodos y las propiedades de los strings, que sabes indexar \n",
    "conjuntos de datos como los strings, las listas y los tuples, y sobre todo ahora que conoces \n",
    "todos los tipos de datos que necesitas para poder almacenar lo que sea, vas a poder encontrar \n",
    "una forma de programar un analizador de texto. \n",
    "\n",
    "**La consigna es la siguiente:** vas a crear un programa que primero le **pida al usuario que \n",
    "ingrese un texto**. Puede ser un texto cualquiera: un artículo entero, un párrafo, una frase, un \n",
    "poema, lo que quiera. Luego, el programa le va a pedir al usuario que también **ingrese tres \n",
    "letras a su elección** y a partir de ese momento nuestro código va a procesar esa información \n",
    "para hacer **cinco tipos de análisis** y devolverle al usuario la siguiente información: \n",
    "\n",
    "1. **Primero:** ¿cuántas veces aparece cada una de las letras que eligió? Para lograr esto, te \n",
    "recomiendo almacenar esas letras en una lista y luego usar algún método propio de string \n",
    "que nos permita contar cuantas veces aparece un sub string dentro del string. Algo que \n",
    "debes tener en cuenta es que al buscar las letras pueden haber mayúsculas y minúsculas \n",
    "y esto va a afectar el resultado. Lo que deberías hacer para asegurarte de que se \n",
    "encuentren absolutamente todas las letras es pasar, tanto el texto original como las \n",
    "letras a buscar, a minúsculas. \n",
    "\n",
    "2. **Segundo:** le vas a decir al usuario cuántas palabras hay a lo largo de todo el texto. Y \n",
    "para lograr esta parte, recuerda que hay un método de string que permite transformarlo \n",
    "en una lista y que luego hay una función que permite averiguar el largo de una lista. \n",
    "\n",
    "3. **Tercero:** nos va a informar cuál es la primera letra del texto y cuál es la última. Aquí \n",
    "claramente echaremos mano de la indexación. \n",
    "\n",
    "4. **Cuarto:** el sistema nos va a mostrar cómo quedaría el texto si invirtiéramos el orden de \n",
    "las palabras. ¿Acaso hay algún método que permita invertir el orden de una lista, y otro \n",
    "que permita unir esos elementos con espacios intermedios? Piénsalo. \n",
    "\n",
    "5. **Y por último:** el sistema nos va a decir si la palabra “Python” se encuentra dentro del \n",
    "texto. Esta parte puede ser algo complicada de imaginársela, pero te voy a dar una pista: \n",
    "puedes usar booleanos para hacer tu averiguación y un diccionario para encontrar la \n",
    "manera de expresarle al usuario tu respuesta."
   ]
  },
  {
   "cell_type": "code",
   "execution_count": 6,
   "metadata": {},
   "outputs": [
    {
     "name": "stdout",
     "output_type": "stream",
     "text": [
      "P\n",
      "El texto a analizar es el siguiente:\n",
      "Python es un lenguaje de programacion muy popular y versatil. Su sintaxis clara y sencilla lo hace ideal para principiantes, pero tambien es lo suficientemente potente para proyectos avanzados. Python es un lenguaje interpretado, lo que significa que puedes ejecutar tu codigo linea por linea, facilitando la deteccion de errores y la depuracion.\n",
      "\n",
      "Una de las principales ventajas de Python es su amplia biblioteca estandar, que incluye modulos para tareas comunes como la manipulacion de cadenas, la gestion de archivos y la comunicacion en red. Ademas, existen numerosas bibliotecas de terceros que amplian aun mas sus capacidades, como NumPy para calculos numericos, Pandas para analisis de datos y Django para desarrollo web.\n",
      "\n",
      "Python es utilizado en una variedad de campos, desde el desarrollo web y la ciencia de datos hasta la inteligencia artificial y la automatizacion de tareas. Su comunidad activa y en crecimiento proporciona una gran cantidad de recursos, como tutoriales, foros y documentacion, que pueden ayudarte a aprender y mejorar tus habilidades en Python.\n",
      "\n",
      "En resumen, Python es una excelente opcion para cualquier persona interesada en la programacion, ya sea que estes comenzando o que busques un lenguaje flexible y poderoso para tus proyectos\n",
      "\n",
      "Las tres letras escogidas son: a, g, e.\n"
     ]
    }
   ],
   "source": [
    "texto = input(\"Introduzca el texto a analizar\")\n",
    "texto ='''Python es un lenguaje de programacion muy popular y versatil. Su sintaxis clara y sencilla lo hace ideal para principiantes, pero tambien es lo suficientemente potente para proyectos avanzados. Python es un lenguaje interpretado, lo que significa que puedes ejecutar tu codigo linea por linea, facilitando la deteccion de errores y la depuracion.\n",
    "\n",
    "Una de las principales ventajas de Python es su amplia biblioteca estandar, que incluye modulos para tareas comunes como la manipulacion de cadenas, la gestion de archivos y la comunicacion en red. Ademas, existen numerosas bibliotecas de terceros que amplian aun mas sus capacidades, como NumPy para calculos numericos, Pandas para analisis de datos y Django para desarrollo web.\n",
    "\n",
    "Python es utilizado en una variedad de campos, desde el desarrollo web y la ciencia de datos hasta la inteligencia artificial y la automatizacion de tareas. Su comunidad activa y en crecimiento proporciona una gran cantidad de recursos, como tutoriales, foros y documentacion, que pueden ayudarte a aprender y mejorar tus habilidades en Python.\n",
    "\n",
    "En resumen, Python es una excelente opcion para cualquier persona interesada en la programacion, ya sea que estes comenzando o que busques un lenguaje flexible y poderoso para tus proyectos\n",
    "'''\n",
    "\n",
    "\n",
    "word1, word2, word3 = input(\"Escoja la primera letra: \"), input(\"Escoja la segunda letra: \"), input(\"Escoja la tercera letra: \")\n",
    "\n",
    "print(f\"El texto a analizar es el siguiente:\\n{texto}\")\n",
    "print(f\"Las tres letras escogidas son: {word1}, {word2}, {word3}.\")"
   ]
  }
 ],
 "metadata": {
  "kernelspec": {
   "display_name": "Python 3",
   "language": "python",
   "name": "python3"
  },
  "language_info": {
   "codemirror_mode": {
    "name": "ipython",
    "version": 3
   },
   "file_extension": ".py",
   "mimetype": "text/x-python",
   "name": "python",
   "nbconvert_exporter": "python",
   "pygments_lexer": "ipython3",
   "version": "3.10.10"
  }
 },
 "nbformat": 4,
 "nbformat_minor": 2
}
