{
 "cells": [
  {
   "cell_type": "markdown",
   "metadata": {},
   "source": [
    "# Proyecto del Día 3 #\n",
    "\n",
    "Bueno, el tercer día no ha dejado nada que desear. Hemos visto muchas cosas y de las buenas, \n",
    "y ha llegado la hora de juntar todo lo aprendido y ponerlo en práctica, creando un programa \n",
    "perfectamente funcional desde cero.\n",
    "\n",
    "Ahora que ya sabes usar los métodos y las propiedades de los strings, que sabes indexar \n",
    "conjuntos de datos como los strings, las listas y los tuples, y sobre todo ahora que conoces \n",
    "todos los tipos de datos que necesitas para poder almacenar lo que sea, vas a poder encontrar \n",
    "una forma de programar un analizador de texto. \n",
    "\n",
    "**La consigna es la siguiente:** vas a crear un programa que primero le **pida al usuario que \n",
    "ingrese un texto**. Puede ser un texto cualquiera: un artículo entero, un párrafo, una frase, un \n",
    "poema, lo que quiera. Luego, el programa le va a pedir al usuario que también **ingrese tres \n",
    "letras a su elección** y a partir de ese momento nuestro código va a procesar esa información \n",
    "para hacer **cinco tipos de análisis** y devolverle al usuario la siguiente información: \n",
    "\n",
    "1. **Primero:** ¿cuántas veces aparece cada una de las letras que eligió? Para lograr esto, te \n",
    "recomiendo almacenar esas letras en una lista y luego usar algún método propio de string \n",
    "que nos permita contar cuantas veces aparece un sub string dentro del string. Algo que \n",
    "debes tener en cuenta es que al buscar las letras pueden haber mayúsculas y minúsculas \n",
    "y esto va a afectar el resultado. Lo que deberías hacer para asegurarte de que se \n",
    "encuentren absolutamente todas las letras es pasar, tanto el texto original como las \n",
    "letras a buscar, a minúsculas. \n",
    "\n",
    "2. **Segundo:** le vas a decir al usuario cuántas palabras hay a lo largo de todo el texto. Y \n",
    "para lograr esta parte, recuerda que hay un método de string que permite transformarlo \n",
    "en una lista y que luego hay una función que permite averiguar el largo de una lista. \n",
    "\n",
    "3. **Tercero:** nos va a informar cuál es la primera letra del texto y cuál es la última. Aquí \n",
    "claramente echaremos mano de la indexación. \n",
    "\n",
    "4. **Cuarto:** el sistema nos va a mostrar cómo quedaría el texto si invirtiéramos el orden de \n",
    "las palabras. ¿Acaso hay algún método que permita invertir el orden de una lista, y otro \n",
    "que permita unir esos elementos con espacios intermedios? Piénsalo. \n",
    "\n",
    "5. **Y por último:** el sistema nos va a decir si la palabra “Python” se encuentra dentro del \n",
    "texto. Esta parte puede ser algo complicada de imaginársela, pero te voy a dar una pista: \n",
    "puedes usar booleanos para hacer tu averiguación y un diccionario para encontrar la \n",
    "manera de expresarle al usuario tu respuesta."
   ]
  },
  {
   "cell_type": "code",
   "execution_count": 35,
   "metadata": {},
   "outputs": [
    {
     "name": "stdout",
     "output_type": "stream",
     "text": [
      "El texto a analizar es el siguiente:\n",
      "Hola me llamo David y hoy estoy estudiando Python para repasar conceptos\n",
      "Las tres letras escogidas son: d, t, p.\n"
     ]
    }
   ],
   "source": [
    "#creamos una variable que pide introducir un texto\n",
    "texto = input(\"Introduzca el texto a analizar\")\n",
    "\n",
    "#creamos tres variables que piden elegir tres letras\n",
    "word1, word2, word3 = input(\"Escoja la primera letra: \"), input(\"Escoja la segunda letra: \"), input(\"Escoja la tercera letra: \")\n",
    "\n",
    "#mostramos el texto generado y las tres letras escogidas\n",
    "print(f\"El texto a analizar es el siguiente:\\n{texto}\")\n",
    "print(f\"Las tres letras escogidas son: {word1}, {word2}, {word3}.\")\n",
    "\n"
   ]
  },
  {
   "cell_type": "markdown",
   "metadata": {},
   "source": [
    "#### Primer ejercicio ####\n",
    "\n",
    "¿cuántas veces aparece cada una de las letras que eligió? Para lograr esto, te \n",
    "recomiendo almacenar esas letras en una lista y luego usar algún método propio de string \n",
    "que nos permita contar cuantas veces aparece un sub string dentro del string. Algo que \n",
    "debes tener en cuenta es que al buscar las letras pueden haber mayúsculas y minúsculas \n",
    "y esto va a afectar el resultado. Lo que deberías hacer para asegurarte de que se \n",
    "encuentren absolutamente todas las letras es pasar, tanto el texto original como las \n",
    "letras a buscar, a minúsculas."
   ]
  },
  {
   "cell_type": "code",
   "execution_count": 36,
   "metadata": {},
   "outputs": [
    {
     "name": "stdout",
     "output_type": "stream",
     "text": [
      "La letra d aparece en el texto 4 veces\n",
      "La letra t aparece en el texto 4 veces\n",
      "La letra p aparece en el texto 4 veces\n"
     ]
    }
   ],
   "source": [
    "#creamos tres listas vacías\n",
    "letra_1 = []\n",
    "letra_2 = []\n",
    "letra_3 =[]\n",
    "\n",
    "#iteramos sobra el texto para contar cada una de las letras escogidas e incluirlas en cada unas de las tres listas\n",
    "for x in texto.lower():\n",
    "    if x == word1:\n",
    "        letra_1.append(x)\n",
    "    if x == word2:\n",
    "        letra_2.append(x)\n",
    "    if x == word3:\n",
    "        letra_3.append(x)\n",
    "    else:\n",
    "        continue\n",
    "    \n",
    "#imprimimos el total de letras en cada lista\n",
    "print(f\"La letra {word1} aparece en el texto {len(letra_1)} veces\")\n",
    "print(f\"La letra {word2} aparece en el texto {len(letra_2)} veces\")\n",
    "print(f\"La letra {word3} aparece en el texto {len(letra_3)} veces\")"
   ]
  },
  {
   "cell_type": "markdown",
   "metadata": {},
   "source": [
    "#### Segundo ejercicio ####\n",
    "\n",
    "Le vas a decir al usuario cuántas palabras hay a lo largo de todo el texto. Y \n",
    "para lograr esta parte, recuerda que hay un método de string que permite transformarlo \n",
    "en una lista y que luego hay una función que permite averiguar el largo de una lista."
   ]
  },
  {
   "cell_type": "code",
   "execution_count": 37,
   "metadata": {},
   "outputs": [
    {
     "name": "stdout",
     "output_type": "stream",
     "text": [
      "El texto introducido tiene un total de 12 palabras\n"
     ]
    }
   ],
   "source": [
    "#partimos el texto por los espacios y generamos una lista con cada palabra\n",
    "lista_texto = texto.split(' ')\n",
    "\n",
    "#imprimimos el total de palabras de la lista\n",
    "print(f\"El texto introducido tiene un total de {len(lista_texto)} palabras\")"
   ]
  },
  {
   "cell_type": "markdown",
   "metadata": {},
   "source": [
    "#### Tercer ejercicio ####\n",
    "\n",
    "Crear una funcion que nos va a informar cuál es la primera letra del texto y cuál es la última. Aquí \n",
    "claramente echaremos mano de la indexación. \n"
   ]
  },
  {
   "cell_type": "code",
   "execution_count": 38,
   "metadata": {},
   "outputs": [
    {
     "name": "stdout",
     "output_type": "stream",
     "text": [
      "El texto introducido comienza por la letra H, y termina por la letra s\n"
     ]
    }
   ],
   "source": [
    "#mostramos el resultado del primer y último caracter\n",
    "print(f\"El texto introducido comienza por la letra {texto[0]}, y termina por la letra {texto[-1]}\")"
   ]
  },
  {
   "cell_type": "markdown",
   "metadata": {},
   "source": [
    "#### Cuarto ejercicio #### \n",
    "\n",
    "El sistema nos va a mostrar cómo quedaría el texto si invirtiéramos el orden de \n",
    "las palabras. ¿Acaso hay algún método que permita invertir el orden de una lista, y otro \n",
    "que permita unir esos elementos con espacios intermedios? Piénsalo."
   ]
  },
  {
   "cell_type": "code",
   "execution_count": 39,
   "metadata": {},
   "outputs": [
    {
     "name": "stdout",
     "output_type": "stream",
     "text": [
      "conceptos repasar para Python estudiando estoy hoy y David llamo me Hola\n"
     ]
    }
   ],
   "source": [
    "#invertimos la lista generada anteriormente\n",
    "lista_invertida = lista_texto[::-1]\n",
    "\n",
    "#unimos mediante espacios todos los elementos de la lista invertida\n",
    "texto_invertido = \" \".join(lista_invertida)\n",
    "\n",
    "#mostramos el resultado\n",
    "print(texto_invertido)"
   ]
  },
  {
   "cell_type": "markdown",
   "metadata": {},
   "source": [
    "#### Quinto ejercicio ####\n",
    "\n",
    "El sistema nos va a decir si la palabra “Python” se encuentra dentro del \n",
    "texto. Esta parte puede ser algo complicada de imaginársela, pero te voy a dar una pista: \n",
    "puedes usar booleanos para hacer tu averiguación y un diccionario para encontrar la \n",
    "manera de expresarle al usuario tu respuesta."
   ]
  },
  {
   "cell_type": "code",
   "execution_count": 40,
   "metadata": {},
   "outputs": [
    {
     "name": "stdout",
     "output_type": "stream",
     "text": [
      "En el texto introducido SI se encuentra la palabra \"Python\"\n"
     ]
    }
   ],
   "source": [
    "if \"Python\" in texto:\n",
    "    print('En el texto introducido SI se encuentra la palabra \"Python\"')\n",
    "else:\n",
    "    print('En el texto introducido NO se encuentra la palabra \"Python\"')"
   ]
  }
 ],
 "metadata": {
  "kernelspec": {
   "display_name": "Python 3",
   "language": "python",
   "name": "python3"
  },
  "language_info": {
   "codemirror_mode": {
    "name": "ipython",
    "version": 3
   },
   "file_extension": ".py",
   "mimetype": "text/x-python",
   "name": "python",
   "nbconvert_exporter": "python",
   "pygments_lexer": "ipython3",
   "version": "3.10.10"
  }
 },
 "nbformat": 4,
 "nbformat_minor": 2
}
