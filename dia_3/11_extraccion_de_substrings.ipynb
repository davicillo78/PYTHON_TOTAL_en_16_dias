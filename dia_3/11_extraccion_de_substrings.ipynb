{
 "cells": [
  {
   "cell_type": "markdown",
   "metadata": {},
   "source": [
    "# Método slicing #\n",
    "\n",
    "El método slicing nos permite extraer substrings de una string más grande"
   ]
  },
  {
   "cell_type": "code",
   "execution_count": 5,
   "metadata": {},
   "outputs": [
    {
     "name": "stdout",
     "output_type": "stream",
     "text": [
      "palabra\n",
      "02468\n",
      "13579\n",
      "9876543210\n"
     ]
    }
   ],
   "source": [
    "#por ejemplo, si queremos extraer la palabra \"palabra\" de la siguiente string:\n",
    "\n",
    "frase =  \"esta palabra será extraida\"\n",
    "#\"palabra\" comienza en el index 5 y termina en el 12 (el espacio), ya que el límite final se excluye del resultado\n",
    "\n",
    "print(frase[5:12])\n",
    "\n",
    "#podemos usar el método slicing para tomar los caracteres pares:\n",
    "serie = \"0123456789\"\n",
    "pares = serie[0::2] #--> series[inicio:final:paso]\n",
    "print(pares)\n",
    "impares = serie[1::2]\n",
    "print(impares)\n",
    "\n",
    "#podemos invertir el string\n",
    "inverso = serie[::-1]\n",
    "print(inverso)"
   ]
  }
 ],
 "metadata": {
  "kernelspec": {
   "display_name": "Python 3",
   "language": "python",
   "name": "python3"
  },
  "language_info": {
   "codemirror_mode": {
    "name": "ipython",
    "version": 3
   },
   "file_extension": ".py",
   "mimetype": "text/x-python",
   "name": "python",
   "nbconvert_exporter": "python",
   "pygments_lexer": "ipython3",
   "version": "3.10.10"
  }
 },
 "nbformat": 4,
 "nbformat_minor": 2
}
