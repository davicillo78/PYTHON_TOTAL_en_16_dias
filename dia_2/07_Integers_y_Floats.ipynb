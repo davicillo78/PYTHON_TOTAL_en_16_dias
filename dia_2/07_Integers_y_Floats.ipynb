{
 "cells": [
  {
   "cell_type": "markdown",
   "metadata": {},
   "source": [
    "Los dos tipos de datos numéricos utilizados en python son los integers o enteros (INT) y los float o decimales (FLOAT)\n",
    "\n",
    "Integers comprenden todos los números enteros positivos y negativos.\n",
    "\n",
    "Floats comprenden todos los números que contienen cifras decimales, positivos y negativos."
   ]
  },
  {
   "cell_type": "code",
   "execution_count": 2,
   "metadata": {},
   "outputs": [
    {
     "name": "stdout",
     "output_type": "stream",
     "text": [
      "<class 'int'>\n",
      "<class 'float'>\n"
     ]
    }
   ],
   "source": [
    "mi_numero = 1\n",
    "#consultamos el tipo de dato de la variable mi_numero\n",
    "print(type(mi_numero))\n",
    "\n",
    "mi_otro_numero = 3.1416\n",
    "#consultamos el tipo de dato de la variable mi_otro_numero\n",
    "print(type(mi_otro_numero))"
   ]
  },
  {
   "cell_type": "markdown",
   "metadata": {},
   "source": [
    "##### Operaciones matemáticas con datos numéricos"
   ]
  },
  {
   "cell_type": "code",
   "execution_count": 4,
   "metadata": {},
   "outputs": [
    {
     "name": "stdout",
     "output_type": "stream",
     "text": [
      "57\n",
      "<class 'int'>\n",
      "11\n",
      "<class 'int'>\n",
      "782\n",
      "<class 'int'>\n",
      "1.4782608695652173\n",
      "<class 'float'>\n",
      "1\n",
      "<class 'int'>\n",
      "11\n",
      "<class 'int'>\n",
      "1156\n",
      "<class 'int'>\n"
     ]
    }
   ],
   "source": [
    "num_1 = 34\n",
    "num_2 = 23\n",
    "\n",
    "#suma\n",
    "print(num_1 + num_2)\n",
    "print(type(num_1 + num_2))\n",
    "\n",
    "#resta\n",
    "print(num_1 - num_2)\n",
    "print(type(num_1 - num_2))\n",
    "\n",
    "#multiplicacion\n",
    "print(num_1 * num_2)\n",
    "print(type(num_1 * num_2))\n",
    "\n",
    "#division (el resultado siempre da un número tipo float)\n",
    "print(num_1 / num_2)\n",
    "print(type(num_1 / num_2))\n",
    "\n",
    "#division entera (obtenemos el resultado entero de la división)\n",
    "print(num_1 // num_2)\n",
    "print(type(num_1 // num_2))\n",
    "\n",
    "#módulo (el módulo es el resto de la división)\n",
    "print(num_1 % num_2)\n",
    "print(type(num_1 % num_2))\n",
    "\n",
    "#potencia\n",
    "print(num_1 ** 2)\n",
    "print(type(num_1 ** 2))\n"
   ]
  },
  {
   "cell_type": "markdown",
   "metadata": {},
   "source": [
    "##### Curiosidades con números y otros tipos de datos"
   ]
  },
  {
   "cell_type": "code",
   "execution_count": 7,
   "metadata": {},
   "outputs": [
    {
     "name": "stdout",
     "output_type": "stream",
     "text": [
      "30\n",
      "<class 'str'>\n"
     ]
    },
    {
     "ename": "TypeError",
     "evalue": "can only concatenate str (not \"int\") to str",
     "output_type": "error",
     "traceback": [
      "\u001b[1;31m---------------------------------------------------------------------------\u001b[0m",
      "\u001b[1;31mTypeError\u001b[0m                                 Traceback (most recent call last)",
      "Cell \u001b[1;32mIn [7], line 7\u001b[0m\n\u001b[0;32m      4\u001b[0m \u001b[38;5;28mprint\u001b[39m(\u001b[38;5;28mtype\u001b[39m(edad))\n\u001b[0;32m      6\u001b[0m \u001b[38;5;66;03m#No se puede operar un string numérico con un integer o un float\u001b[39;00m\n\u001b[1;32m----> 7\u001b[0m nueva_edad \u001b[38;5;241m=\u001b[39m \u001b[43medad\u001b[49m\u001b[43m \u001b[49m\u001b[38;5;241;43m+\u001b[39;49m\u001b[43m \u001b[49m\u001b[38;5;241;43m3\u001b[39;49m\n\u001b[0;32m      8\u001b[0m \u001b[38;5;28mprint\u001b[39m(nueva_edad)\n",
      "\u001b[1;31mTypeError\u001b[0m: can only concatenate str (not \"int\") to str"
     ]
    }
   ],
   "source": [
    "#input() siempre arroja un dato de tipo str si no se le indica lo contrario\n",
    "edad = input(\"Dimes tu edad: \")\n",
    "print(edad)\n",
    "print(type(edad))\n",
    "\n",
    "#No se puede operar un string numérico con un integer o un float\n",
    "nueva_edad = edad + 3\n",
    "print(nueva_edad)\n"
   ]
  }
 ],
 "metadata": {
  "kernelspec": {
   "display_name": "Python 3",
   "language": "python",
   "name": "python3"
  },
  "language_info": {
   "codemirror_mode": {
    "name": "ipython",
    "version": 3
   },
   "file_extension": ".py",
   "mimetype": "text/x-python",
   "name": "python",
   "nbconvert_exporter": "python",
   "pygments_lexer": "ipython3",
   "version": "3.10.10"
  }
 },
 "nbformat": 4,
 "nbformat_minor": 2
}
