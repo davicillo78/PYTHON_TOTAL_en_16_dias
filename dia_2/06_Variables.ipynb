{
 "cells": [
  {
   "cell_type": "markdown",
   "metadata": {},
   "source": [
    "Imagina una caja, vacía.\n",
    "En esta caja podemos guardar cualquier cosa. Por ejemplo, un libro favorito.\n",
    "Al introducir el libro favorito dentro, ponemos una etiqueta por fuera para saber qué contiene la caja.\n",
    "\n",
    "Esa etiqueta en programación es una variable. Son nombres o etiquetas que ponemos a los diferentes datos o conjuntos de datos antes de almacenarlos en la memoria del ordenador.\n",
    "\n",
    "Volvamos al libro y la caja. Yo leo otro libro y se convierte en mi nuevo favorito. Entonces vuelvo a la caja y saco el libro que tenía para guardar el nuevo favorito. He modificado el valor que tenía almacenado en la variable LibroFavorito sin modificar el nombre de la variable.\n",
    "\n",
    "Es decir, podemos reservar un espacio en memoria y darle el nombre que queramos para guardar en ese espacio el valor que nosotros deseemos (incluso podemos dejarlo vacío para un futuro)."
   ]
  },
  {
   "cell_type": "code",
   "execution_count": 4,
   "metadata": {},
   "outputs": [
    {
     "name": "stdout",
     "output_type": "stream",
     "text": [
      "Juán\n",
      "El nombre de mi variable es nombre y su valor es Juán\n",
      "Ahora el valor de la variable nombre es Laura\n"
     ]
    }
   ],
   "source": [
    "nombre = \"Juán\"\n",
    "print(nombre)\n",
    "print(\"El nombre de mi variable es nombre y su valor es \" + nombre)\n",
    "nombre = \"Laura\"\n",
    "print(\"Ahora el valor de la variable nombre es \" + nombre)"
   ]
  },
  {
   "cell_type": "code",
   "execution_count": 5,
   "metadata": {},
   "outputs": [
    {
     "name": "stdout",
     "output_type": "stream",
     "text": [
      "45\n"
     ]
    }
   ],
   "source": [
    "edad = 30\n",
    "edad2 = 15\n",
    "\n",
    "# Podemos realizar operaciones matemáticas con las variables que contienen datos numéricos\n",
    "\n",
    "print(edad + edad2)"
   ]
  },
  {
   "cell_type": "markdown",
   "metadata": {},
   "source": [
    "##### Reglas en el nombramiento de variables #####\n",
    "Las variables en python pueden tener el nombre que nosotros queramos, y si bien es cierto que hay libertad a la hora de nombrarlas, hay una seria de normas que debemos seguir.\n",
    "* Deben ser legibles y representativas de su contenido: Es recomendable que la variable nos de una pista clara del dato que contiene. Por ejemplo podemos nombrar una variable a = \"Tobby\" pero si en lugar de a utilizamos perro = \"Tobby\" es mas claro a qué se refiere esa variable. Otro ejemplo a = 25 por ejemplo si queremos expresar el valor del area de un circulo podemos utilizar area en lugar de a.\n",
    "* Unidad: las variables no pueden contener espacios (en python se suele utilizar los guiones bajos para representar los espacios).\n",
    "* No pueden utilizar signos o simbolos tales como: : ; \" ' , > < / ? | \\ ( ) ! @ # $ % & ^ ~ - +\n",
    "* No deben comenzar por un número, aunque pueden contenerlos o tenerlos al final.\n",
    "* Debemos evitar utilizar signos específicos del lenguaje español tales como las tildes o la letra ñ\n",
    "* No pueden ser palabras clave o reservadas del lenguaje python: input, print, int, bool, list, tuple, dict, str, float, del, append..."
   ]
  }
 ],
 "metadata": {
  "kernelspec": {
   "display_name": "Python 3",
   "language": "python",
   "name": "python3"
  },
  "language_info": {
   "codemirror_mode": {
    "name": "ipython",
    "version": 3
   },
   "file_extension": ".py",
   "mimetype": "text/x-python",
   "name": "python",
   "nbconvert_exporter": "python",
   "pygments_lexer": "ipython3",
   "version": "3.10.10"
  }
 },
 "nbformat": 4,
 "nbformat_minor": 2
}
