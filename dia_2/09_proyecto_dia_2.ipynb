{
 "cells": [
  {
   "cell_type": "markdown",
   "metadata": {},
   "source": [
    "## Proyecto del día 2 ##\n",
    "\n",
    "#### Situación ####\n",
    "\n",
    "Trabajas en una empresa donde los vendedores reciben comisiones del 13% por sus ventas totales.\n",
    "Tu jefe quieres que ayudes a los vendedores a calcular sus comisiones creando un programa que les pregunte:\n",
    "* Su nombre.\n",
    "* La cantidad vendida ese mes.\n",
    "\n",
    "El programa debe responder con una frase que incluya:\n",
    "\n",
    "* El nombre\n",
    "* Monto de ingresos que le corresponde por las ventas, y las comisiones por separado.\n",
    "* El toeal generado ese mes: ganancias + comisiones\n",
    "\n",
    "**Ejemplo**\n",
    "\n",
    "Nombre: Juán\n",
    "Ingresos por ventas: 2500\n",
    "\n",
    "Juán ha ingresado este mes 2500 € y ha generado unas ganancias por comisión de 325 €\n",
    "En total Juán ha ganado 2825 € este mes."
   ]
  },
  {
   "cell_type": "code",
   "execution_count": 4,
   "metadata": {},
   "outputs": [
    {
     "name": "stdout",
     "output_type": "stream",
     "text": [
      "David ha ingresado éste mes 12345.67€ y ha generado unas ganancias por comisión de 1604.94€.\n",
      "En total David ha ganado 13950.61€ éste mes.\n"
     ]
    }
   ],
   "source": [
    "# solicitamos al usuario que inrtoduzca el nombre del vendedor\n",
    "nombre = input(\"Introduzca el nombre del vendedor: \")\n",
    "# Pedimos al usuario que introduzca los ingresos mensuales (puede contener decimales)\n",
    "ingresos = float(input(\"¿Cuáles han sido sus ingresos por ventas este mes?: \"))\n",
    "# salida\n",
    "print(f\"{nombre} ha ingresado éste mes {ingresos}€ y ha generado unas ganancias por comisión de {round(ingresos * 0.13, 2)}€.\\nEn total {nombre} ha ganado {round(ingresos + ingresos*0.13, 2)}€ éste mes.\")"
   ]
  }
 ],
 "metadata": {
  "kernelspec": {
   "display_name": "Python 3",
   "language": "python",
   "name": "python3"
  },
  "language_info": {
   "codemirror_mode": {
    "name": "ipython",
    "version": 3
   },
   "file_extension": ".py",
   "mimetype": "text/x-python",
   "name": "python",
   "nbconvert_exporter": "python",
   "pygments_lexer": "ipython3",
   "version": "3.10.10"
  }
 },
 "nbformat": 4,
 "nbformat_minor": 2
}
