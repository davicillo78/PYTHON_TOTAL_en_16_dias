{
 "cells": [
  {
   "cell_type": "markdown",
   "metadata": {},
   "source": [
    "Al escribir código, manipulamos datos o información.\n",
    "Los datos pueden ser:\n",
    "* Texto o strings se le denomina con las letras STR y es cualquier dato introducido en formato texto, está encerrado entre comillas.\n",
    "* Números enteros o integers se les denomina con INT y son cifras numéricas enteras positivas o negativas. No van encerradas en comillas. \n",
    "* Números decimales o FLOAT positivos o negativos. Tampoco deben encerrarse entre comillas Con estos dos últimos tipos de pueden hacer operaciones matemáticas.\n",
    "* Valores Booleanos son dos: True y False. Se utilizan en operaciones de lógica booleana, cumplimiento de condiciones, etc."
   ]
  },
  {
   "cell_type": "markdown",
   "metadata": {},
   "source": [
    "##### Conjuntos de datos #####\n",
    "Los datos pueden estar agrupados en diferentes estructuras:\n",
    "\n",
    "* Listas: LIST es una colección ordenada (tienen un índice) de objetos o de datos. Se encierra entre corchetes y los diferentes datos se separan por coma\n",
    "    [\"Pedro\", \"Juán\", \"María\"] o [1, 2, 3, 6, 7]\n",
    "    Las posibilidades son infinitas [\"veinte\", [1, 2, 3], \"otro\", True, 23.4]...\n",
    "\n",
    "* Diccionarios: DIC es una agrupacion de objetos con una estructura particular. Tienen un objeto clave y otro objeto valor separados con dos puntos. Se encierran emtre llaves\n",
    "    {clave1:valor1, clave2: valor2, clave3: valor3...}\n",
    "    {\"país\":\"España\", \"edad\": 25, \"Verdadero\": True...}\n",
    "\n",
    "* Tuplas: TUPLE Muy parecidas a las listas, salvo por un detalle. SON INMUTABLES (no se puede modificar su contenido ni su índice) Se encierran entre paréntesis.\n",
    "    (\"lun\", \"mar\", \"mie\", \"jue\", \"vie\", \"sab\", \"dom\")\n",
    "\n",
    "* Sets: SET Se escriben entre llaves como los diccionarios. Se trata de un conjunto de elementos únicos (las listas o las tuplas pueden contener elemmentos repetidos). De tal forma que un SET como este {1, 2, 3, 3, 4, 5, 4} solo contendrá 5 elementos ya que 3 y 4 eliminará todos los repetidos del conjunto."
   ]
  }
 ],
 "metadata": {
  "language_info": {
   "name": "python"
  }
 },
 "nbformat": 4,
 "nbformat_minor": 2
}
