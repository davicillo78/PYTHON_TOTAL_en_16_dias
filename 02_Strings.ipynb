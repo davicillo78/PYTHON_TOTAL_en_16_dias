{
 "cells": [
  {
   "cell_type": "markdown",
   "metadata": {},
   "source": [
    "Los strings (cadenas en inglés) se trata de un tipo de los diferentes datos que existen en Python. Los strings se tratan de una \"cadena\" de caracteres.\n",
    "De tal forma \"Hola\" es un string formado por la consecución de los caracteres \"H\", \"o\", \"l\", \"a\".\n",
    "Los strings se representan encerrados entre comillas que pueden ser simples o dobles, pero, eso si, deben ser iguales las del apertura y las de cierre."
   ]
  },
  {
   "cell_type": "code",
   "execution_count": null,
   "metadata": {},
   "outputs": [],
   "source": [
    "# Strings válidos\n",
    "\"hola\"\n",
    "\"345\"\n",
    "\"True\"\n",
    "\n",
    "# Strings no válidos\n",
    "\n",
    "\"Perro \n",
    "\"Hola'\n",
    "Mundo\n",
    "\n",
    "# El primer string no tiene comillas de cierre, el segundo utiliza comillas dobles para apertura pero simples al cierre, y el tercero no tiene comillas\n",
    "# Los tres arrojarán un error bien SyntaxError o NameError.\n"
   ]
  },
  {
   "cell_type": "markdown",
   "metadata": {},
   "source": [
    "Todo lo que esté encerrado de tal forma entre comillas será tratado estrictamente como un string y no de otra forma.\n",
    "Tal es asi que si queremos realizar una operación matemática, pero la tenemos encerrada entre comillas, la operación no se va a realizar."
   ]
  },
  {
   "cell_type": "code",
   "execution_count": 7,
   "metadata": {},
   "outputs": [
    {
     "name": "stdout",
     "output_type": "stream",
     "text": [
      "3 + 5\n"
     ]
    }
   ],
   "source": [
    "# La siguiente operación no se va a realizar, sino que se va a tratar como un string\n",
    "print(\"3 + 5\")\n",
    "#salida = 3 + 5"
   ]
  },
  {
   "cell_type": "markdown",
   "metadata": {},
   "source": [
    "Operaciones con cadenas"
   ]
  },
  {
   "cell_type": "code",
   "execution_count": 25,
   "metadata": {},
   "outputs": [
    {
     "name": "stdout",
     "output_type": "stream",
     "text": [
      "Hola David\n",
      "holaDavid\n",
      "Mi nombre es \"David\"\n",
      "Me llamo \"David\"\n",
      "Esta es una línea\n",
      " y esta es otra línea\n",
      "Este es un mensaje\n",
      "impreso en varias\n",
      "lineas de código\n",
      "Detrás de este mensaje\t va una tabulación\n",
      "This isn't a number\n",
      "Este signo \\ es una barra invertida\n"
     ]
    }
   ],
   "source": [
    "# Las cadenas se pueden concatenar\n",
    "\n",
    "print(\"Hola\" + \" \" + \"David\")\n",
    "print(\"hola\" \"David\")\n",
    "# podemos imprimir comillas tambien, utilizando comillas simples para apertura y cierre de la string\n",
    "print('Mi nombre es \"David\"')\n",
    "# o utilizando el caracter especial de escape \"\\\"\n",
    "print(\"Me llamo \\\"David\\\"\")\n",
    "\n",
    "#podemos imprimir en varias lineas\n",
    "print(\"Esta es una línea\\n y esta es otra línea\")\n",
    "\n",
    "print('''Este es un mensaje\n",
    "impreso en varias\n",
    "lineas de código''')\n",
    "\n",
    "# Podemos insertar tabulaciones\n",
    "print(\"Detrás de este mensaje\\t va una tabulación\")\n",
    "\n",
    "# Mostrar caracteres especiales (ingles)\n",
    "print(\"This isn\\'t a number\")\n",
    "print(\"Este signo \\\\ es una barra invertida\")"
   ]
  },
  {
   "cell_type": "markdown",
   "metadata": {},
   "source": [
    "## Ejercicios con strings"
   ]
  },
  {
   "cell_type": "code",
   "execution_count": 26,
   "metadata": {},
   "outputs": [
    {
     "name": "stdout",
     "output_type": "stream",
     "text": [
      "Línea 1\n",
      "Línea 2\n",
      "Línea3\n"
     ]
    }
   ],
   "source": [
    "# Crea un código que imprima en pantalla la siguiente expresión (pero usando print una sola vez):\n",
    "\n",
    "#Línea 1\n",
    "#Línea 2\n",
    "#Línea 3\n",
    "\n",
    "print(\"Línea 1\\nLínea 2\\nLínea3\")"
   ]
  },
  {
   "cell_type": "code",
   "execution_count": 27,
   "metadata": {},
   "outputs": [
    {
     "name": "stdout",
     "output_type": "stream",
     "text": [
      "A\tB\tC\n",
      "D\tE\tF\n",
      "G\tH\tI\n"
     ]
    }
   ],
   "source": [
    "# Crea un código que imprima en pantalla la siguiente expresión.\n",
    "\n",
    "#A\tB\tC\n",
    "#D\tE\tF\n",
    "#G\tH\tI\n",
    "\n",
    "print(\"A\\tB\\tC\\nD\\tE\\tF\\nG\\tH\\tI\")"
   ]
  },
  {
   "cell_type": "code",
   "execution_count": 28,
   "metadata": {},
   "outputs": [
    {
     "name": "stdout",
     "output_type": "stream",
     "text": [
      "Barra Normal: /\n",
      "Barra Invertida: \\\n"
     ]
    }
   ],
   "source": [
    "# Crea un código que imprima en pantalla la siguiente expresión:\n",
    "\n",
    "#Barra Normal: /\n",
    "#Barra Invertida: \\\n",
    "    \n",
    "print(\"Barra Normal: /\\nBarra Invertida: \\\\\")"
   ]
  }
 ],
 "metadata": {
  "kernelspec": {
   "display_name": "Python 3",
   "language": "python",
   "name": "python3"
  },
  "language_info": {
   "codemirror_mode": {
    "name": "ipython",
    "version": 3
   },
   "file_extension": ".py",
   "mimetype": "text/x-python",
   "name": "python",
   "nbconvert_exporter": "python",
   "pygments_lexer": "ipython3",
   "version": "3.10.10"
  }
 },
 "nbformat": 4,
 "nbformat_minor": 2
}
