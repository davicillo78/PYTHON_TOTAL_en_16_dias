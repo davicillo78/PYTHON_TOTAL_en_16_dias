{
 "cells": [
  {
   "cell_type": "markdown",
   "metadata": {},
   "source": [
    "# Operadores lógicos #\n",
    "\n",
    "Son una serie de símbolos utilizados para hacer comparaciones lógicas entre elementos.\n",
    "La lista de comparadores es la siguiente:\n",
    "* Mayor que >\n",
    "* Menor que <\n",
    "* Mayor o iguel que >=\n",
    "* Menor o igual que <=\n",
    "* Igual que ==\n",
    "* Exactamente igual que ===\n",
    "* Diferente\n",
    "\n",
    "La respuesta que dan las operaciones con operadores lógicos es un valor booleano:\n",
    "\n",
    "    True\n",
    "    False"
   ]
  },
  {
   "cell_type": "code",
   "execution_count": 7,
   "metadata": {},
   "outputs": [
    {
     "name": "stdout",
     "output_type": "stream",
     "text": [
      "True\n",
      "False\n",
      "False\n",
      "True\n"
     ]
    }
   ],
   "source": [
    "# igual que == no debe confundirse co el símbolo de asignación de variables =\n",
    "variable = True\n",
    "print(variable)\n",
    "variable = 4>5\n",
    "print(variable)\n",
    "\n",
    "#comparando strings\n",
    "print('blanco' == 'negro') #False\n",
    "\n",
    "#comparando operaciones\n",
    "print(100/10 == 10) #True\n"
   ]
  },
  {
   "cell_type": "code",
   "execution_count": 9,
   "metadata": {},
   "outputs": [
    {
     "name": "stdout",
     "output_type": "stream",
     "text": [
      "False\n",
      "True\n"
     ]
    }
   ],
   "source": [
    "#diferente !=\n",
    "\n",
    "print(100 != 100) #False\n",
    "print('blanco' != 'negro') #True"
   ]
  },
  {
   "cell_type": "code",
   "execution_count": 11,
   "metadata": {},
   "outputs": [
    {
     "name": "stdout",
     "output_type": "stream",
     "text": [
      "False\n",
      "True\n",
      "False\n",
      "True\n"
     ]
    }
   ],
   "source": [
    "#mayor que VS mayor o igual que >=\n",
    "\n",
    "print(5 > 5) #False\n",
    "print(5 >= 5) #True\n",
    "\n",
    "#menor que VS menor o igual que <=\n",
    "\n",
    "print(5 < 5) #False\n",
    "print(5 <= 5) #True"
   ]
  },
  {
   "cell_type": "markdown",
   "metadata": {},
   "source": [
    "## Operadores logicos 2ª parte ##\n",
    "\n",
    "Vamos a hacer comparaciones lógicas entre más de dos elementos.\n",
    "\n",
    "    a = 4\n",
    "    b = 2\n",
    "    c = 7\n",
    "\n",
    "Podemos comparar si a es mayor que b \"y\" también mayor que c (operador lógico and)\n",
    "O tambien podemos comparar que a es mayor que b \"o\" mayor que c (operador lógico or)\n",
    "O por ejemplo que a \"no\" es b \"y\" c (operador lógico not)\n"
   ]
  },
  {
   "cell_type": "code",
   "execution_count": 16,
   "metadata": {},
   "outputs": [
    {
     "name": "stdout",
     "output_type": "stream",
     "text": [
      "False\n",
      "False\n",
      "False\n",
      "False\n",
      "True\n",
      "False\n"
     ]
    }
   ],
   "source": [
    "#comparación de mas de dos variables\n",
    "\n",
    "print(4 > 5)\n",
    "print(4 > 7)\n",
    "\n",
    "#and\n",
    "print(4 > 5 > 7)\n",
    "print(4 > (5 and 7))\n",
    "print((4 < 5) and (5 == 2+3)) #True\n",
    "\n",
    "#or\n",
    "print(4 > (5 or 7))"
   ]
  },
  {
   "cell_type": "markdown",
   "metadata": {},
   "source": [
    "## Tabla de condiciones ##\n",
    "\n",
    "La siguiente tabla muestra los resultados de los comparadores and, or y not\n",
    "\n",
    "| A | B | A & B |\n",
    "|---|---|---|\n",
    "| 0 | 0 | 0 |\n",
    "| 0 | 1 | 0 |\n",
    "| 1 | 0 | 0 |\n",
    "| 1 | 1 | 1 |\n",
    "\n",
    "<br>\n",
    "\n",
    "| A | B | A o B |\n",
    "|---|---|---|\n",
    "| 0 | 0 | 0 |\n",
    "| 0 | 1 | 1 |\n",
    "| 1 | 0 | 1 |\n",
    "| 1 | 1 | 1 |\n",
    "\n",
    "<br>\n",
    "\n",
    "| A | not A | B | not B |\n",
    "|---|---|---|---|\n",
    "| 0 | 1 | 0 | 1 |\n",
    "| 1 | 0 | 1 | 0 |"
   ]
  },
  {
   "cell_type": "code",
   "execution_count": 22,
   "metadata": {},
   "outputs": [
    {
     "name": "stdout",
     "output_type": "stream",
     "text": [
      "False\n",
      "True\n",
      "True\n",
      "False\n",
      "False\n"
     ]
    }
   ],
   "source": [
    "#comparación and, or y not\n",
    "print((1 == 10) and (3 == 3)) #False\n",
    "print((5 > 4) and (10 == 10)) #True\n",
    "\n",
    "print((1 == 10) or (3 == 3)) #True\n",
    "print((1 == 10) or (3 < 3)) #False\n",
    "\n",
    "a = 1 #True\n",
    "print(not a) #False"
   ]
  },
  {
   "cell_type": "code",
   "execution_count": 32,
   "metadata": {},
   "outputs": [
    {
     "name": "stdout",
     "output_type": "stream",
     "text": [
      "True\n",
      "False\n",
      "True\n",
      "True\n",
      "False\n",
      "True\n",
      "False\n",
      "False\n",
      "True\n"
     ]
    }
   ],
   "source": [
    "#lógica booleana con textos\n",
    "texto = \"esta frase es unica\"\n",
    "print('frase' in texto) #La palabra 'frase' SI está en texto = True\n",
    "print('David' in texto) #La palabra 'David' NO está en texto = False\n",
    "\n",
    "print('frase' and 'unica' in texto) # ambas palabras SI están en texto = True\n",
    "print(('frase' or 'Python') in texto) #Al menos una palabra SI está en texto = True\n",
    "print('frase' not in texto) #la palabra 'frase' SI está en texto = False\n",
    "\n",
    "print('rojo' == 'rojo') #True\n",
    "print('azul' != 'azul') #False\n",
    "print(not 'verde' == 'verde') #False\n",
    "print(not('negro' != 'negro')) #True (doble negación = afirmación)"
   ]
  }
 ],
 "metadata": {
  "kernelspec": {
   "display_name": "Python 3",
   "language": "python",
   "name": "python3"
  },
  "language_info": {
   "codemirror_mode": {
    "name": "ipython",
    "version": 3
   },
   "file_extension": ".py",
   "mimetype": "text/x-python",
   "name": "python",
   "nbconvert_exporter": "python",
   "pygments_lexer": "ipython3",
   "version": "3.10.10"
  }
 },
 "nbformat": 4,
 "nbformat_minor": 2
}
