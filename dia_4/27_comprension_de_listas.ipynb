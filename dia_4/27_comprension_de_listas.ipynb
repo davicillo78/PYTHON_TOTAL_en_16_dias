{
 "cells": [
  {
   "cell_type": "markdown",
   "metadata": {},
   "source": [
    "# Comprensión de listas #\n",
    "\n",
    "La comprensión de listas es una forma de declaración de listas de una forma más comprensible, dinámica y eficiente."
   ]
  },
  {
   "cell_type": "code",
   "execution_count": 14,
   "metadata": {},
   "outputs": [
    {
     "name": "stdout",
     "output_type": "stream",
     "text": [
      "['p', 'y', 't', 'h', 'o', 'n']\n"
     ]
    }
   ],
   "source": [
    "palabra = 'python'\n",
    "\n",
    "lista = []\n",
    "\n",
    "for letra in palabra:\n",
    "    lista.append(letra)\n",
    "print(lista)\n"
   ]
  },
  {
   "cell_type": "code",
   "execution_count": 15,
   "metadata": {},
   "outputs": [
    {
     "name": "stdout",
     "output_type": "stream",
     "text": [
      "[0, 4, 16, 36, 64, 100, 144, 196, 256, 324]\n"
     ]
    }
   ],
   "source": [
    "#con rangos\n",
    "lista_num = [n**2 for n in range(0, 20, 2)] #haz una lista de números pares de rango 0 a 20 elevados al cuadrado\n",
    "print(lista_num)\n"
   ]
  },
  {
   "cell_type": "code",
   "execution_count": 16,
   "metadata": {},
   "outputs": [
    {
     "name": "stdout",
     "output_type": "stream",
     "text": [
      "[6, 8, 10, 12, 14, 16, 18, 20]\n"
     ]
    }
   ],
   "source": [
    "#con rangos y condicionales if\n",
    "\n",
    "lista_2 = [n for n in range(0, 21, 2) if n*2 > 10] #haz una lista con números pares en rango de 0 a 20 solo si dichos números multiplicados por 2 son mayores que 10\n",
    "print(lista_2)"
   ]
  },
  {
   "cell_type": "code",
   "execution_count": 17,
   "metadata": {},
   "outputs": [
    {
     "name": "stdout",
     "output_type": "stream",
     "text": [
      "['no', 'no', 'no', 6, 8, 10, 12, 14, 16, 18, 20]\n"
     ]
    }
   ],
   "source": [
    "#para incluir sentencias if else, la estructura varía un poco\n",
    "#con rangos y condicionales if-else:\n",
    "lista_3 = [n if n*2 > 10 else 'no' for n in range(0, 21, 2)] #haz una lista con números pares en rango de 0 a 20 solo si dichos números multiplicados por 2 son mayores que 10\n",
    "#los números que multiplicados por 2 no sean mayores que 10, imprime 'no'\n",
    "print(lista_3)\n"
   ]
  },
  {
   "cell_type": "code",
   "execution_count": 19,
   "metadata": {},
   "outputs": [
    {
     "name": "stdout",
     "output_type": "stream",
     "text": [
      "[3.05, 6.1, 9.14, 12.19, 15.24]\n"
     ]
    }
   ],
   "source": [
    "\n",
    "pies = [10, 20, 30, 40, 50]\n",
    "# 1 pie = 1/3.281 metros\n",
    "metros = [round((pie / 3.281), 2) for pie in pies]\n",
    "print(metros)"
   ]
  }
 ],
 "metadata": {
  "kernelspec": {
   "display_name": "Python 3",
   "language": "python",
   "name": "python3"
  },
  "language_info": {
   "codemirror_mode": {
    "name": "ipython",
    "version": 3
   },
   "file_extension": ".py",
   "mimetype": "text/x-python",
   "name": "python",
   "nbconvert_exporter": "python",
   "pygments_lexer": "ipython3",
   "version": "3.10.10"
  }
 },
 "nbformat": 4,
 "nbformat_minor": 2
}
