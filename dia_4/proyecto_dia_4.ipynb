{
 "cells": [
  {
   "cell_type": "markdown",
   "metadata": {},
   "source": [
    "# Proyecto del Día 4 #\n",
    "\n",
    "A medida que aprendemos a programar, también se incrementa la cantidad de problemas a \n",
    "los que somos capaces de encontrarle solución gracias al código. Y esto implica que entonces \n",
    "nuestros desafíos van a ser cada vez más elevados.\n",
    "\n",
    "Ya sabes usar operadores de comparación, operadores lógicos, hacer control de flujo, hacer \n",
    "loops, conoces declaraciones muy útiles como random, zip, rango y muchas más. \n",
    "\n",
    "Entonces, ya estás en condiciones de subir de nivel y que te pida que programes algo un poco más \n",
    "complicado de lo que hemos hecho hasta ahora. Y hoy vas a crear por primera vez un juego \n",
    "completamente funcional, con el que podrás divertirte tú mismo un rato.\n",
    "\n",
    "**La consigna es esta**: el programa le va a preguntar al usuario su nombre, y luego le va a decir \n",
    "algo así como **“Bueno, Juan, he pensado un número entre 1 y 100, y tienes solo ocho intentos \n",
    "para adivinar cuál crees que es el número”**. \n",
    "\n",
    "Entonces, en cada intento el jugador dirá un número y el programa puede responder cuatro cosas distintas: \n",
    "\n",
    "* Si el número que dijo el usuario es menor a 1 o superior a 100, le va a decir que ha elegido \n",
    "un número que no está permitido. \n",
    "\n",
    "* Si el número que ha elegido el usuario es menor al que ha pensado el programa, le va a \n",
    "decir que su respuesta es incorrecta y que ha elegido un número menor al número secreto.\n",
    "\n",
    "* Si el usuario eligió un número mayor al número secreto, también se lo hará saber de la \n",
    "misma manera.\n",
    "\n",
    "* Y si el usuario acertó el número secreto, se le va a informar que ha ganado y cuántos \n",
    "intentos le ha tomado.\n",
    "  \n",
    "Si el usuario no ha acertado en este primer intento, se le va a volver a pedir que elija otro \n",
    "número. Y así hasta que gane o hasta que se agoten los ocho intentos. "
   ]
  },
  {
   "cell_type": "code",
   "execution_count": 3,
   "metadata": {},
   "outputs": [
    {
     "name": "stdout",
     "output_type": "stream",
     "text": [
      "Bueno , he pensado en un número entero entre 1 y 100.\n",
      "Tienes 8 intentos para acertarlo.\n",
      "A cada intento te diré:\n",
      "    1. Si has dicho un número fuera de rango.\n",
      "    2. Si el número que has dicho está por encima del que he elegido.\n",
      "    3. Si el número que has dicho esté por debajo del que he elegido.\n",
      "    4. Si has acertado el número.\n",
      "\n",
      "!RECUERDA¡, cada intento cuenta.\n",
      "No los malgastes.\n",
      "¿Podrás adivinar el número secreto a tiempo?\n",
      "\n"
     ]
    },
    {
     "ename": "ValueError",
     "evalue": "invalid literal for int() with base 10: ''",
     "output_type": "error",
     "traceback": [
      "\u001b[1;31m---------------------------------------------------------------------------\u001b[0m",
      "\u001b[1;31mValueError\u001b[0m                                Traceback (most recent call last)",
      "Cell \u001b[1;32mIn [3], line 21\u001b[0m\n\u001b[0;32m      8\u001b[0m \u001b[38;5;28mprint\u001b[39m(\u001b[38;5;124mf\u001b[39m\u001b[38;5;124m\"\"\"\u001b[39m\u001b[38;5;124mBueno \u001b[39m\u001b[38;5;132;01m{\u001b[39;00mnombre\u001b[38;5;132;01m}\u001b[39;00m\u001b[38;5;124m, he pensado en un número entero entre 1 y 100.\u001b[39m\u001b[38;5;130;01m\\n\u001b[39;00m\u001b[38;5;124mTienes \u001b[39m\u001b[38;5;132;01m{\u001b[39;00mintentos\u001b[38;5;132;01m}\u001b[39;00m\u001b[38;5;124m intentos para acertarlo.\u001b[39m\n\u001b[0;32m      9\u001b[0m \u001b[38;5;124mA cada intento te diré:\u001b[39m\n\u001b[0;32m     10\u001b[0m \u001b[38;5;124m    1. Si has dicho un número fuera de rango.\u001b[39m\n\u001b[1;32m   (...)\u001b[0m\n\u001b[0;32m     17\u001b[0m \u001b[38;5;124m¿Podrás adivinar el número secreto a tiempo?\u001b[39m\n\u001b[0;32m     18\u001b[0m \u001b[38;5;124m\"\"\"\u001b[39m)\n\u001b[0;32m     20\u001b[0m \u001b[38;5;28;01mwhile\u001b[39;00m intentos \u001b[38;5;241m>\u001b[39m \u001b[38;5;241m0\u001b[39m:\n\u001b[1;32m---> 21\u001b[0m     entrada \u001b[38;5;241m=\u001b[39m \u001b[38;5;28;43mint\u001b[39;49m\u001b[43m(\u001b[49m\u001b[38;5;28;43minput\u001b[39;49m\u001b[43m(\u001b[49m\u001b[38;5;124;43m\"\u001b[39;49m\u001b[38;5;124;43mIntroduce un número entero del 1 al 100: \u001b[39;49m\u001b[38;5;124;43m\"\u001b[39;49m\u001b[43m)\u001b[49m\u001b[43m)\u001b[49m\n\u001b[0;32m     22\u001b[0m     intentos \u001b[38;5;241m-\u001b[39m\u001b[38;5;241m=\u001b[39m \u001b[38;5;241m1\u001b[39m\n\u001b[0;32m     23\u001b[0m     \u001b[38;5;28;01mif\u001b[39;00m entrada \u001b[38;5;241m==\u001b[39m numero:\n",
      "\u001b[1;31mValueError\u001b[0m: invalid literal for int() with base 10: ''"
     ]
    }
   ],
   "source": [
    "from random import randint\n",
    "\n",
    "numero = randint(1, 101)\n",
    "intentos = 8\n",
    "nombre = input(\"Hola, ¿cómo te llamas?: \")\n",
    "\n",
    "print(f\"\"\"Bueno {nombre}, he pensado en un número entero entre 1 y 100.\\nTienes {intentos} intentos para acertarlo.\n",
    "A cada intento te diré:\n",
    "    1. Si has dicho un número fuera de rango.\n",
    "    2. Si el número que has dicho está por encima del que he elegido.\n",
    "    3. Si el número que has dicho esté por debajo del que he elegido.\n",
    "    4. Si has acertado el número.\n",
    "\n",
    "!RECUERDA¡, cada intento cuenta.\n",
    "No los malgastes.\n",
    "¿Podrás adivinar el número secreto a tiempo?\n",
    "\"\"\")\n",
    "\n",
    "while intentos > 0:\n",
    "    entrada = int(input(\"Introduce un número entero del 1 al 100: \"))\n",
    "    intentos -= 1\n",
    "    if entrada == numero:\n",
    "        print(f\"\"\"!FELICIDADES¡ Yo había pensado en el número {numero} y tu lo has adivinado a tiempo.\n",
    "además te han sobrado {intentos} intentos.\"\"\") \n",
    "        break   \n",
    "    elif entrada in range(1,101) and entrada > numero:\n",
    "        print(f\"\"\"Lo siento, el número {entrada} está por encima del número secreto.\n",
    "* Te quedan {intentos} intentos.\n",
    "* Piensa en otro número más pequeño.\n",
    "\"\"\")\n",
    "    elif entrada in range(1,101) and entrada < numero:\n",
    "        print(f\"\"\"Lo siento, el número {entrada} está por debajo del número secreto.\n",
    "* Te quedan {intentos} intentos.\n",
    "* Piensa en otro número más grande.\n",
    "\"\"\")    \n",
    "    else:\n",
    "        print(f\"\"\"Lo siento, el número {entrada} está fuera del rango permitido.\n",
    "* Te quedan {intentos} intentos.\n",
    "* Piensa en otro número dentro del rango.\n",
    "\"\"\")\n",
    "if intentos == 0:\n",
    "    print(f\"\"\"!OH VAYA¡ Has agotado todos los intentos disponibles.\n",
    "* El número que había escogido era el {numero} y no lo has acertado.\n",
    "!PRUEBA SUERTE EN OTRA OCASIÓN¡\"\"\")"
   ]
  }
 ],
 "metadata": {
  "kernelspec": {
   "display_name": "Python 3",
   "language": "python",
   "name": "python3"
  },
  "language_info": {
   "codemirror_mode": {
    "name": "ipython",
    "version": 3
   },
   "file_extension": ".py",
   "mimetype": "text/x-python",
   "name": "python",
   "nbconvert_exporter": "python",
   "pygments_lexer": "ipython3",
   "version": "3.10.10"
  }
 },
 "nbformat": 4,
 "nbformat_minor": 2
}
