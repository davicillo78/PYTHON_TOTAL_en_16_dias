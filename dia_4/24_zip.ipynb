{
 "cells": [
  {
   "cell_type": "markdown",
   "metadata": {},
   "source": [
    "# Zip #\n",
    "\n",
    "Cuando tenemos dos listas, podemos gererar otras estructuras de datos iterando de forma simultanea en cada elemento de cada una de las dos listas.\n",
    "\n",
    "De tal forma que si tenemos:\n",
    "\n",
    "    lista1 = ['a', 'b', 'c']\n",
    "    lista2 = [1, 2, 3]\n",
    "\n",
    "    lista_combinada = zip(lista1, lista2)\n",
    "\n",
    "Esto nos daría en la lista final una lista de tuplas de la siguiente forma:\n",
    "\n",
    "    lista_combinada = [('a', 1), ('b', 2), ('c', 3)]"
   ]
  },
  {
   "cell_type": "code",
   "execution_count": 23,
   "metadata": {},
   "outputs": [
    {
     "name": "stdout",
     "output_type": "stream",
     "text": [
      "<zip object at 0x000001AD625EDD00>\n",
      "{'Pedro': 23, 'Juan': 32, 'Ana': 43, 'Maria': 50}\n"
     ]
    }
   ],
   "source": [
    "nombres = ['Pedro', 'Juan', 'Ana', 'Maria']\n",
    "edades = 23, 32, 43, 50\n",
    "\n",
    "resultado = zip(nombres, edades)\n",
    "print(resultado) #esto nos genera un objeto tipo zip, por lo que necesitamos castearlo a otra estructura de datos\n",
    "\n",
    "#generamos un diccionario a partir del objeto zip\n",
    "diciconario = dict(resultado)\n",
    "print(diciconario)\n"
   ]
  },
  {
   "cell_type": "markdown",
   "metadata": {},
   "source": [
    "##### NOTA #####\n",
    "\n",
    "si una lista tiene más elementos que otra, los elementos de la lista mas larga que no tengan pareja con la lista corta, no serán combinados."
   ]
  },
  {
   "cell_type": "code",
   "execution_count": 24,
   "metadata": {},
   "outputs": [
    {
     "name": "stdout",
     "output_type": "stream",
     "text": [
      "<zip object at 0x000001AD625AAF80>\n",
      "{'Pedro': 23, 'Juan': 32, 'Ana': 43, 'Maria': 50}\n"
     ]
    }
   ],
   "source": [
    "nombres = ['Pedro', 'Juan', 'Ana', 'Maria', 'David'] # 'David' quedará excluido ya que no hay edad, para combinar con este elemento\n",
    "edades = 23, 32, 43, 50\n",
    "\n",
    "resultado = zip(nombres, edades)\n",
    "print(resultado) #esto nos genera un objeto tipo zip, por lo que necesitamos castearlo a otra estructura de datos\n",
    "\n",
    "#generamos un diccionario a partir del objeto zip\n",
    "diciconario = dict(resultado)\n",
    "print(diciconario)"
   ]
  },
  {
   "cell_type": "code",
   "execution_count": 25,
   "metadata": {},
   "outputs": [
    {
     "name": "stdout",
     "output_type": "stream",
     "text": [
      "[('uno', 'um', 'one'), ('dos', 'dois', 'two'), ('tres', 'três', 'three'), ('cuatro', 'quatro', 'four'), ('cinco', 'cinco', 'five')]\n"
     ]
    }
   ],
   "source": [
    "#Crea el zip con las traducciones los números del 1 al 5 en español, portugués e inglés (en el mismo orden), \n",
    "# y convierte el objeto generado en una lista almacenada en la variable numeros:\n",
    "'''\n",
    "1: uno / um / one\n",
    "2: dos / dois / two\n",
    "3: tres / três / three\n",
    "4: cuatro / quatro / four\n",
    "5: cinco / cinco / five\n",
    "'''\n",
    "numeros = list(zip(('uno', 'dos', 'tres', 'cuatro', 'cinco'), ('um', 'dois', 'três', 'quatro', 'cinco'), ('one', 'two', 'three', 'four', 'five')))\n",
    "print(numeros)"
   ]
  }
 ],
 "metadata": {
  "kernelspec": {
   "display_name": "Python 3",
   "language": "python",
   "name": "python3"
  },
  "language_info": {
   "codemirror_mode": {
    "name": "ipython",
    "version": 3
   },
   "file_extension": ".py",
   "mimetype": "text/x-python",
   "name": "python",
   "nbconvert_exporter": "python",
   "pygments_lexer": "ipython3",
   "version": "3.10.10"
  }
 },
 "nbformat": 4,
 "nbformat_minor": 2
}
