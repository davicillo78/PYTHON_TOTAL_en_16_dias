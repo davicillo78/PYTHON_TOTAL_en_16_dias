{
 "cells": [
  {
   "cell_type": "markdown",
   "metadata": {},
   "source": [
    "# random #\n",
    "\n",
    "Sirve para generar métodos aleatorios. Este método debemos importarlo para poder trabajar con él.\n",
    "\n",
    "El método randint() viene de las palabras random integer.\n",
    "\n",
    "Se importa de la siguiente manera:\n",
    "\n",
    "    from random import randint\n",
    "\n",
    "Si queremos importar todos los métodos del paquete random:\n",
    "\n",
    "    from random import *"
   ]
  },
  {
   "cell_type": "code",
   "execution_count": 8,
   "metadata": {},
   "outputs": [],
   "source": [
    "from random import *"
   ]
  },
  {
   "cell_type": "code",
   "execution_count": 23,
   "metadata": {},
   "outputs": [
    {
     "name": "stdout",
     "output_type": "stream",
     "text": [
      "30\n"
     ]
    }
   ],
   "source": [
    "aleatorio = randint(1, 50) #el último número queda excluido (rango real de 1 a 49)\n",
    "print(aleatorio)"
   ]
  },
  {
   "cell_type": "code",
   "execution_count": 24,
   "metadata": {},
   "outputs": [
    {
     "name": "stdout",
     "output_type": "stream",
     "text": [
      "2.188426721872865\n",
      "3.7\n"
     ]
    }
   ],
   "source": [
    "#uniform genera números aleatorios decimales (muchos decimales (14) )\n",
    "\n",
    "aleatorio = uniform(1, 5)\n",
    "print(aleatorio)\n",
    "\n",
    "#este método uniform lo podemos acotar para obtener solo los decimales que queramos\n",
    "aleatorio = round(uniform(1, 5), 1) #asi solo obtenemos un decimal\n",
    "print(aleatorio)"
   ]
  },
  {
   "cell_type": "code",
   "execution_count": 25,
   "metadata": {},
   "outputs": [
    {
     "name": "stdout",
     "output_type": "stream",
     "text": [
      "0.8647442836738609\n"
     ]
    }
   ],
   "source": [
    "#random genera un número decimal entre 0 y 1 (no necesita argumentos)\n",
    "\n",
    "aleatorio = random()\n",
    "print(aleatorio)"
   ]
  },
  {
   "cell_type": "code",
   "execution_count": 26,
   "metadata": {},
   "outputs": [
    {
     "name": "stdout",
     "output_type": "stream",
     "text": [
      "amarillo\n"
     ]
    }
   ],
   "source": [
    "#choice permite trabajar con strings o elementos de colecciones de datos\n",
    "\n",
    "colores = ['azul', 'rojo', 'verde', 'amarillo']\n",
    "aleatorio = choice(colores)\n",
    "print(aleatorio)"
   ]
  },
  {
   "cell_type": "code",
   "execution_count": 27,
   "metadata": {},
   "outputs": [
    {
     "name": "stdout",
     "output_type": "stream",
     "text": [
      "[5, 10, 20, 25, 40, 30, 15, 45, 35]\n",
      "['verde', 'azul', 'amarillo', 'rojo']\n"
     ]
    }
   ],
   "source": [
    "#shuffle intercambia el orden de los elementos en una colección de números o strings\n",
    "#IMPORTANTE este método provoca una modificación in situ. Es decir, modifica la lista \n",
    "#No se puede utilizar con stringso estructuras de datos inmutables\n",
    "\n",
    "numeros = list(range(5, 50, 5))\n",
    "shuffle(numeros)\n",
    "print(numeros)\n",
    "\n",
    "colores = ['azul', 'rojo', 'verde', 'amarillo']\n",
    "shuffle(colores)\n",
    "print(colores)"
   ]
  }
 ],
 "metadata": {
  "kernelspec": {
   "display_name": "Python 3",
   "language": "python",
   "name": "python3"
  },
  "language_info": {
   "codemirror_mode": {
    "name": "ipython",
    "version": 3
   },
   "file_extension": ".py",
   "mimetype": "text/x-python",
   "name": "python",
   "nbconvert_exporter": "python",
   "pygments_lexer": "ipython3",
   "version": "3.10.10"
  }
 },
 "nbformat": 4,
 "nbformat_minor": 2
}
