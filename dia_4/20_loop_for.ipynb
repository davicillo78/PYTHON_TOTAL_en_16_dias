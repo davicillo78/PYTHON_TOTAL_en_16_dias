{
 "cells": [
  {
   "cell_type": "markdown",
   "metadata": {},
   "source": [
    "# Loops #\n",
    "\n",
    "Un loop es otra forma de control de flujo. Bucle en español significa repetir una misma acción una y otra vez.\n",
    "\n",
    "Los bucles pueden tener un número definido de veces que se repite o puede tener un número indefinido de repeticiones.\n",
    "\n",
    "Podemos, por tanto, crear una secuencia de control if-elif-else que se repita las veces que queramos.\n",
    "\n",
    "También podemos usar una estructura de datos como una lista para crear un bucle que aplique una condición a cada elemento de dicha lista."
   ]
  },
  {
   "cell_type": "markdown",
   "metadata": {},
   "source": [
    "## Loop for ##\n",
    "\n",
    "El loop **for** es un bucle que se repite el número de veces que nosotros le indiquemos.\n",
    "También se usa para **iterar** en todos los elementos de una estructura de datos."
   ]
  },
  {
   "cell_type": "markdown",
   "metadata": {},
   "source": [
    "## Loop for ##\n",
    "\n",
    "El loop **for** es un bucle que se repite el número de veces que nosotros le indiquemos.\n",
    "También se usa para **iterar** en todos los elementos de una estructura de datos."
   ]
  },
  {
   "cell_type": "code",
   "execution_count": 9,
   "metadata": {},
   "outputs": [
    {
     "name": "stdout",
     "output_type": "stream",
     "text": [
      "Hola\n",
      "Hola\n",
      "Hola\n",
      "Hola\n",
      "Hola Pedro\n",
      "Hola Ana\n",
      "Hola Juán\n",
      "Hola Luis\n"
     ]
    }
   ],
   "source": [
    "lista = ['Pedro', 'Ana', 'Juán', 'Luis']\n",
    "\n",
    "#podemos iterar en cada elemento de la lista para realizar una acción\n",
    "for nombre in lista:\n",
    "    print('Hola')\n",
    "#en este caso nos ha imprimido hola tantas veces como elementos hey en la lista\n",
    "#Pero el potencial de los bucles for es que la variable 'nombre' va a contener el elemento de la lista correzpondiente en cada iteración\n",
    "#por lo que en este caso podemos dar un mensaje personalizado.\n",
    "for nombre in lista:\n",
    "    print('Hola', nombre)"
   ]
  },
  {
   "cell_type": "code",
   "execution_count": 10,
   "metadata": {},
   "outputs": [
    {
     "name": "stdout",
     "output_type": "stream",
     "text": [
      "a\n",
      "b\n",
      "c\n",
      "La letra a ocupa el índice 0\n",
      "La letra b ocupa el índice 1\n",
      "La letra c ocupa el índice 2\n",
      "Pedro tiene 5 caracteres\n",
      "Ana tiene 3 caracteres\n",
      "Juán tiene 4 caracteres\n",
      "Luis tiene 4 caracteres\n"
     ]
    }
   ],
   "source": [
    "letras = ['a', 'b', 'c']\n",
    "\n",
    "for letra in letras:\n",
    "    print(letra)\n",
    "\n",
    "#obtener el índice de un elemento\n",
    "for letra in letras:\n",
    "    numero_letra = letras.index(letra)\n",
    "    print(f\"La letra {letra} ocupa el índice {numero_letra}\")\n",
    "\n",
    "#obtener la longitud de un elemento\n",
    "nombres = ['Pedro', 'Ana', 'Juán', 'Luis']\n",
    "for nombre in nombres:\n",
    "    longitud = len(nombre)\n",
    "    print(f\"{nombre} tiene {longitud} caracteres\")"
   ]
  },
  {
   "cell_type": "code",
   "execution_count": 11,
   "metadata": {},
   "outputs": [
    {
     "name": "stdout",
     "output_type": "stream",
     "text": [
      "El nombre de Pedro NO comienza por L\n",
      "El nombre de Laura comienza por L\n",
      "El nombre de Ana NO comienza por L\n",
      "El nombre de Juán NO comienza por L\n",
      "El nombre de Luis comienza por L\n"
     ]
    }
   ],
   "source": [
    "#Otra posibilidad es combinar control de flujo y loops\n",
    "#De esta forma podemos por ejemplo seleccionar los elementos que cumplan una condicion\n",
    "nombres = ['Pedro', 'Laura', 'Ana', 'Juán', 'Luis']\n",
    "for nombre in nombres:\n",
    "    if nombre.startswith('L'):\n",
    "        print(f\"El nombre de {nombre} comienza por L\")\n",
    "    else:\n",
    "        print(f\"El nombre de {nombre} NO comienza por L\")"
   ]
  },
  {
   "cell_type": "code",
   "execution_count": 12,
   "metadata": {},
   "outputs": [
    {
     "name": "stdout",
     "output_type": "stream",
     "text": [
      "p\n",
      "y\n",
      "t\n",
      "h\n",
      "o\n",
      "n\n"
     ]
    }
   ],
   "source": [
    "palabra = 'python'\n",
    "for letra in palabra:\n",
    "    print(letra)"
   ]
  },
  {
   "cell_type": "code",
   "execution_count": 13,
   "metadata": {},
   "outputs": [
    {
     "name": "stdout",
     "output_type": "stream",
     "text": [
      "15\n",
      "[1, 3, 6, 10, 15]\n"
     ]
    }
   ],
   "source": [
    "# control de flujo y loops con números.\n",
    "#Aquí es donde se pone interesante porque podemos combinar los loops con el control de flujo y con operaciones matemáticas.\n",
    "\n",
    "numeros = [1, 2, 3, 4, 5]\n",
    "mi_valor = 0\n",
    "for numero in numeros:\n",
    "    mi_valor = (mi_valor + numero)\n",
    "\n",
    "print(mi_valor) #resulta la suma de los números de la lista\n",
    "\n",
    "#si queremos que nos de en una lista el rango de todos los números durante la suma:\n",
    "numeros = [1, 2, 3, 4, 5]\n",
    "mi_valor = 0\n",
    "lista = []\n",
    "for numero in numeros:\n",
    "    mi_valor = (mi_valor + numero)\n",
    "    lista.append(mi_valor)\n",
    "\n",
    "print(lista)"
   ]
  },
  {
   "cell_type": "code",
   "execution_count": 14,
   "metadata": {},
   "outputs": [
    {
     "name": "stdout",
     "output_type": "stream",
     "text": [
      "1\n",
      "2\n",
      "3\n",
      "4\n",
      "[1, 2, 3]\n",
      "[4, 5, 6]\n"
     ]
    }
   ],
   "source": [
    "#control de flujo y loops con estructuras de datos:\n",
    "\n",
    "#listas y listas de listas:\n",
    "for num in [1, 2, 3, 4]:\n",
    "    print(num)\n",
    "    \n",
    "for objeto in [[1, 2, 3], [4, 5, 6]]:\n",
    "    print(objeto)\n",
    "    "
   ]
  },
  {
   "cell_type": "code",
   "execution_count": 15,
   "metadata": {},
   "outputs": [
    {
     "name": "stdout",
     "output_type": "stream",
     "text": [
      "1\n",
      "2\n",
      "3\n",
      "4\n",
      "5\n",
      "6\n"
     ]
    }
   ],
   "source": [
    "#ITERACION DE LISTAS DENTRO DE LISTAS\n",
    "#si quiero obtener los números de cada una de las listas:\n",
    "for a, b in [[1, 2],[3, 4],[5, 6]]:\n",
    "    print(a)\n",
    "    print(b)"
   ]
  },
  {
   "cell_type": "code",
   "execution_count": 16,
   "metadata": {},
   "outputs": [
    {
     "name": "stdout",
     "output_type": "stream",
     "text": [
      "clave1\n",
      "clave2\n",
      "clave3\n",
      "clave1 a\n",
      "clave2 b\n",
      "clave3 c\n",
      "('clave1', 'a')\n",
      "('clave2', 'b')\n",
      "('clave3', 'c')\n",
      "clave1\n",
      "clave2\n",
      "clave3\n",
      "a\n",
      "b\n",
      "c\n"
     ]
    }
   ],
   "source": [
    "#ITERACION DE DICCIONARIOS\n",
    "\n",
    "#solo imprime las claves\n",
    "dic = {'clave1':'a', 'clave2':'b', 'clave3':'c'}\n",
    "for item in dic:\n",
    "    print(item)\n",
    "\n",
    "#imprime las claves y los valores\n",
    "for a, b in dic.items():\n",
    "    print(a, b)\n",
    "\n",
    "#USANDO METODOS DE DICCIONARIO\n",
    "\n",
    "#imprime las claves y los valores\n",
    "for item in dic.items():\n",
    "    print(item)\n",
    "\n",
    "#imprime solo las claves\n",
    "for item in dic.keys():\n",
    "    print(item)\n",
    "\n",
    "#imprime solo los valores\n",
    "for item in dic.values():\n",
    "    print(item)"
   ]
  }
 ],
 "metadata": {
  "kernelspec": {
   "display_name": "Python 3",
   "language": "python",
   "name": "python3"
  },
  "language_info": {
   "codemirror_mode": {
    "name": "ipython",
    "version": 3
   },
   "file_extension": ".py",
   "mimetype": "text/x-python",
   "name": "python",
   "nbconvert_exporter": "python",
   "pygments_lexer": "ipython3",
   "version": "3.10.10"
  }
 },
 "nbformat": 4,
 "nbformat_minor": 2
}
