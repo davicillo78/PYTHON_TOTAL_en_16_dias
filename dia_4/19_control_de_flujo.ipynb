{
 "cells": [
  {
   "cell_type": "markdown",
   "metadata": {},
   "source": [
    "# Control de flujo #\n",
    "\n",
    "Cuando hablamos de control de flujo, nos referimos a la posibilidad de darle instrucciones al programa para que tome decisiones en base a si se cumple o no cierta condición.\n",
    "\n",
    "Las plabaras reservadas que dispone Python para este control sencillo de flujo son: \n",
    "\n",
    "* if: significa que \"**si**\" se cumple la condición propuesta, ejecute el código adyacente a esta condición.\n",
    "\n",
    "* elif: es una mezcla de else + if. Significa que si \"**no**\" se ha cumplido la condición anterior pero \"**si**\" se cumple esta otra, se ejecute el código adyacente a esta otra condición.\n",
    "\n",
    "* else: es la última sentencia de control, significa que si \"**no**\" se han cumplido ninguna de las condiciones anteriores, ejecute el codigo adyacente a esta última condición.\n",
    "\n",
    "```    \n",
    "    if condicion1:\n",
    "        codigo_condicion_1\n",
    "\n",
    "    elif condicion2:\n",
    "        codigo_condicion_2\n",
    "\n",
    "    else:\n",
    "        codigo_condicion_ultima\n",
    "```\n",
    "\n"
   ]
  },
  {
   "cell_type": "code",
   "execution_count": 58,
   "metadata": {},
   "outputs": [
    {
     "name": "stdout",
     "output_type": "stream",
     "text": [
      "correcto\n"
     ]
    }
   ],
   "source": [
    "x = True\n",
    "\n",
    "if x:\n",
    "    print(\"correcto\")\n",
    "else:\n",
    "    print(\"incorrecto\")\n",
    "    "
   ]
  },
  {
   "cell_type": "code",
   "execution_count": 59,
   "metadata": {},
   "outputs": [
    {
     "name": "stdout",
     "output_type": "stream",
     "text": [
      "No se que mascota tienes\n"
     ]
    }
   ],
   "source": [
    "#if - elif - else sencillo\n",
    "mascota = 'lagarto'\n",
    "\n",
    "if mascota == 'gato':\n",
    "    print('Tienes un gato')\n",
    "elif mascota == 'pez':\n",
    "    print('Tienes un pez')\n",
    "elif mascota == 'loro':\n",
    "    print('Tienes un loro')\n",
    "else:\n",
    "    print('No se que mascota tienes')"
   ]
  },
  {
   "cell_type": "code",
   "execution_count": 60,
   "metadata": {},
   "outputs": [
    {
     "name": "stdout",
     "output_type": "stream",
     "text": [
      "Eres menos de edad\n",
      "APROBADO\n"
     ]
    }
   ],
   "source": [
    "#anidación de condicionales\n",
    "edad = 16\n",
    "calificacion = 9\n",
    "\n",
    "if edad < 18:\n",
    "    print('Eres menos de edad')\n",
    "    if calificacion >= 7:\n",
    "        print('APROBADO')\n",
    "    else:\n",
    "        print('NO APRBADO')\n",
    "else:\n",
    "    print('Eres adulto')"
   ]
  }
 ],
 "metadata": {
  "kernelspec": {
   "display_name": "Python 3",
   "language": "python",
   "name": "python3"
  },
  "language_info": {
   "codemirror_mode": {
    "name": "ipython",
    "version": 3
   },
   "file_extension": ".py",
   "mimetype": "text/x-python",
   "name": "python",
   "nbconvert_exporter": "python",
   "pygments_lexer": "ipython3",
   "version": "3.10.10"
  }
 },
 "nbformat": 4,
 "nbformat_minor": 2
}
