{
 "cells": [
  {
   "cell_type": "markdown",
   "metadata": {},
   "source": [
    "# Loop While #\n",
    "\n",
    "Los bucles while con aquellos que se repiten de forma indefinida mientras se cumpla una condición, y se interrumpen cuando la condición deja de cumplirse.\n",
    "\n",
    "    while condicion:\n",
    "        codigo_1\n",
    "    else:\n",
    "        codigo_2\n",
    "\n",
    "\n",
    "Los bucles while tienen tres palabras reservadas:\n",
    "\n",
    "* pass : saltan una línea de código si no cumple la condición donde se encuentra\n",
    "* break: interrumpen la iteración si se cumple la condición donde se encuentra\n",
    "* continue: se salta la iteración en curso si se cumple la condición donde se encuentra y continúa en la siguiente iteración"
   ]
  },
  {
   "cell_type": "code",
   "execution_count": 22,
   "metadata": {},
   "outputs": [
    {
     "name": "stdout",
     "output_type": "stream",
     "text": [
      "Tengo 5 monedas\n",
      "Tengo 4 monedas\n",
      "Tengo 3 monedas\n",
      "Tengo 2 monedas\n",
      "Tengo 1 monedas\n",
      "No tengo más monedas\n"
     ]
    }
   ],
   "source": [
    "monedas = 5\n",
    "\n",
    "while monedas > 0:\n",
    "    print(f\"Tengo {monedas} monedas\")\n",
    "#si no añadimos una linea que controle, la cantidad de monedas, el loop va a repetirse indefinidamente hasta desbordar la memoria del ordenador.\n",
    "    monedas -= 1\n",
    "    #con esta línea, restamos una moneda del total inicial, por lo que la siguiente iteración será con monedas-1, hasta que monedas sea 0\n",
    "else:\n",
    "    print('No tengo más monedas')"
   ]
  },
  {
   "cell_type": "code",
   "execution_count": 23,
   "metadata": {},
   "outputs": [
    {
     "name": "stdout",
     "output_type": "stream",
     "text": [
      "Finalizado\n"
     ]
    }
   ],
   "source": [
    "respuesta = 's'\n",
    "while respuesta == 's':\n",
    "    respuesta = input(\"¿Quieres continuar? (s) = si, (n) = no\")\n",
    "    \n",
    "else:\n",
    "    print('Finalizado')"
   ]
  },
  {
   "cell_type": "code",
   "execution_count": 24,
   "metadata": {},
   "outputs": [
    {
     "name": "stdout",
     "output_type": "stream",
     "text": [
      "d\n",
      "d\n"
     ]
    }
   ],
   "source": [
    "#PASS\n",
    "\n",
    "nombre = 'david'\n",
    "for x in nombre:\n",
    "    if x == 'd': # si encuentra la letra 'd' la imprime y salta la iteración si no es esa letra\n",
    "        pass\n",
    "        print(x)"
   ]
  },
  {
   "cell_type": "code",
   "execution_count": 25,
   "metadata": {},
   "outputs": [
    {
     "name": "stdout",
     "output_type": "stream",
     "text": [
      "D\n",
      "a\n",
      "v\n"
     ]
    }
   ],
   "source": [
    "#BREAK\n",
    "\n",
    "nombre = 'David'\n",
    "\n",
    "for letra in nombre:\n",
    "    if letra == 'i': # Si encuentra la letra 'i' interrumple iteracion del bucle.\n",
    "        break\n",
    "    print(letra)"
   ]
  },
  {
   "cell_type": "code",
   "execution_count": 26,
   "metadata": {},
   "outputs": [
    {
     "name": "stdout",
     "output_type": "stream",
     "text": [
      "D\n",
      "a\n",
      "i\n",
      "d\n"
     ]
    }
   ],
   "source": [
    "#CONTINUE\n",
    "\n",
    "nombre = 'David'\n",
    "\n",
    "for letra in nombre:\n",
    "    if letra == 'v': # si encuentra la letra 'v' se la salta y continua con la siguiente\n",
    "        continue\n",
    "    print(letra)"
   ]
  }
 ],
 "metadata": {
  "kernelspec": {
   "display_name": "Python 3",
   "language": "python",
   "name": "python3"
  },
  "language_info": {
   "codemirror_mode": {
    "name": "ipython",
    "version": 3
   },
   "file_extension": ".py",
   "mimetype": "text/x-python",
   "name": "python",
   "nbconvert_exporter": "python",
   "pygments_lexer": "ipython3",
   "version": "3.10.10"
  }
 },
 "nbformat": 4,
 "nbformat_minor": 2
}
