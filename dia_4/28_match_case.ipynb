{
 "cells": [
  {
   "cell_type": "markdown",
   "metadata": {},
   "source": [
    "# match - case #\n",
    "\n",
    "Coincidencias de patrones estructurales.\n",
    "Sirven para simplificar sentencias condicionales largas de if - elif - else."
   ]
  },
  {
   "cell_type": "code",
   "execution_count": 5,
   "metadata": {},
   "outputs": [
    {
     "name": "stdout",
     "output_type": "stream",
     "text": [
      "Motorola\n",
      "Motorola\n"
     ]
    }
   ],
   "source": [
    "serie = 'N-03'\n",
    "\n",
    "if serie == 'N-01':\n",
    "    print('Samsung')\n",
    "elif serie == 'N-02':\n",
    "    print('Nokia')\n",
    "elif serie == 'N-03':\n",
    "    print('Motorola')\n",
    "else:\n",
    "    print('No existe ese producto')\n",
    "    \n",
    "#simplificando con match - case:\n",
    "\n",
    "match serie:\n",
    "    case 'N-01':\n",
    "        print('Samsung')\n",
    "    case 'N-02':\n",
    "        print('Nokia')\n",
    "    case 'N-03':\n",
    "        print('Motorola')\n",
    "    case _:\n",
    "        print('No existe ese producto')"
   ]
  },
  {
   "cell_type": "code",
   "execution_count": 6,
   "metadata": {},
   "outputs": [
    {
     "name": "stdout",
     "output_type": "stream",
     "text": [
      "Es un cliente\n",
      "Federico 45 ingeniero\n",
      "Es una película\n",
      "Matrix Keanu Reeves Lana y Lilly Wachowski\n",
      "No se que es esto\n"
     ]
    }
   ],
   "source": [
    "# EL VERDADERO POTENCIAL DE MATCH - CASE:\n",
    "\n",
    "cliente = {\n",
    "    'nombre' : 'Federico',\n",
    "    'edad' : 45,\n",
    "    'ocupacion' : 'ingeniero'\n",
    "}\n",
    "\n",
    "pelicula = {\n",
    "    'titulo' : 'Matrix', \n",
    "    'ficha_tecnica' : {\n",
    "        'protagonista' : 'Keanu Reeves',\n",
    "        'director' : 'Lana y Lilly Wachowski'\n",
    "    }\n",
    "}\n",
    "\n",
    "elementos = [cliente, pelicula, 'libro']\n",
    "\n",
    "for elemento in elementos:\n",
    "    match elemento:\n",
    "        case {'nombre' : nombre,\n",
    "              'edad' : edad,\n",
    "              'ocupacion' : ocupacion}:\n",
    "            print('Es un cliente')\n",
    "            print(nombre, edad, ocupacion)\n",
    "        case {'titulo' : titulo,\n",
    "              'ficha_tecnica' : {'protagonista' : protagonista,\n",
    "                                 'director' : director\n",
    "                                 }\n",
    "              }:\n",
    "            print('Es una película')\n",
    "            print(titulo, protagonista, director)\n",
    "        case _:\n",
    "            print('No se que es esto')"
   ]
  }
 ],
 "metadata": {
  "kernelspec": {
   "display_name": "Python 3",
   "language": "python",
   "name": "python3"
  },
  "language_info": {
   "codemirror_mode": {
    "name": "ipython",
    "version": 3
   },
   "file_extension": ".py",
   "mimetype": "text/x-python",
   "name": "python",
   "nbconvert_exporter": "python",
   "pygments_lexer": "ipython3",
   "version": "3.10.10"
  }
 },
 "nbformat": 4,
 "nbformat_minor": 2
}
