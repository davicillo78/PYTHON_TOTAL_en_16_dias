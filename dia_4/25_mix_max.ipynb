{
 "cells": [
  {
   "cell_type": "markdown",
   "metadata": {},
   "source": [
    "# min y max #\n",
    "\n",
    "Los métodos min() y max() se utilizan para obtener el mínimo y el máximo (menor o mayor) elemento de una colección de datos.\n",
    "\n",
    "Funciona con datos numéricos o alfanuméricos."
   ]
  },
  {
   "cell_type": "code",
   "execution_count": 12,
   "metadata": {},
   "outputs": [
    {
     "name": "stdout",
     "output_type": "stream",
     "text": [
      "1\n",
      "234\n",
      "a\n",
      "r\n",
      "22\n",
      "65\n",
      "ana\n",
      "pedro\n",
      "C1\n",
      "C2\n",
      "11\n",
      "45\n"
     ]
    }
   ],
   "source": [
    "#min\n",
    "print(min(58, 96, 234, 56, 23, 1))\n",
    "\n",
    "#max\n",
    "print(max(58, 96, 234, 56, 23, 1))\n",
    "\n",
    "#con strings:\n",
    "print(min('palabra')) #min y max en orden alfabético\n",
    "\n",
    "print(max('palabra')) #min y max en orden alfabético\n",
    "\n",
    "#con lisas:\n",
    "lista = [23, 45, 22, 65, 34]\n",
    "print(min(lista))\n",
    "print(max(lista ))\n",
    "\n",
    "nombres = ['pedro', 'juan', 'ana', 'maria'] #min y max en orden alfabético\n",
    "print(min(nombres))\n",
    "print(max(nombres))\n",
    "\n",
    "#con diccionarios: \n",
    "dic = {'C1':45, 'C2':11}\n",
    "\n",
    "print(min(dic)) #toma el min de las claves alfabéticamente\n",
    "print(max(dic)) #toma el max de las claves alfabéticamente\n",
    "print(min(dic.values())) #toma el min de los valores\n",
    "print(max(dic.values())) #toma el max de los valores"
   ]
  }
 ],
 "metadata": {
  "kernelspec": {
   "display_name": "Python 3",
   "language": "python",
   "name": "python3"
  },
  "language_info": {
   "codemirror_mode": {
    "name": "ipython",
    "version": 3
   },
   "file_extension": ".py",
   "mimetype": "text/x-python",
   "name": "python",
   "nbconvert_exporter": "python",
   "pygments_lexer": "ipython3",
   "version": "3.10.10"
  }
 },
 "nbformat": 4,
 "nbformat_minor": 2
}
