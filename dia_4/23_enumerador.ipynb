{
 "cells": [
  {
   "cell_type": "markdown",
   "metadata": {},
   "source": [
    "# Enumerate #\n",
    "\n",
    "Se utiliza cuando necesitamos acceder de forma iterativa a los índices de una colección de datos"
   ]
  },
  {
   "cell_type": "code",
   "execution_count": 3,
   "metadata": {},
   "outputs": [
    {
     "name": "stdout",
     "output_type": "stream",
     "text": [
      "0 a\n",
      "1 b\n",
      "2 c\n"
     ]
    }
   ],
   "source": [
    "lista = ['a', 'b', 'c']\n",
    "indice = 0\n",
    "\n",
    "for item in lista:\n",
    "    print(indice, item)\n",
    "    indice += 1"
   ]
  },
  {
   "cell_type": "code",
   "execution_count": 8,
   "metadata": {},
   "outputs": [
    {
     "name": "stdout",
     "output_type": "stream",
     "text": [
      "0 a\n",
      "1 b\n",
      "2 c\n",
      "0 50\n",
      "1 51\n",
      "2 52\n",
      "3 53\n",
      "4 54\n"
     ]
    }
   ],
   "source": [
    "#para realizar la misma función con enumerate():\n",
    "lista = ['a', 'b', 'c']\n",
    "\n",
    "for indice, item in enumerate(lista):\n",
    "    print(indice, item)\n",
    "#genera una tupla con los items i su índice\n",
    "\n",
    "#usando la función enumerate() con rangos:\n",
    "for indice, item in enumerate(range(50, 55)):\n",
    "    print(indice, item)"
   ]
  },
  {
   "cell_type": "code",
   "execution_count": 12,
   "metadata": {},
   "outputs": [
    {
     "name": "stdout",
     "output_type": "stream",
     "text": [
      "[(0, 'a'), (1, 'b'), (2, 'c')]\n",
      "{0: 'a', 1: 'b', 2: 'c'}\n"
     ]
    }
   ],
   "source": [
    "#si queremos introducir lista e indices en una lista:\n",
    "\n",
    "print(list(enumerate(lista)))\n",
    "\n",
    "#pero mucho más interesante es crear un DICCIONARIO a partir de una lista:\n",
    "\n",
    "print(dict(enumerate(lista)))"
   ]
  }
 ],
 "metadata": {
  "kernelspec": {
   "display_name": "Python 3",
   "language": "python",
   "name": "python3"
  },
  "language_info": {
   "codemirror_mode": {
    "name": "ipython",
    "version": 3
   },
   "file_extension": ".py",
   "mimetype": "text/x-python",
   "name": "python",
   "nbconvert_exporter": "python",
   "pygments_lexer": "ipython3",
   "version": "3.10.10"
  }
 },
 "nbformat": 4,
 "nbformat_minor": 2
}
