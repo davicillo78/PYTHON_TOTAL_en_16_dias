{
 "cells": [
  {
   "cell_type": "markdown",
   "metadata": {},
   "source": [
    "# Limpiar la consola #"
   ]
  },
  {
   "cell_type": "code",
   "execution_count": 2,
   "metadata": {},
   "outputs": [
    {
     "name": "stdout",
     "output_type": "stream",
     "text": [
      "Hola, tu nombre es David y tienes 46 años\n"
     ]
    }
   ],
   "source": [
    "from os import system\n",
    "\n",
    "nombre = input('Dime tu nombre: ')\n",
    "edad = int(input('Dime tu edad: '))\n",
    "\n",
    "system('cls')\n",
    "print(f'Hola, tu nombre es {nombre} y tienes {edad} años')\n",
    "\n",
    "#cls limpia los mensajes anteriores de la consola para mostrar el nuevo\n",
    "\n",
    "\n"
   ]
  }
 ],
 "metadata": {
  "kernelspec": {
   "display_name": "Python 3",
   "language": "python",
   "name": "python3"
  },
  "language_info": {
   "codemirror_mode": {
    "name": "ipython",
    "version": 3
   },
   "file_extension": ".py",
   "mimetype": "text/x-python",
   "name": "python",
   "nbconvert_exporter": "python",
   "pygments_lexer": "ipython3",
   "version": "3.10.10"
  }
 },
 "nbformat": 4,
 "nbformat_minor": 2
}
