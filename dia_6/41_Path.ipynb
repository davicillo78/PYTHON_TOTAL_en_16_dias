{
 "cells": [
  {
   "cell_type": "markdown",
   "metadata": {},
   "source": [
    "# Path #\n",
    "\n",
    "Cuando creamos una instancia de Path es para representar una ruta de un archivo con el que vamos a trabajar.\n",
    "\n",
    "Una cosa interesante que podemos hacer con Path es crear una ruta de carpetas yarchivo a partir de una serie de strings.\n",
    "\n",
    "Por ejemplo, si tenemos la siguiente ruta:\n",
    "\n",
    "    mi_ruta = Path('Europa', 'España', 'Barcelona', 'Sagrada_Familia.txt')\n",
    "    print(mi_ruta)\n",
    "\n",
    "    >>> Europa/España/Barcelona/Sagrada_Familia.txt\n",
    "\n"
   ]
  },
  {
   "cell_type": "code",
   "execution_count": 11,
   "metadata": {},
   "outputs": [
    {
     "name": "stdout",
     "output_type": "stream",
     "text": [
      "C:\\Users\\David\n",
      "Europa\\España\\Barcelona\\Sagrada_Familia.txt\n",
      "C:\\Users\\David\\Europa\\España\\Barcelona\\Sagrada_Familia.txt\n"
     ]
    }
   ],
   "source": [
    "from pathlib import Path\n",
    "\n",
    "ruta_absoluta = Path.home()\n",
    "guia = Path('Europa', 'España', 'Barcelona', 'Sagrada_Familia.txt')\n",
    "print(ruta_absoluta) #Es la ruta absoluta actual\n",
    "print(guia) # Es la ruta relativa\n",
    "\n",
    "#podemos concatenar rutas absolutas con relativas\n",
    "\n",
    "otra_ruta = Path('Barcelona')\n",
    "guia2 = Path(ruta_absoluta, 'Europa', 'España', otra_ruta, Path('Sagrada_Familia.txt'))\n",
    "print(guia2)"
   ]
  },
  {
   "cell_type": "code",
   "execution_count": 13,
   "metadata": {},
   "outputs": [
    {
     "name": "stdout",
     "output_type": "stream",
     "text": [
      "C:\\Users\\David\\Europa\\España\\Barcelona\\La_Pedrera.txt\n"
     ]
    }
   ],
   "source": [
    "#with_name nos permita utilizar una ruta creada previamente para apuntar a otro archivo diferente\n",
    "\n",
    "guia3 = guia2.with_name('La_Pedrera.txt')\n",
    "print(guia3)"
   ]
  },
  {
   "cell_type": "code",
   "execution_count": 15,
   "metadata": {},
   "outputs": [
    {
     "name": "stdout",
     "output_type": "stream",
     "text": [
      "C:\\Users\\David\\Europa\\España\\Barcelona\n",
      "C:\\Users\\David\\Europa\\España\n",
      "C:\\Users\\David\\Europa\n"
     ]
    }
   ],
   "source": [
    "#parent retorna la ruta de carpetas completa hasta la ubicación del archivo\n",
    "print(guia3.parent)\n",
    "print(guia3.parent.parent)\n",
    "print(guia3.parent.parent.parent)\n"
   ]
  },
  {
   "cell_type": "code",
   "execution_count": 21,
   "metadata": {},
   "outputs": [
    {
     "name": "stdout",
     "output_type": "stream",
     "text": [
      "C:\\Users\\David\\Europa\n",
      "C:\\Users\\David\\Europa\\Consejos.txt.txt\n",
      "C:\\Users\\David\\Europa\\Normativas.txt.txt\n",
      "C:\\Users\\David\\Europa\n",
      "C:\\Users\\David\\Europa\\Consejos.txt.txt\n",
      "C:\\Users\\David\\Europa\\Normativas.txt.txt\n",
      "C:\\Users\\David\\Europa\\España\\Barcelona\\La_Pedrera.txt.txt\n",
      "C:\\Users\\David\\Europa\\España\\Barcelona\\Sagrada_Familia.txt.txt\n",
      "C:\\Users\\David\\Europa\\España\\Madrid\\Museo_del_Prado.txt.txt\n",
      "C:\\Users\\David\\Europa\\Francia\\Paris\\Torre_Eiffel.txt.txt\n"
     ]
    }
   ],
   "source": [
    "#podemos buscar en una ruta expecifica todos los archivos txt\n",
    "\n",
    "guia = Path(Path.home(), 'Europa')\n",
    "print(guia)\n",
    "for txt in Path(guia).glob('*.txt'):\n",
    "    print(txt)\n",
    "\n",
    "#podemos invocar glob de forma recursiva para obtener los archivox .txt de todos los subdirectorios de la carpeta Europa\n",
    "\n",
    "guia = Path(Path.home(), 'Europa')\n",
    "print(guia)\n",
    "for txt in Path(guia).glob('**/*.txt'):\n",
    "    print(txt)"
   ]
  },
  {
   "cell_type": "code",
   "execution_count": 25,
   "metadata": {},
   "outputs": [
    {
     "name": "stdout",
     "output_type": "stream",
     "text": [
      "España\\Barcelona\\Sagrada_Familia.txt\n",
      "Barcelona\\Sagrada_Familia.txt\n"
     ]
    }
   ],
   "source": [
    "#obtener una porción de ruta larga\n",
    "\n",
    "guia_2 = Path('Europa', 'España', 'Barcelona', 'Sagrada_Familia.txt')\n",
    "\n",
    "en_europa = guia_2.relative_to(Path('Europa')) #toma la ruta a partir de Europa en adelante\n",
    "en_espana = guia_2.relative_to(Path('Europa', 'España')) #toma la ruta a partir de España en adelante\n",
    "print(en_europa)\n",
    "print(en_espana)"
   ]
  }
 ],
 "metadata": {
  "kernelspec": {
   "display_name": "Python 3",
   "language": "python",
   "name": "python3"
  },
  "language_info": {
   "codemirror_mode": {
    "name": "ipython",
    "version": 3
   },
   "file_extension": ".py",
   "mimetype": "text/x-python",
   "name": "python",
   "nbconvert_exporter": "python",
   "pygments_lexer": "ipython3",
   "version": "3.10.10"
  }
 },
 "nbformat": 4,
 "nbformat_minor": 2
}
