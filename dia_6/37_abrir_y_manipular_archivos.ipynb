{
 "cells": [
  {
   "cell_type": "markdown",
   "metadata": {},
   "source": [
    "# Abrir y manipular archivos #\n",
    "\n",
    "La forma de trabajar con archivos del ordenador lo denominamos E/S (Entrada/Salida) o I/O (Input/Output) en inglés.\n",
    "\n",
    "Aquí se enmarcan operaciones como: \n",
    "* Abrir open()\n",
    "* Leer read()\n",
    "* Escribir write()\n",
    "* Cerrar close()\n",
    "\n",
    "De momento trabajaremos con archivos .txt"
   ]
  },
  {
   "cell_type": "code",
   "execution_count": 51,
   "metadata": {},
   "outputs": [
    {
     "name": "stdout",
     "output_type": "stream",
     "text": [
      "<_io.TextIOWrapper name='./archivos/Prueba.txt' mode='r' encoding='utf-8'>\n",
      "Soy la primera linea\n",
      "¡Vaya! ¡Yo soy la segunda!\n",
      "He quedado tercera\n"
     ]
    }
   ],
   "source": [
    "#abrir archivos\n",
    "\n",
    "mi_archivo = open('./archivos/Prueba.txt', encoding='utf-8')\n",
    "print(mi_archivo) #solo obtenemos características de la variable\n",
    "\n",
    "#para ver el texto tal y como lo vemos en el .txt:\n",
    "print(mi_archivo.read())\n",
    "\n",
    "#siempre debemos cerrar el archivo antes de cerrar el editor de código o seguir\n",
    "mi_archivo.close()"
   ]
  },
  {
   "cell_type": "code",
   "execution_count": 52,
   "metadata": {},
   "outputs": [
    {
     "name": "stdout",
     "output_type": "stream",
     "text": [
      "Soy la primera linea\n",
      "\n",
      "¡Vaya! ¡Yo soy la segunda!\n",
      "\n",
      "He quedado tercera\n"
     ]
    }
   ],
   "source": [
    "mi_archivo = open('./archivos/Prueba.txt', encoding='utf-8')\n",
    "\n",
    "#si queremos ver solo la primera linea:\n",
    "una_linea = mi_archivo.readline()\n",
    "print(una_linea)\n",
    "\n",
    "#la siguiente:\n",
    "una_linea = mi_archivo.readline()\n",
    "print(una_linea)\n",
    "\n",
    "#y siguientes:\n",
    "una_linea = mi_archivo.readline()\n",
    "print(una_linea)\n",
    "\n",
    "#vemos saltos de línea porque en el propio archivo txt hay saltos de línea\n",
    "#podemos eliminar esos saltos en python añadiendo al final del print .rstrip()\n",
    "# print(una_linea.rstrip())\n",
    "\n",
    "mi_archivo.close()"
   ]
  },
  {
   "cell_type": "code",
   "execution_count": 53,
   "metadata": {},
   "outputs": [
    {
     "name": "stdout",
     "output_type": "stream",
     "text": [
      "SOY LA PRIMERA LINEA\n",
      "\n",
      "4\n",
      "['He', 'quedado', 'tercera']\n"
     ]
    }
   ],
   "source": [
    "#al imprimir, estamos utilizando string por lo que podemos utilizar todos los métodos de strings.\n",
    "mi_archivo = open('./archivos/Prueba.txt', encoding='utf-8')\n",
    "\n",
    "una_linea = mi_archivo.readline()\n",
    "print(una_linea.upper())\n",
    "\n",
    "una_linea = mi_archivo.readline()\n",
    "print(una_linea.count('a'))\n",
    "\n",
    "una_linea = mi_archivo.readline()\n",
    "print(una_linea.split())\n",
    "\n",
    "mi_archivo.close()"
   ]
  },
  {
   "cell_type": "code",
   "execution_count": 54,
   "metadata": {},
   "outputs": [
    {
     "name": "stdout",
     "output_type": "stream",
     "text": [
      "Aquí dice: Soy la primera linea\n",
      "\n",
      "Aquí dice: ¡Vaya! ¡Yo soy la segunda!\n",
      "\n",
      "Aquí dice: He quedado tercera\n"
     ]
    }
   ],
   "source": [
    "#loops e iteraciones con las lineas del texto\n",
    "\n",
    "mi_archivo = open('./archivos/Prueba.txt', encoding='utf-8')\n",
    "\n",
    "for linea in mi_archivo:\n",
    "    print(\"Aquí dice: \" + linea)\n",
    "\n",
    "mi_archivo.close()"
   ]
  },
  {
   "cell_type": "code",
   "execution_count": 55,
   "metadata": {},
   "outputs": [
    {
     "name": "stdout",
     "output_type": "stream",
     "text": [
      "['Soy la primera linea\\n', '¡Vaya! ¡Yo soy la segunda!\\n', 'He quedado tercera']\n",
      "He quedado tercera\n"
     ]
    }
   ],
   "source": [
    "# readlines()\n",
    "#crea una lista de x elementos. Cada elemento es un string de una linea.\n",
    "\n",
    "mi_archivo = open('./archivos/Prueba.txt', encoding='utf-8')\n",
    "todas = mi_archivo.readlines()\n",
    "print(todas)\n",
    "\n",
    "# de esta forma podemos aplicar los métodos de listas\n",
    "todas3 = todas.pop()\n",
    "\n",
    "print(todas3)\n",
    "\n",
    "\n",
    "mi_archivo.close()"
   ]
  }
 ],
 "metadata": {
  "kernelspec": {
   "display_name": "Python 3",
   "language": "python",
   "name": "python3"
  },
  "language_info": {
   "codemirror_mode": {
    "name": "ipython",
    "version": 3
   },
   "file_extension": ".py",
   "mimetype": "text/x-python",
   "name": "python",
   "nbconvert_exporter": "python",
   "pygments_lexer": "ipython3",
   "version": "3.10.10"
  }
 },
 "nbformat": 4,
 "nbformat_minor": 2
}
