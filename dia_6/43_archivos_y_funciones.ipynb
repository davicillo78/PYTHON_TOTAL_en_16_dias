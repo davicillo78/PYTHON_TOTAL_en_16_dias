{
 "cells": [
  {
   "cell_type": "markdown",
   "metadata": {},
   "source": [
    "# Archivos y funciones #\n",
    "\n",
    "Recordemos que las funciones son bloques de código creados por nosotros mismos para realizar una tarea específica y que funcionan una vez que se invocan.\n",
    "\n",
    "Por ello, podemos integrar en estas funciones, operaciones con archivos como las que hemos visto."
   ]
  },
  {
   "cell_type": "code",
   "execution_count": 2,
   "metadata": {},
   "outputs": [
    {
     "name": "stdout",
     "output_type": "stream",
     "text": [
      "C:\\Users\\Usuario\n"
     ]
    }
   ],
   "source": [
    "from pathlib import Path\n",
    "ruta = Path('C:/Users/Usuario/Desktop/Curso Python') / 'Cuestionario Día 6' / 'Pregunta 1'\n",
    "carpeta = ruta.parents[3]\n",
    "print(carpeta)"
   ]
  }
 ],
 "metadata": {
  "kernelspec": {
   "display_name": "Python 3",
   "language": "python",
   "name": "python3"
  },
  "language_info": {
   "codemirror_mode": {
    "name": "ipython",
    "version": 3
   },
   "file_extension": ".py",
   "mimetype": "text/x-python",
   "name": "python",
   "nbconvert_exporter": "python",
   "pygments_lexer": "ipython3",
   "version": "3.10.10"
  }
 },
 "nbformat": 4,
 "nbformat_minor": 2
}
