{
 "cells": [
  {
   "cell_type": "markdown",
   "metadata": {},
   "source": [
    "# Pathlib #\n",
    "\n",
    "Es una librería utilizada para trabajar con rutas de sistemas de archivos"
   ]
  },
  {
   "cell_type": "code",
   "execution_count": 4,
   "metadata": {},
   "outputs": [
    {
     "name": "stdout",
     "output_type": "stream",
     "text": [
      "hola\n",
      "mundo\n",
      "aqui\n",
      "estoy\n",
      "\n",
      "Prueba1.txt\n",
      "Prueba1\n",
      ".txt\n"
     ]
    }
   ],
   "source": [
    "#la librería pathlib nos permite abrir un archivo de texto en la ruta especificada y no tenemos la necesidad de realizar las operaciones de open y close\n",
    "from pathlib import Path\n",
    "\n",
    "carpeta = Path('I:/PYTHON/PYTHON TOTAL 16 dias/PYTHON_TOTAL_en_16_dias/dia_6/archivos/RUTA_practicas/Prueba1.txt')\n",
    "\n",
    "print(carpeta.read_text())\n",
    "\n",
    "# name: nos proporciona el nombre y extensión del archivo\n",
    "print(carpeta.name)\n",
    "\n",
    "# stem: nos proporcione el nombre del archivo sin incluir su extensión\n",
    "print(carpeta.stem)\n",
    "\n",
    "# suffix: si solo queremos conocer la extensión del archivo utilizamos la función suffix\n",
    "print(carpeta.suffix)"
   ]
  },
  {
   "cell_type": "code",
   "execution_count": 5,
   "metadata": {},
   "outputs": [
    {
     "name": "stdout",
     "output_type": "stream",
     "text": [
      "El archivo SI existe\n"
     ]
    }
   ],
   "source": [
    "#comprobar si el archivo especificdo en la ruta path existe\n",
    "\n",
    "if not carpeta.exists():\n",
    "    print('El archivo NO existe')\n",
    "else:\n",
    "    print('El archivo SI existe')"
   ]
  },
  {
   "cell_type": "markdown",
   "metadata": {},
   "source": [
    "##### PureWindowsPath #####\n",
    "\n",
    "Transforma una ruta especificada en una ruta pura de Windows"
   ]
  },
  {
   "cell_type": "code",
   "execution_count": 7,
   "metadata": {},
   "outputs": [
    {
     "name": "stdout",
     "output_type": "stream",
     "text": [
      "I:\\PYTHON\\PYTHON TOTAL 16 dias\\PYTHON_TOTAL_en_16_dias\\dia_6\\archivos\\RUTA_practicas\\Prueba1.txt\n"
     ]
    }
   ],
   "source": [
    "from pathlib import PureWindowsPath\n",
    "#muestra la ruta con las contrabarras al estilo Windows pero sin errores\n",
    "ruta_windows = PureWindowsPath(carpeta)\n",
    "print(ruta_windows)"
   ]
  }
 ],
 "metadata": {
  "kernelspec": {
   "display_name": "Python 3",
   "language": "python",
   "name": "python3"
  },
  "language_info": {
   "codemirror_mode": {
    "name": "ipython",
    "version": 3
   },
   "file_extension": ".py",
   "mimetype": "text/x-python",
   "name": "python",
   "nbconvert_exporter": "python",
   "pygments_lexer": "ipython3",
   "version": "3.10.10"
  }
 },
 "nbformat": 4,
 "nbformat_minor": 2
}
