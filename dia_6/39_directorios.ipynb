{
 "cells": [
  {
   "cell_type": "markdown",
   "metadata": {},
   "source": [
    "# Directorios #\n",
    "\n",
    "Para el manejo de archivos, sucede por lo general que los archivos con los que vamos a trabajar estén alojador en una carpeta distinta de la que tenemos para el programa. \n",
    "\n",
    "Incluso puede darse que estén en la nube o en un servidor remoto. \n",
    "\n",
    "En estos casos, debemos especificar al programa la ruta que debe seguir para acceder al archivo, además de su nombre.\n",
    "\n",
    "Existen módulos específicos para estas tareas y otras interacciones entre python y el pc. \n",
    "\n",
    "Path y os son dos de ellas.\n",
    "\n",
    "Para indicar la ruta, podemos copiarla directamente de la carpeta destino. \n",
    "\n",
    "    I:\\PYTHON\\PYTHON TOTAL 16 dias\\PYTHON_TOTAL_en_16_dias\\dia_6\\archivos\\Prueba.txt\n",
    "\n",
    "El problema es que el simbolo \"\\\\\" en python está reservado a funciones especiales (solo se usa en Windows, en MacOs se usa \"/\"). \n",
    "\n",
    "Por lo que podemos usar varias alternativas:\n",
    "\n",
    "* Usar dos barras invertidas:\n",
    "\n",
    "        \"I:\\\\PYTHON\\\\PYTHON TOTAL 16 dias\\\\PYTHON_TOTAL_en_16_dias\\\\dia_6\\\\archivos\\\\Prueba.txt\"\n",
    "\n",
    "* Usar la barra normal:\n",
    "\n",
    "        \"I:/PYTHON/PYTHON TOTAL 16 dias/PYTHON_TOTAL_en_16_dias/dia_6/archivos/Prueba.txt\"\n",
    "\n",
    "* Usar el módulo os con su función Path():\n",
    "\n",
    "        from pathlib import Path\n",
    "\n",
    "\n"
   ]
  },
  {
   "cell_type": "code",
   "execution_count": 53,
   "metadata": {},
   "outputs": [
    {
     "name": "stdout",
     "output_type": "stream",
     "text": [
      "I:\\PYTHON\\PYTHON TOTAL 16 dias\\PYTHON_TOTAL_en_16_dias\n"
     ]
    }
   ],
   "source": [
    "import os\n",
    "ruta = os.chdir('I:\\\\PYTHON\\\\PYTHON TOTAL 16 dias\\\\PYTHON_TOTAL_en_16_dias')\n",
    "ruta = os.getcwd()\n",
    "print(ruta)\n",
    "\n"
   ]
  },
  {
   "cell_type": "code",
   "execution_count": 54,
   "metadata": {},
   "outputs": [
    {
     "name": "stdout",
     "output_type": "stream",
     "text": [
      "I:\\PYTHON\\PYTHON TOTAL 16 dias\\PYTHON_TOTAL_en_16_dias\\dia_6\n"
     ]
    }
   ],
   "source": [
    "#chdir() sirve para cambiar de directorio de trabajo\n",
    "import os\n",
    "\n",
    "nueva_ruta = os.chdir('I:\\\\PYTHON\\\\PYTHON TOTAL 16 dias\\\\PYTHON_TOTAL_en_16_dias\\\\dia_6')\n",
    "nueva_ruta = os.getcwd()\n",
    "print(nueva_ruta)\n"
   ]
  },
  {
   "cell_type": "code",
   "execution_count": 55,
   "metadata": {},
   "outputs": [],
   "source": [
    "# mkdir crea una carpeta en la ruta especificada\n",
    "\n",
    "os.mkdir('I:\\\\PYTHON\\\\PYTHON TOTAL 16 dias\\\\PYTHON_TOTAL_en_16_dias\\\\dia_6\\\\archivos\\\\nueva_carpeta')"
   ]
  },
  {
   "cell_type": "code",
   "execution_count": 56,
   "metadata": {},
   "outputs": [],
   "source": [
    "# rmdir remueve una carpeta de la ruta especificada\n",
    "os.rmdir('I:\\\\PYTHON\\\\PYTHON TOTAL 16 dias\\\\PYTHON_TOTAL_en_16_dias\\\\dia_6\\\\archivos\\\\nueva_carpeta')\n"
   ]
  },
  {
   "cell_type": "code",
   "execution_count": 58,
   "metadata": {},
   "outputs": [
    {
     "name": "stdout",
     "output_type": "stream",
     "text": [
      "hola\n",
      "mundo\n",
      "aqui\n",
      "estoy\n",
      "\n"
     ]
    }
   ],
   "source": [
    "#Path permite utilizar la sintaxis de apertura y cierre de archivos en cualquier tipo de computadora, sea MAC, linux o windows.\n",
    "\n",
    "from pathlib import Path\n",
    "\n",
    "carpeta1 = Path('I:/PYTHON/PYTHON TOTAL 16 dias/PYTHON_TOTAL_en_16_dias/dia_6/archivos/RUTA_practicas')\n",
    "archivo = carpeta1 / 'Prueba1.txt'\n",
    "\n",
    "mi_archivo = open(archivo)\n",
    "print(mi_archivo.read())\n",
    "mi_archivo.close()"
   ]
  }
 ],
 "metadata": {
  "kernelspec": {
   "display_name": "Python 3",
   "language": "python",
   "name": "python3"
  },
  "language_info": {
   "codemirror_mode": {
    "name": "ipython",
    "version": 3
   },
   "file_extension": ".py",
   "mimetype": "text/x-python",
   "name": "python",
   "nbconvert_exporter": "python",
   "pygments_lexer": "ipython3",
   "version": "3.10.10"
  }
 },
 "nbformat": 4,
 "nbformat_minor": 2
}
