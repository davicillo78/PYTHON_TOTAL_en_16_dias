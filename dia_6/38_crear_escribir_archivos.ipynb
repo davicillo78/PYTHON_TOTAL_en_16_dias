{
 "cells": [
  {
   "cell_type": "markdown",
   "metadata": {},
   "source": [
    "# Crear y escribir archivos #\n",
    "\n",
    "Los cambios realizados en el tema anterior no modificaban el archivos original. \n",
    "\n",
    "En este tema vamos a ver como modificar el archivo original con los cambios realizados en él.\n",
    "\n",
    "El método open() tiene varios parámetros además de la tura y nombre del archivo a abrir:\n",
    "\n",
    "El segundo parámetro indica el modo de apertura de dicho archivo:\n",
    "* \"r\": abrir solo en modo lectura, no permite realizar cambios en el archivo\n",
    "* \"w\":  abrir en modo solo escritura. El archivo, si existe es reseteado/vaciado, y si no existe, solo lo crea.\n",
    "* \"a\": abrir en modo escritura al final del archivo. Si no existe, lo crea nuevo, si existe, posiciona el cursor al final de la última modificación realizada para seguir guardando los cambios a partir de ahi.\n",
    "\n"
   ]
  },
  {
   "cell_type": "code",
   "execution_count": 22,
   "metadata": {},
   "outputs": [
    {
     "ename": "UnsupportedOperation",
     "evalue": "not writable",
     "output_type": "error",
     "traceback": [
      "\u001b[1;31m---------------------------------------------------------------------------\u001b[0m",
      "\u001b[1;31mUnsupportedOperation\u001b[0m                      Traceback (most recent call last)",
      "Cell \u001b[1;32mIn [22], line 2\u001b[0m\n\u001b[0;32m      1\u001b[0m archivo \u001b[38;5;241m=\u001b[39m \u001b[38;5;28mopen\u001b[39m(\u001b[38;5;124m'\u001b[39m\u001b[38;5;124m./archivos/Prueba1.txt\u001b[39m\u001b[38;5;124m'\u001b[39m, \u001b[38;5;124m'\u001b[39m\u001b[38;5;124mr\u001b[39m\u001b[38;5;124m'\u001b[39m)\n\u001b[1;32m----> 2\u001b[0m \u001b[43marchivo\u001b[49m\u001b[38;5;241;43m.\u001b[39;49m\u001b[43mwrite\u001b[49m\u001b[43m(\u001b[49m\u001b[38;5;124;43m'\u001b[39;49m\u001b[38;5;124;43mSoy texto añadido\u001b[39;49m\u001b[38;5;124;43m'\u001b[39;49m\u001b[43m)\u001b[49m \u001b[38;5;66;03m# al estar en modo solo lectura, no permite añadir texto nuevo\u001b[39;00m\n\u001b[0;32m      3\u001b[0m archivo\u001b[38;5;241m.\u001b[39mclose()\n",
      "\u001b[1;31mUnsupportedOperation\u001b[0m: not writable"
     ]
    }
   ],
   "source": [
    "archivo = open('./archivos/Prueba1.txt', 'r')\n",
    "archivo.write('Soy texto añadido') # al estar en modo solo lectura, no permite añadir texto nuevo\n",
    "archivo.close()"
   ]
  },
  {
   "cell_type": "code",
   "execution_count": 23,
   "metadata": {},
   "outputs": [],
   "source": [
    "archivo = open('./archivos/Prueba1.txt', 'w')\n",
    "archivo.write('soy texto añadido') #al estar en modo solo escritura, elimina todo lo que hubiera anteiormente en el archivo\n",
    "#MUCHO CUIDADO  con este método ya que sobreescribe el contenido del archivo al cerrarlo.\n",
    "#no podemos leer el archivo en este modo\n",
    "archivo.close()\n"
   ]
  },
  {
   "cell_type": "code",
   "execution_count": 24,
   "metadata": {},
   "outputs": [],
   "source": [
    "#writelines() introduce una lista de strings en el formato en que se introduzcan.\n",
    "archivo = open('./archivos/Prueba1.txt', 'w')\n",
    "archivo.writelines(['hola\\n', 'mundo\\n', 'aquí\\n', 'estoy'])\n",
    "archivo.close()\n",
    "#este método se usa poco. Lo más normal es utilizar un bucle for para iterar sobre una lista\n",
    "\n"
   ]
  },
  {
   "cell_type": "code",
   "execution_count": 25,
   "metadata": {},
   "outputs": [],
   "source": [
    "archivo = open('./archivos/Prueba1.txt', 'w')\n",
    "lista = ['hola', 'mundo', 'aqui', 'estoy']\n",
    "for elemento in lista:\n",
    "    archivo.writelines(elemento + '\\n')\n",
    "archivo.close()"
   ]
  },
  {
   "cell_type": "code",
   "execution_count": 26,
   "metadata": {},
   "outputs": [],
   "source": [
    "#apertura con argumento 'a'\n",
    "\n",
    "archivo = open('./archivos/Prueba2.txt', 'a')\n",
    "archivo.write('Bienvenido') #añade al final del párrafo en una nueva linea el texto indicado.\n",
    "\n",
    "archivo.close()\n"
   ]
  }
 ],
 "metadata": {
  "kernelspec": {
   "display_name": "Python 3",
   "language": "python",
   "name": "python3"
  },
  "language_info": {
   "codemirror_mode": {
    "name": "ipython",
    "version": 3
   },
   "file_extension": ".py",
   "mimetype": "text/x-python",
   "name": "python",
   "nbconvert_exporter": "python",
   "pygments_lexer": "ipython3",
   "version": "3.10.10"
  }
 },
 "nbformat": 4,
 "nbformat_minor": 2
}
