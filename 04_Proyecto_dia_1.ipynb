{
 "cells": [
  {
   "cell_type": "markdown",
   "metadata": {},
   "source": [
    "### Proyecto de práctica, día 1\n",
    "\n",
    "Tu amigo ha puesto una fábrica de cerveza y tiene todo listo. Su producto es excelente. Tiene buen cuerpo, buen sabro, buen color, un nivel justo de espuma.\n",
    "El problema que tiene es que no sabe qué nombre ponerle a su cerveza para que tenga una identidad única y original.\n",
    "Tu misión es crear un programa que le haga dos preguntas a tu amigo y le va a decir el nombre de su cerveza.\n",
    "* Las dos preguntas van a requerir a tu amigo de una sola palabra en cada pregunta.\n",
    "* El programa se encargará de unir esas dos respuestas para obtener el nombre de la cerveza.\n",
    "* Se pueden usar las preguntas que quieras para darle especial creatividad a la marca de cerveza.\n",
    "* El resultado final se imprimirá en dos líneas, y el nombre de la carveza debe estar encerrado entre comillas."
   ]
  },
  {
   "cell_type": "code",
   "execution_count": 5,
   "metadata": {},
   "outputs": [
    {
     "name": "stdout",
     "output_type": "stream",
     "text": [
      "El nombre de tu cerveza es:\n",
      "Cerveza \"Pato Loco\"\n"
     ]
    }
   ],
   "source": [
    "print(\"El nombre de tu cerveza es:\\nCerveza \" + \"\\\"\" + input(\"Dime el nombre de un animal: \") + \" \" + input(\"Dime un adjetivo: \") + \"\\\"\")"
   ]
  }
 ],
 "metadata": {
  "kernelspec": {
   "display_name": "Python 3",
   "language": "python",
   "name": "python3"
  },
  "language_info": {
   "codemirror_mode": {
    "name": "ipython",
    "version": 3
   },
   "file_extension": ".py",
   "mimetype": "text/x-python",
   "name": "python",
   "nbconvert_exporter": "python",
   "pygments_lexer": "ipython3",
   "version": "3.10.10"
  }
 },
 "nbformat": 4,
 "nbformat_minor": 2
}
