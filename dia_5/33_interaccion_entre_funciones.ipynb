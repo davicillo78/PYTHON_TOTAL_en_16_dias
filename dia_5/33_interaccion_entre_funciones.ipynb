{
 "cells": [
  {
   "cell_type": "markdown",
   "metadata": {},
   "source": [
    "# Interacción entre funciones #\n",
    "\n",
    "Cuando trabajamos con un programa en Python, es frecuente ver muchas funciones, cada una realizando la tarea que le corresponde.\n",
    "\n",
    "Además de eso, es común ver que algunas funciones son llamadas dentro de otras funciones, interaccionando entre ellas.\n",
    "\n",
    "    funcion_1(): \n",
    "        funcion_2():\n",
    "    \n",
    "    funcion_3():\n",
    "        funcion_1():"
   ]
  },
  {
   "cell_type": "markdown",
   "metadata": {},
   "source": [
    "Vamos a desarrollar esto creando un juego sencillo.\n",
    "\n",
    "El juego consiste en 4 palitos que los sujeta semi-ocultos una mano. \n",
    "\n",
    "Cada palito tiene una longitud diferente y al estar ocultos en la mano, no podemos saber cual es el más largo y cual el mas corto.\n",
    "\n",
    "Le pediremos al usuario que escoja un palito (será el índice de una lista) y comprobaremos si es el más largo."
   ]
  },
  {
   "cell_type": "code",
   "execution_count": 34,
   "metadata": {},
   "outputs": [
    {
     "name": "stdout",
     "output_type": "stream",
     "text": [
      "Esta vez te has librado\n",
      "Te ha tocado ----\n"
     ]
    }
   ],
   "source": [
    "#importamos librerías shuffle\n",
    "from random import shuffle\n",
    "\n",
    "#lista inicial\n",
    "\n",
    "palitos = ['-', '--', '---', '----']\n",
    "\n",
    "\n",
    "#funcion mezclar palitos\n",
    "def mezclar(lista):\n",
    "    shuffle(lista)\n",
    "    return lista\n",
    "\n",
    "#funcion elegir palito\n",
    "def elegir():\n",
    "    eleccion = ''\n",
    "    while eleccion not in ['1', '2', '3', '4']:\n",
    "        eleccion = input(\"Elige un número del 1 al 4: \")\n",
    "    return int(eleccion)\n",
    "\n",
    "#funcion comprobar palito\n",
    "def comprobar(lista, numero):\n",
    "    if lista[numero -1] == '-':\n",
    "        print( \"Lo siento, te toca fregar\")\n",
    "    else:\n",
    "        print(\"Esta vez te has librado\")\n",
    "    \n",
    "    print(f\"Te ha tocado {lista[numero -1]}\")\n",
    "\n",
    "palitos_mezclados = mezclar(palitos)\n",
    "seleccion = elegir()\n",
    "comprobar(palitos_mezclados, seleccion)"
   ]
  },
  {
   "cell_type": "code",
   "execution_count": null,
   "metadata": {},
   "outputs": [],
   "source": [
    "from random import randint\n",
    "def lanzar_dados():\n",
    "    dado1 = rand\n",
    "    for n1, n2 in randint.range(7):\n",
    "        return n1, n2\n",
    "\n",
    "print(lanzar_dados())"
   ]
  }
 ],
 "metadata": {
  "kernelspec": {
   "display_name": "Python 3",
   "language": "python",
   "name": "python3"
  },
  "language_info": {
   "codemirror_mode": {
    "name": "ipython",
    "version": 3
   },
   "file_extension": ".py",
   "mimetype": "text/x-python",
   "name": "python",
   "nbconvert_exporter": "python",
   "pygments_lexer": "ipython3",
   "version": "3.10.10"
  }
 },
 "nbformat": 4,
 "nbformat_minor": 2
}
