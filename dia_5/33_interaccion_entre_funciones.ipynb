{
 "cells": [
  {
   "cell_type": "markdown",
   "metadata": {},
   "source": [
    "# Interacción entre funciones #\n",
    "\n",
    "Cuando trabajamos con un programa en Python, es frecuente ver muchas funciones, cada una realizando la tarea que le corresponde.\n",
    "\n",
    "Además de eso, es común ver que algunas funciones son llamadas dentro de otras funciones, interaccionando entre ellas.\n",
    "\n",
    "    funcion_1(): \n",
    "        funcion_2():\n",
    "    \n",
    "    funcion_3():\n",
    "        funcion_1():"
   ]
  },
  {
   "cell_type": "markdown",
   "metadata": {},
   "source": [
    "Vamos a desarrollar esto creando un juego sencillo.\n",
    "\n",
    "El juego consiste en 4 palitos que los sujeta semi-ocultos una mano. \n",
    "\n",
    "Cada palito tiene una longitud diferente y al estar ocultos en la mano, no podemos saber cual es el más largo y cual el mas corto.\n",
    "\n",
    "Le pediremos al usuario que escoja un palito (será el índice de una lista) y comprobaremos si es el más largo."
   ]
  },
  {
   "cell_type": "code",
   "execution_count": 226,
   "metadata": {},
   "outputs": [
    {
     "name": "stdout",
     "output_type": "stream",
     "text": [
      "Esta vez te has librado\n",
      "Te ha tocado --\n"
     ]
    }
   ],
   "source": [
    "#importamos librerías shuffle\n",
    "from random import shuffle\n",
    "\n",
    "#lista inicial\n",
    "\n",
    "palitos = ['-', '--', '---', '----']\n",
    "\n",
    "\n",
    "#funcion mezclar palitos\n",
    "def mezclar(lista):\n",
    "    shuffle(lista)\n",
    "    return lista\n",
    "\n",
    "#funcion elegir palito\n",
    "def elegir():\n",
    "    eleccion = ''\n",
    "    while eleccion not in ['1', '2', '3', '4']:\n",
    "        eleccion = input(\"Elige un número del 1 al 4: \")\n",
    "    return int(eleccion)\n",
    "\n",
    "#funcion comprobar palito\n",
    "def comprobar(lista, numero):\n",
    "    if lista[numero -1] == '-':\n",
    "        print( \"Lo siento, te toca fregar\")\n",
    "    else:\n",
    "        print(\"Esta vez te has librado\")\n",
    "    \n",
    "    print(f\"Te ha tocado {lista[numero -1]}\")\n",
    "\n",
    "palitos_mezclados = mezclar(palitos)\n",
    "seleccion = elegir()\n",
    "comprobar(palitos_mezclados, seleccion)"
   ]
  },
  {
   "cell_type": "markdown",
   "metadata": {},
   "source": [
    "## Ejercicios de interacción entre funciones ##"
   ]
  },
  {
   "cell_type": "markdown",
   "metadata": {},
   "source": [
    "**Práctica sobre Interacción entre Funciones 1**\n",
    "\n",
    "Crea una función (lanzar_dados) que arroje dos dados al azar y devuelva sus resultados:\n",
    "\n",
    "* La función debe retornar dos valores resultado, que se encuentren entre 1 y 6).\n",
    "\n",
    "* Dicha función no debe requerir argumentos para funcionar, sino que debe generar internamente los valores aleatorios.\n",
    "\n",
    "Proporciona el resultado de estos dos dados a una función que se llame evaluar_jugada (es decir, esta segunda función debe recibir dos argumentos) y que retorne -sin imprimirlo- un mensaje según la suma de estos valores:\n",
    "\n",
    "* Si la suma es menor o igual a 6:\n",
    "\n",
    "        \"La suma de tus dados es {suma_dados}. Lamentable\"\n",
    "\n",
    "* Si la suma es mayor a 6 y menor a 10:\n",
    "\n",
    "        \"La suma de tus dados es {suma_dados}. Tienes buenas chances\"\n",
    "\n",
    "* Si la suma es mayor o igual a 10:\n",
    "\n",
    "        \"La suma de tus dados es {suma_dados}. Parece una jugada ganadora\""
   ]
  },
  {
   "cell_type": "code",
   "execution_count": 227,
   "metadata": {},
   "outputs": [
    {
     "name": "stdout",
     "output_type": "stream",
     "text": [
      "(3, 5)\n"
     ]
    },
    {
     "data": {
      "text/plain": [
       "'La suma de tus dados es 6. Lamentable'"
      ]
     },
     "execution_count": 227,
     "metadata": {},
     "output_type": "execute_result"
    }
   ],
   "source": [
    "import random\n",
    "def lanzar_dados():\n",
    "    return random.randint(1, 6), random.randint(1, 6)\n",
    "\n",
    "print(lanzar_dados())\n",
    "\n",
    "def evaluar_jugada(dado1, dado2):\n",
    "    suma_dados = dado1 + dado2\n",
    "    if suma_dados <= 6:\n",
    "        return f\"La suma de tus dados es {suma_dados}. Lamentable\"\n",
    "    elif 6 < suma_dados < 10:\n",
    "        return f\"La suma de tus dados es {suma_dados}. Tienes buenas chances\"\n",
    "    else:\n",
    "        return f\"La suma de tus dados es {suma_dados}. Parece una jugada ganadora\"\n",
    "\n",
    "dado1, dado2 = lanzar_dados()\n",
    "\n",
    "evaluar_jugada(dado1, dado2)"
   ]
  },
  {
   "cell_type": "markdown",
   "metadata": {},
   "source": [
    "**Práctica sobre Interacción entre Funciones 2**\n",
    "\n",
    "Crea una función llamada reducir_lista() que tome una lista como argumento (crea también la variable lista_numeros), y devuelva la misma lista, pero eliminando duplicados (dejando uno solo de los números si hay repetidos) y eliminando el valor más alto. El orden de los elementos puede modificarse.\n",
    "\n",
    "Por ejemplo, si se le proporciona la lista [1,2,15,7,2] debe devolver [1,2,7].\n",
    "\n",
    "Crea una función llamada promedio() que pueda recibir como argumento la lista devuelta por la anterior función, y que calcule el promedio de los valores de la misma. Debe devolver el resultado, sin imprimirlo."
   ]
  },
  {
   "cell_type": "code",
   "execution_count": 228,
   "metadata": {},
   "outputs": [
    {
     "name": "stdout",
     "output_type": "stream",
     "text": [
      "[1, 2, 7]\n",
      "3.3333333333333335\n"
     ]
    }
   ],
   "source": [
    "lista_numeros = [1,2,15, 15, 2 ,7,2]\n",
    "\n",
    "def reducir_lista(lista):\n",
    "    lista = set(lista)\n",
    "    lista = list(lista)\n",
    "    lista.pop()\n",
    "    lista = sorted(lista)\n",
    "    return lista\n",
    "\n",
    "print(reducir_lista(lista_numeros))\n",
    "\n",
    "def promedio(lista):\n",
    "    total = 0\n",
    "    for x in lista:\n",
    "        total += x\n",
    "    promediar = total / len(lista)\n",
    "        \n",
    "    return (promediar)\n",
    "\n",
    "print(promedio(reducir_lista(lista_numeros)))\n",
    "    \n"
   ]
  },
  {
   "cell_type": "markdown",
   "metadata": {},
   "source": [
    "**Práctica sobre Interacción entre Funciones 3**\n",
    "\n",
    "Crea una función (llamada lanzar_moneda) que devuelva el resultado de lanzar una moneda (al azar). Dicha función debe poder devolver los resultados \"Cara\" o \"Cruz\", y no debe recibir argumentos para funcionar.\n",
    "\n",
    "Crea una segunda función (llamada probar_suerte), que tome dos argumentos: el primero, debe ser el resultado del lanzamiento de la moneda. El segundo argumento, será una lista de números cualquiera (debes crear una lista con valores y llamarla lista_numeros).\n",
    "\n",
    "* Si se le proporciona una \"Cara\", debe mostrar el mensaje al usuario: \n",
    "\n",
    "        \"La lista se autodestruirá\" \n",
    "    \n",
    "    y eliminarla (devolverla como lista vacía []).\n",
    "\n",
    "* Si se le proporciona una \"Cruz\", debe imprimir en pantalla: \n",
    "\n",
    "        \"La lista fue salvada\" \n",
    "    \n",
    "    y devolver la lista intacta."
   ]
  },
  {
   "cell_type": "code",
   "execution_count": 230,
   "metadata": {},
   "outputs": [
    {
     "name": "stdout",
     "output_type": "stream",
     "text": [
      "La lista fue salvada\n",
      "[1, 2, 3, 4, 5]\n"
     ]
    }
   ],
   "source": [
    "from random import choice\n",
    "\n",
    "lista_numeros = [1, 2, 3, 4, 5]\n",
    "\n",
    "def lanzar_moneda():\n",
    "    coin = choice(['Cara', 'Cruz'])\n",
    "    return coin\n",
    "\n",
    "\n",
    "def probar_suerte(moneda, lista):\n",
    "    if moneda == 'Cara':\n",
    "        print('La lista se autodestruirá')\n",
    "        return []\n",
    "    elif moneda == 'Cruz':\n",
    "        print('La lista fue salvada')\n",
    "        return lista\n",
    "print(probar_suerte(lanzar_moneda(), lista_numeros))\n"
   ]
  }
 ],
 "metadata": {
  "kernelspec": {
   "display_name": "Python 3",
   "language": "python",
   "name": "python3"
  },
  "language_info": {
   "codemirror_mode": {
    "name": "ipython",
    "version": 3
   },
   "file_extension": ".py",
   "mimetype": "text/x-python",
   "name": "python",
   "nbconvert_exporter": "python",
   "pygments_lexer": "ipython3",
   "version": "3.10.10"
  }
 },
 "nbformat": 4,
 "nbformat_minor": 2
}
