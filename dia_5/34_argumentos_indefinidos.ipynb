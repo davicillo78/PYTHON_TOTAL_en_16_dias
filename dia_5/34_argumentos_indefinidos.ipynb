{
 "cells": [
  {
   "cell_type": "markdown",
   "metadata": {},
   "source": [
    "# Argumentos indefinidos *args #\n",
    "\n",
    "Los argumentos de las funciones, como hemos dicho, son los parámetros que debemos proporcionar a la función para que esta realice su trabajo.\n",
    "\n",
    "Se puede dar la circunstancia de que debamos realizar una función donde los argumentos no estén definidos en cantidad. Por ejemplo, una función que sume todos los números que el usuario quiera introducir.\n",
    "\n",
    "Debemos entonces definir la función y establecer un número indefinido o variable de argumentos. Se utiliza por convención (*args)\n",
    "\n",
    "    def nombre_funcion(*args):"
   ]
  },
  {
   "cell_type": "code",
   "execution_count": 4,
   "metadata": {},
   "outputs": [
    {
     "name": "stdout",
     "output_type": "stream",
     "text": [
      "11\n"
     ]
    },
    {
     "ename": "TypeError",
     "evalue": "suma() takes 2 positional arguments but 3 were given",
     "output_type": "error",
     "traceback": [
      "\u001b[1;31m---------------------------------------------------------------------------\u001b[0m",
      "\u001b[1;31mTypeError\u001b[0m                                 Traceback (most recent call last)",
      "Cell \u001b[1;32mIn [4], line 5\u001b[0m\n\u001b[0;32m      3\u001b[0m     \u001b[38;5;28;01mreturn\u001b[39;00m a \u001b[38;5;241m+\u001b[39m b\n\u001b[0;32m      4\u001b[0m \u001b[38;5;28mprint\u001b[39m(suma(\u001b[38;5;241m5\u001b[39m, \u001b[38;5;241m6\u001b[39m))\n\u001b[1;32m----> 5\u001b[0m \u001b[38;5;28mprint\u001b[39m(\u001b[43msuma\u001b[49m\u001b[43m(\u001b[49m\u001b[38;5;241;43m5\u001b[39;49m\u001b[43m,\u001b[49m\u001b[43m \u001b[49m\u001b[38;5;241;43m6\u001b[39;49m\u001b[43m,\u001b[49m\u001b[43m \u001b[49m\u001b[38;5;241;43m4\u001b[39;49m\u001b[43m)\u001b[49m)\n",
      "\u001b[1;31mTypeError\u001b[0m: suma() takes 2 positional arguments but 3 were given"
     ]
    }
   ],
   "source": [
    "#función con argumentos definidos\n",
    "def suma(a, b):\n",
    "    return a + b\n",
    "print(suma(5, 6))\n",
    "print(suma(5, 6, 4)) # Si introducimos otro argumento, nos arroja un TypeError por introducir más argumentos de los definidos en la función"
   ]
  },
  {
   "cell_type": "code",
   "execution_count": 6,
   "metadata": {},
   "outputs": [
    {
     "name": "stdout",
     "output_type": "stream",
     "text": [
      "21\n",
      "35\n"
     ]
    }
   ],
   "source": [
    "#función con argumentos indefinidos\n",
    "def suma(*args):\n",
    "    return(sum(args))\n",
    "print(suma(1, 2, 3, 4, 5, 6))\n",
    "\n",
    "#podemos incluuir una variable y un loop en la función para realizar la misma operación\n",
    "def suma2(*args):\n",
    "    total = 0\n",
    "    for num in args:\n",
    "        total += num\n",
    "    return total\n",
    "\n",
    "print(suma(5, 6, 7, 8, 9))"
   ]
  },
  {
   "cell_type": "code",
   "execution_count": 9,
   "metadata": {},
   "outputs": [
    {
     "name": "stdout",
     "output_type": "stream",
     "text": [
      "41\n"
     ]
    }
   ],
   "source": [
    "#Crea una función llamada suma_cuadrados que tome una cantidad indeterminada de argumentos numéricos, y que retorne la suma de sus valores al cuadrado.\n",
    "def suma_cuadrados(*args):\n",
    "    total = 0\n",
    "    for x in args:\n",
    "        total += x ** 2\n",
    "    return total\n",
    "print(suma_cuadrados(4, 5))"
   ]
  },
  {
   "cell_type": "code",
   "execution_count": 24,
   "metadata": {},
   "outputs": [
    {
     "name": "stdout",
     "output_type": "stream",
     "text": [
      "75\n"
     ]
    }
   ],
   "source": [
    "#Crea una función llamada suma_absolutos, que tome un conjunto de argumentos de cualquier extensión, y retorne la suma de sus valores absolutos \n",
    "# (es decir, que tome los valores sin signo y los sume, o lo que es lo mismo, los considere a todos -negativos y positivos- como positivos).\n",
    "def suma_absolutos(*args):\n",
    "    total = 0\n",
    "    for arg in args:\n",
    "        total += abs(arg)\n",
    "    return total\n",
    "print(suma_absolutos(3, 5, -67))"
   ]
  },
  {
   "cell_type": "code",
   "execution_count": 28,
   "metadata": {},
   "outputs": [
    {
     "name": "stdout",
     "output_type": "stream",
     "text": [
      "David, la suma de tus números es 81\n"
     ]
    }
   ],
   "source": [
    "#Crea una función llamada numeros_persona que reciba, como primer argumento, un nombre, y a continuación, una cantidad indefinida de números.\n",
    "#La función debe devolver el siguiente mensaje:\n",
    "#\"{nombre}, la suma de tus números es {suma_numeros}\"\n",
    "\n",
    "def numeros_persona(nombre, *args):\n",
    "    return(f'{nombre}, la suma de tus números es {sum(args)}')\n",
    "\n",
    "print(numeros_persona('David', 23, 4, 54))"
   ]
  }
 ],
 "metadata": {
  "kernelspec": {
   "display_name": "Python 3",
   "language": "python",
   "name": "python3"
  },
  "language_info": {
   "codemirror_mode": {
    "name": "ipython",
    "version": 3
   },
   "file_extension": ".py",
   "mimetype": "text/x-python",
   "name": "python",
   "nbconvert_exporter": "python",
   "pygments_lexer": "ipython3",
   "version": "3.10.10"
  }
 },
 "nbformat": 4,
 "nbformat_minor": 2
}
