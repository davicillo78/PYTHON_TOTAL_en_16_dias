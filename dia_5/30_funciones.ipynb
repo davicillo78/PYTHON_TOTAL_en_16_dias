{
 "cells": [
  {
   "cell_type": "markdown",
   "metadata": {},
   "source": [
    "# Funciones #\n",
    "\n",
    "Hemos visto que los métodos son funciones. Pero estas funciones estén integradas en el lenguaje Python y tienen sus nombres específicos.\n",
    "\n",
    "Pero también podemos crear nuestras propias funciones, con nuestro propio nombre, y que realizan una acción determinada definida por nuestro código.\n",
    "\n",
    "Como toda función tiene unas reglas y una sintáxis. Se crean con la palabra clave def seguida del nombre de la función y entre paréntesis, los parámetros y argumentos que necesita dicha función para realizar la acción que le indiquemos. Además, como todo bloque de código, termina con dos puntos y las siguientes líneas indentadas.\n",
    "\n",
    "Se considera buena práctica que la siguiente línea despues de declarar la función sea para comentar brevemente qué hace dicha función.\n",
    "\n",
    "    def nombre_funcion(argumento1, argumento2, ...):\n",
    "        '''descripcion de la funcion'''\n",
    "        codigo de la propia funcion\n",
    "\n",
    "\n",
    "Para ejecutar la función, simplemente la escribimos y en los paréntesis introducimos los argumentos o parámetros que queramos que trabajen en esa función.\n",
    "\n",
    "    nombre_funcion(argumentos)"
   ]
  },
  {
   "cell_type": "code",
   "execution_count": 2,
   "metadata": {},
   "outputs": [
    {
     "name": "stdout",
     "output_type": "stream",
     "text": [
      "Hola David\n",
      "Hola Fernando\n"
     ]
    }
   ],
   "source": [
    "#defiminos la funcion\n",
    "def saludar_personas(nombre):\n",
    "    '''imprime en pantalla 'Hola' seguido\n",
    "    del nombre indicado entre paréntesis'''\n",
    "    print(f'Hola {nombre}')\n",
    "\n",
    "saludar_personas('David')\n",
    "saludar_personas('Fernando')"
   ]
  },
  {
   "cell_type": "markdown",
   "metadata": {},
   "source": [
    "## return ##\n",
    "\n",
    "return es una sentencia utilizada para devolver el resultado de la función creada.\n",
    "\n",
    "De esta forma el resultado podemos directamente cargarlo en una variable para su utilización."
   ]
  },
  {
   "cell_type": "code",
   "execution_count": 4,
   "metadata": {},
   "outputs": [
    {
     "name": "stdout",
     "output_type": "stream",
     "text": [
      "12\n"
     ]
    }
   ],
   "source": [
    "def multiplicar(numero1, numero2):\n",
    "    return numero1 * numero2\n",
    "#si ejecutamos sin añadir ninguna linea más de código no veremos nada.\n",
    "\n",
    "#pero si almacenamos en una variable la funcion introduciendo dos números e imprimimos el resultado:\n",
    "multiplicacion = multiplicar(4, 3)\n",
    "print(multiplicacion)"
   ]
  }
 ],
 "metadata": {
  "kernelspec": {
   "display_name": "Python 3",
   "language": "python",
   "name": "python3"
  },
  "language_info": {
   "codemirror_mode": {
    "name": "ipython",
    "version": 3
   },
   "file_extension": ".py",
   "mimetype": "text/x-python",
   "name": "python",
   "nbconvert_exporter": "python",
   "pygments_lexer": "ipython3",
   "version": "3.10.10"
  }
 },
 "nbformat": 4,
 "nbformat_minor": 2
}
