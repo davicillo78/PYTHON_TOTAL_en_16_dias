{
 "cells": [
  {
   "cell_type": "markdown",
   "metadata": {},
   "source": [
    "# Ejercicios con funciones #\n",
    "\n",
    "Vamos a realizar ejercicios con funciones.\n",
    "\n",
    "Por ejemplo, desempaquetamos tuples."
   ]
  },
  {
   "cell_type": "code",
   "execution_count": 14,
   "metadata": {},
   "outputs": [
    {
     "name": "stdout",
     "output_type": "stream",
     "text": [
      "('Capuccino', 1.5)\n",
      "('Expresso', 1.2)\n",
      "('Moka', 1.9)\n",
      "Capuccino\n",
      "Expresso\n",
      "Moka\n",
      "1.5\n",
      "1.2\n",
      "1.9\n",
      "Capuccino --> 1.5\n",
      "Expresso --> 1.2\n",
      "Moka --> 1.9\n",
      "0.675\n",
      "0.54\n",
      "0.855\n"
     ]
    }
   ],
   "source": [
    "precios_cafe = [('Capuccino', 1.5), ('Expresso', 1.2), ('Moka', 1.9)]\n",
    "\n",
    "for elemento in precios_cafe:\n",
    "    #imprimimos las tuplas\n",
    "    print(elemento)\n",
    "\n",
    "#podemos desempaquetar las tuplas, eligiendo una parte, la otra, o ambas\n",
    "for cafe, precio in precios_cafe:\n",
    "    print(cafe)\n",
    "\n",
    "for cafe, precio in precios_cafe:\n",
    "    print(precio)\n",
    "    \n",
    "for cafe, precio in precios_cafe:\n",
    "    print(cafe, '-->', precio)\n",
    "\n",
    "#Podemos realizar operaciones desempaquetando las tuplas. Por ejemplo, si el costo del cafe es un 45% del precio de venta:\n",
    "for cafe, precio in precios_cafe:\n",
    "    print(precio * 0.45)"
   ]
  },
  {
   "cell_type": "code",
   "execution_count": 15,
   "metadata": {},
   "outputs": [
    {
     "name": "stdout",
     "output_type": "stream",
     "text": [
      "('Moka', 1.9)\n",
      "El cafe más caro es el Moka, y su precio es de 1.9 €\n"
     ]
    }
   ],
   "source": [
    "#calcula el cafe con el precio más alto\n",
    "\n",
    "def cafe_mas_caro(precios_cafe):\n",
    "    #itera el listado de cafes y devuelve el café más caro y su precio\n",
    "    precio_mayor = 0\n",
    "    cafe_mas_caro = ''\n",
    "    for cafe, precio in precios_cafe:\n",
    "        if precio > precio_mayor:\n",
    "            precio_mayor = precio\n",
    "            cafe_mas_caro = cafe\n",
    "        else:\n",
    "            pass\n",
    "    \n",
    "    return (cafe_mas_caro, precio_mayor)\n",
    "\n",
    "print(cafe_mas_caro(precios_cafe))\n",
    "cafe, precio = cafe_mas_caro(precios_cafe)\n",
    "\n",
    "print(f'El cafe más caro es el {cafe}, y su precio es de {precio} €')"
   ]
  }
 ],
 "metadata": {
  "kernelspec": {
   "display_name": "Python 3",
   "language": "python",
   "name": "python3"
  },
  "language_info": {
   "codemirror_mode": {
    "name": "ipython",
    "version": 3
   },
   "file_extension": ".py",
   "mimetype": "text/x-python",
   "name": "python",
   "nbconvert_exporter": "python",
   "pygments_lexer": "ipython3",
   "version": "3.10.10"
  }
 },
 "nbformat": 4,
 "nbformat_minor": 2
}
