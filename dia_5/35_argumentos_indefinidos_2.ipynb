{
 "cells": [
  {
   "cell_type": "markdown",
   "metadata": {},
   "source": [
    "# Argumentos indefinidos **kwargs # \n",
    "\n",
    "Su nombre viene de key word args. Esto nos da una idea del tipo de estructuras con el que van a trabajar estas funciones.\n",
    "\n",
    "Se puede utilizar cualquier nombre, pero por convención se aconseja utilizar **kwargs.\n",
    "\n",
    "Al funcionar con diccionarios, podemos utilizar la función para trabajar con cada par clave:valor, con las claves solas o con los valores solos."
   ]
  },
  {
   "cell_type": "code",
   "execution_count": 3,
   "metadata": {},
   "outputs": [
    {
     "name": "stdout",
     "output_type": "stream",
     "text": [
      "<class 'dict'>\n"
     ]
    }
   ],
   "source": [
    "#crea un diccionario con los kwargs\n",
    "def suma(**kwargs):\n",
    "    print(type(kwargs))\n",
    "\n",
    "suma(x=3, y=5, z=2)"
   ]
  },
  {
   "cell_type": "code",
   "execution_count": 6,
   "metadata": {},
   "outputs": [
    {
     "name": "stdout",
     "output_type": "stream",
     "text": [
      "x = 3\n",
      "y = 5\n",
      "z = 2\n"
     ]
    },
    {
     "data": {
      "text/plain": [
       "10"
      ]
     },
     "execution_count": 6,
     "metadata": {},
     "output_type": "execute_result"
    }
   ],
   "source": [
    "def suma(**kwargs):\n",
    "    total = 0\n",
    "    for clave, valor in kwargs.items():\n",
    "        print(f\"{clave} = {valor}\")\n",
    "        total += valor\n",
    "    return total\n",
    "suma(x=3, y=5, z=2)"
   ]
  },
  {
   "cell_type": "markdown",
   "metadata": {},
   "source": [
    "### Combinación de todo tipo de argumntos ###"
   ]
  },
  {
   "cell_type": "code",
   "execution_count": 8,
   "metadata": {},
   "outputs": [
    {
     "name": "stdout",
     "output_type": "stream",
     "text": [
      "El primer valor es 15\n",
      "El segundo valor es 50\n",
      "arg = 100\n",
      "arg = 200\n",
      "arg = 300\n",
      "arg = 400\n",
      "x = uno\n",
      "y = dos\n",
      "z = tres\n"
     ]
    }
   ],
   "source": [
    "def prueba (num1, num2, *args, **kwargs):\n",
    "    \n",
    "    print(f'El primer valor es {num1}')\n",
    "    print(f'El segundo valor es {num2}')\n",
    "    \n",
    "    for arg in args:\n",
    "        print(f'arg = {arg}')\n",
    "    \n",
    "    for clave, valor in kwargs.items():\n",
    "        print(f\"{clave} = {valor}\")\n",
    "\n",
    "prueba(15, 50, 100, 200, 300, 400, x='uno', y='dos', z='tres')\n",
    "#como podemos ver, es que la función es capaz de diferenciar cuendo esta tratando argumentos definidos, *args y **kwargs"
   ]
  },
  {
   "cell_type": "code",
   "execution_count": 10,
   "metadata": {},
   "outputs": [
    {
     "name": "stdout",
     "output_type": "stream",
     "text": [
      "El primer valor es 15\n",
      "El segundo valor es 50\n",
      "arg = 100\n",
      "arg = 200\n",
      "arg = 300\n",
      "arg = 400\n",
      "x = uno\n",
      "y = dos\n",
      "z = tres\n"
     ]
    }
   ],
   "source": [
    "#desempaquetado de tuplas\n",
    "\n",
    "def prueba2 (num1, num2, *args, **kwargs):\n",
    "    \n",
    "    print(f'El primer valor es {num1}')\n",
    "    print(f'El segundo valor es {num2}')\n",
    "    \n",
    "    for arg in args:\n",
    "        print(f'arg = {arg}')\n",
    "    \n",
    "    for clave, valor in kwargs.items():\n",
    "        print(f\"{clave} = {valor}\")\n",
    "args = [100, 200, 300, 400]\n",
    "kwargs = {'x':'uno', 'y':'dos', 'z':'tres'}\n",
    "\n",
    "prueba2(15, 50, *args, **kwargs)"
   ]
  },
  {
   "cell_type": "markdown",
   "metadata": {},
   "source": [
    "##### Ejercicios #####"
   ]
  },
  {
   "cell_type": "markdown",
   "metadata": {},
   "source": [
    "Crea una función llamada **cantidad_atributos** que cuente la cantidad de parémetros que se entregan, y devuelva esa cantidad como resultado."
   ]
  },
  {
   "cell_type": "code",
   "execution_count": 13,
   "metadata": {},
   "outputs": [
    {
     "name": "stdout",
     "output_type": "stream",
     "text": [
      "4\n"
     ]
    }
   ],
   "source": [
    "def cantidad_atributos(**kwargs):\n",
    "    cuenta = 0\n",
    "    for arg in kwargs:\n",
    "        cuenta += 1\n",
    "    return cuenta\n",
    "\n",
    "print(cantidad_atributos(x=3, y=3, z=0, a=45))"
   ]
  },
  {
   "cell_type": "markdown",
   "metadata": {},
   "source": [
    "Crea una función llamada **lista_atributos** que devuelva en forma de lista los valores de los atributos entregados en forma de palabras clave (keywords).\n",
    "\n",
    "La función debe preveer recibir cualquier cantidad de argumentos de este tipo."
   ]
  },
  {
   "cell_type": "code",
   "execution_count": 17,
   "metadata": {},
   "outputs": [
    {
     "name": "stdout",
     "output_type": "stream",
     "text": [
      "[3, 3, 0, 45]\n"
     ]
    }
   ],
   "source": [
    "def lista_atributos(**kwargs):\n",
    "    lista = []\n",
    "    for value in kwargs.values():\n",
    "        lista.append(value)\n",
    "    return lista\n",
    "\n",
    "print(lista_atributos(x=3, y=3, z=0, a=45))"
   ]
  },
  {
   "cell_type": "markdown",
   "metadata": {},
   "source": [
    "Crea una función llamada **describir_persona**, que tome como parámetros su nombre y luego una cantidad indetermida de argumentos. \n",
    "\n",
    "Esta función deberá mostrar en pantalla:\n",
    "\n",
    "    Características de {nombre}:\n",
    "    {nombre_argumento}: {valor_argumento}\n",
    "    {nombre_argumento}: {valor_argumento}\n",
    "    etc...\n",
    "\n",
    "\n",
    "Por ejemplo:\n",
    "\n",
    "    describir_persona(\"María\", color_ojos=\"azules\", color_pelo=\"rubio\")\n",
    "\n",
    "Mostrará en pantalla:\n",
    "\n",
    "    Características de María:\n",
    "    color_ojos: azules\n",
    "    color_pelo: rubio"
   ]
  },
  {
   "cell_type": "code",
   "execution_count": 20,
   "metadata": {},
   "outputs": [
    {
     "name": "stdout",
     "output_type": "stream",
     "text": [
      "Características de María:\n",
      "color_ojos : azules\n",
      "color_pelo : rubio\n"
     ]
    }
   ],
   "source": [
    "def describir_persona(nombre, **kwargs):\n",
    "    print(f'Características de {nombre}:')\n",
    "    for key,value in kwargs.items():\n",
    "        print(f'{key} : {value}')\n",
    "\n",
    "describir_persona(\"María\", color_ojos=\"azules\", color_pelo=\"rubio\")"
   ]
  }
 ],
 "metadata": {
  "kernelspec": {
   "display_name": "Python 3",
   "language": "python",
   "name": "python3"
  },
  "language_info": {
   "codemirror_mode": {
    "name": "ipython",
    "version": 3
   },
   "file_extension": ".py",
   "mimetype": "text/x-python",
   "name": "python",
   "nbconvert_exporter": "python",
   "pygments_lexer": "ipython3",
   "version": "3.10.10"
  }
 },
 "nbformat": 4,
 "nbformat_minor": 2
}
