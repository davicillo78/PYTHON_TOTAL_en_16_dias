{
 "cells": [
  {
   "cell_type": "markdown",
   "metadata": {},
   "source": [
    "# Funciones dinámicas #\n",
    "\n",
    "Ahora que hemos asentado las bases de las funciones, su creación y su utilización, vamos a desarrollar la complejidad de las mismas combinando condicionales y loops, que nos van a permitir aumentar el potencial de las funciones."
   ]
  },
  {
   "cell_type": "code",
   "execution_count": 17,
   "metadata": {},
   "outputs": [
    {
     "name": "stdout",
     "output_type": "stream",
     "text": [
      "True\n",
      "False\n",
      "True\n",
      "None\n",
      "True\n"
     ]
    }
   ],
   "source": [
    "#hemos visto operaciones matemáticas simples con un par de números,\n",
    "#y si ahora usamos una funcion para realizar una comprobacion?\n",
    "\n",
    "def chequear_numero(numero):\n",
    "    return numero in range(100, 1000)\n",
    "resultado = chequear_numero(658)\n",
    "print(resultado) #True\n",
    "\n",
    "#si introducimos un numero de 2 cifras:\n",
    "resultado  = chequear_numero(45)\n",
    "print(resultado) #False\n",
    "\n",
    "#podemos crear una variable con una operacion y llamar a la funcions, dándola como parametros dicha variable\n",
    "suma = 234 + 45\n",
    "resultado = chequear_numero(suma)\n",
    "print(resultado) #True\n",
    "\n",
    "#ahora podemos pedirle a la funcion, que en lugar de chequear un número, lo haga con una lista:\n",
    "\n",
    "def chequear_numero(lista):\n",
    "    for numero in lista:\n",
    "        if numero in range(100, 1000):\n",
    "            return True #si se da esta condición, interrumpe la iteración\n",
    "    else:\n",
    "        pass\n",
    "    \n",
    "resultado = chequear_numero([55, 99, 65565])\n",
    "print(resultado) #devuelve None porque no hay ningún resultado que coincida con la condicional, por tanto nunca llega a la sección de return\n",
    "#al no poder devolver nada, nos devuelve un Nonetype\n",
    "\n",
    "#si introducimos un numero que si esté dentro del rango:\n",
    "resultado = chequear_numero([55, 999, 65565])\n",
    "print(resultado) #True"
   ]
  },
  {
   "cell_type": "code",
   "execution_count": 18,
   "metadata": {},
   "outputs": [
    {
     "name": "stdout",
     "output_type": "stream",
     "text": [
      "False\n",
      "[555, 234]\n"
     ]
    }
   ],
   "source": [
    "#si queremos que nos devuelva false en caso de no encontrar ninguna condicion cumplida, en lugar de None, debemos insertar un return fuera del bloque del loop\n",
    "\n",
    "def chequear_numero(lista):\n",
    "    for numero in lista:\n",
    "        if numero in range(100, 1000):\n",
    "            return True #si se da esta condición, interrumpe la iteración\n",
    "        else:\n",
    "            pass\n",
    "    return False #<------- devuelve False si no hay condición\n",
    "\n",
    "resultado = chequear_numero([55, 99, 65565])\n",
    "print(resultado) #False\n",
    "\n",
    "#Queremos que devuelva los números que coincidan con la condición\n",
    "\n",
    "def chequear_numero(lista):\n",
    "    listado = []\n",
    "    for numero in lista:\n",
    "        if numero in range(100, 1000):\n",
    "            listado.append(numero)\n",
    "        else:\n",
    "            pass\n",
    "        \n",
    "    return listado\n",
    "\n",
    "resultado = chequear_numero([555, 99, 234])\n",
    "print(resultado)"
   ]
  },
  {
   "cell_type": "code",
   "execution_count": 25,
   "metadata": {},
   "outputs": [
    {
     "name": "stdout",
     "output_type": "stream",
     "text": [
      "False\n",
      "151\n",
      "5\n"
     ]
    }
   ],
   "source": [
    "#Ejercicios:\n",
    "\n",
    "#Crea una función que reciba una lista de números y devuelva True si todos los números de la lista son positivos.\n",
    "#Devuelve False si hay algún negativo\n",
    "\n",
    "def todos_positivos(lista):\n",
    "    \n",
    "    for n in lista:\n",
    "        if n < 0:\n",
    "            return False\n",
    "        else:\n",
    "            pass\n",
    "    return True\n",
    "\n",
    "lista_numeros = [12, 3, 0, -1]\n",
    "print(todos_positivos(lista_numeros))\n",
    "\n",
    "\n",
    "# Crear una funcion que sume los números de una lista. Se almacena en la variable lista_numeros siempre que estén entre 0 y 1000.\n",
    "#Al final devolver el resultado de dicha suma\n",
    "\n",
    "def suma_menores(lista):\n",
    "    lista_numeros = 0\n",
    "    \n",
    "    for n in lista:\n",
    "        if n > 0 and n < 1000:\n",
    "            lista_numeros += n\n",
    "        else:\n",
    "            pass\n",
    "    \n",
    "    return lista_numeros\n",
    "\n",
    "print(suma_menores([-2, 90, 34, 4, 23, 2500]))\n",
    "\n",
    "#Crea una función (cantidad_pares) que cuente la cantidad de números pares que existen en una lista (lista_numeros), y devuelva el resultado de dicha cuenta.\n",
    "\n",
    "lista_numeros = [1, 2, 3, 4, 5, 6, 7, 8, 9, 10]\n",
    "\n",
    "def cantidad_pares(lista_numeros):\n",
    "    pares = []\n",
    "    for num in lista_numeros:\n",
    "        if num % 2 == 0:\n",
    "            pares.append(num)\n",
    "        else:\n",
    "            pass\n",
    "    return len(pares)\n",
    "\n",
    "print(cantidad_pares(lista_numeros))"
   ]
  }
 ],
 "metadata": {
  "kernelspec": {
   "display_name": "Python 3",
   "language": "python",
   "name": "python3"
  },
  "language_info": {
   "codemirror_mode": {
    "name": "ipython",
    "version": 3
   },
   "file_extension": ".py",
   "mimetype": "text/x-python",
   "name": "python",
   "nbconvert_exporter": "python",
   "pygments_lexer": "ipython3",
   "version": "3.10.10"
  }
 },
 "nbformat": 4,
 "nbformat_minor": 2
}
